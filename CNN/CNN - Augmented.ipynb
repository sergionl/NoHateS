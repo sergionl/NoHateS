{
 "cells": [
  {
   "cell_type": "code",
   "execution_count": 1,
   "metadata": {
    "colab": {
     "base_uri": "https://localhost:8080/"
    },
    "id": "PTqhrPaSeE-z",
    "outputId": "014274b9-63e2-4ea6-a29d-84046514eade"
   },
   "outputs": [],
   "source": [
    "# from google.colab import drive\n",
    "# drive.mount('/content/drive')"
   ]
  },
  {
   "cell_type": "code",
   "execution_count": 2,
   "metadata": {
    "colab": {
     "base_uri": "https://localhost:8080/"
    },
    "id": "tL1iFjECh3_6",
    "outputId": "efa62550-a30b-4fa3-d673-147bf0a49009"
   },
   "outputs": [],
   "source": [
    "# !pip install transformers -qq\n",
    "# !pip install sentencepiece -qq\n",
    "# !pip install tokenizer -qq"
   ]
  },
  {
   "cell_type": "markdown",
   "metadata": {
    "id": "C-pzooQXh5S7"
   },
   "source": [
    "##Load Dataset"
   ]
  },
  {
   "cell_type": "code",
   "execution_count": 3,
   "metadata": {},
   "outputs": [],
   "source": [
    "from sklearn.model_selection import train_test_split"
   ]
  },
  {
   "cell_type": "code",
   "execution_count": 4,
   "metadata": {},
   "outputs": [],
   "source": [
    "def to_df(x, y):\n",
    "    d = {\"text\": x, \"label\": y}\n",
    "    return pd.DataFrame(d)"
   ]
  },
  {
   "cell_type": "code",
   "execution_count": 5,
   "metadata": {},
   "outputs": [
    {
     "name": "stderr",
     "output_type": "stream",
     "text": [
      "C:\\ProgramData\\Anaconda3\\envs\\anti-disc\\lib\\site-packages\\tqdm\\auto.py:21: TqdmWarning: IProgress not found. Please update jupyter and ipywidgets. See https://ipywidgets.readthedocs.io/en/stable/user_install.html\n",
      "  from .autonotebook import tqdm as notebook_tqdm\n"
     ]
    }
   ],
   "source": [
    "import random\n",
    "from itertools import chain\n",
    "import nlpaug.augmenter.char as nac\n",
    "import nlpaug.augmenter.word as naw\n",
    "from nlpaug.util import Action\n",
    "\n",
    "\n",
    "alpha_common_error = 0.10\n",
    "alpha_common_error_char = 0.05\n",
    "aug1_OCR = nac.OcrAug(aug_word_p=alpha_common_error)\n",
    "aug2_Rins = nac.RandomCharAug(action=\"insert\", aug_word_p=alpha_common_error, aug_char_min=1, aug_char_max=1, aug_char_p=alpha_common_error_char)\n",
    "aug3_Rsub = nac.RandomCharAug(action=\"substitute\", aug_word_p=alpha_common_error, aug_char_min=1, aug_char_max=1, aug_char_p=alpha_common_error_char)\n",
    "aug4_Rswa = nac.RandomCharAug(action=\"swap\", aug_word_p=alpha_common_error,aug_char_min=1, aug_char_max=1, aug_char_p=alpha_common_error_char) #\n",
    "aug5_Rdel = nac.RandomCharAug(action=\"delete\", aug_word_p=alpha_common_error, aug_char_min=1, aug_char_max=1, aug_char_p=alpha_common_error_char)\n",
    "aug6_Kb = nac.KeyboardAug(aug_word_p=alpha_common_error)\n",
    "aug7_Split = naw.SplitAug(aug_p=alpha_common_error)\n",
    "\n",
    "\n",
    "def text2augment(text, m):\n",
    "    output = [text, ]\n",
    "\n",
    "    temp = random.sample(range(0, 7), m - 1)\n",
    "\n",
    "    if 0 in temp:\n",
    "        output.append( *aug1_OCR.augment(text))\n",
    "    if 1 in temp:\n",
    "        output.append( *aug2_Rins.augment(text))\n",
    "    if 2 in temp:\n",
    "        output.append( *aug3_Rsub.augment(text))\n",
    "    if 3 in temp:\n",
    "        output.append( *aug4_Rswa.augment(text))\n",
    "    if 4 in temp:\n",
    "        output.append( *aug5_Rdel.augment(text))\n",
    "    if 5 in temp:\n",
    "        output.append( *aug6_Kb.augment(text))\n",
    "    if 6 in temp:\n",
    "        output.append( *aug7_Split.augment(text))\n",
    "\n",
    "    return output\n",
    "\n",
    "\n",
    "def aug_replicate(y_labels):\n",
    "    return list(chain(* [[y]*(2 if y == 0 else 4) for y in y_labels] ))\n",
    "\n",
    "def aug_text(x_text, y_labels):\n",
    "    x_text = [ text2augment(x, 2 if y == 0 else 4) for x, y in zip(x_text, y_labels)]\n",
    "    return pd.Series(list(chain(*x_text)), index=None)\n",
    "\n",
    "def split_3_aug(df, test_size=0.2, valid_size=0.2):\n",
    "    _df = df.copy().sample(frac=1).reset_index()\n",
    "    _df = _df[[\"text\", \"label\"]]\n",
    "\n",
    "    x = _df[\"text\"].copy()\n",
    "    y = _df[\"label\"].copy()\n",
    "    #split train-test\n",
    "    x_train, x_test, y_train, y_test = train_test_split(x, y, test_size=test_size, stratify=y)\n",
    "    # augment\n",
    "    # x_test = aug_text(x_test, y_test)\n",
    "    # y_test = aug_replicate(y_test)\n",
    "    # split train-valid\n",
    "    x, y = x_train, y_train\n",
    "    x_train, x_valid, y_train, y_valid = train_test_split(x, y, test_size=valid_size, stratify=y)\n",
    "    # augment\n",
    "    x_train = aug_text(x_train, y_train)\n",
    "    y_train = aug_replicate(y_train)\n",
    "    x_valid = aug_text(x_valid, y_valid)\n",
    "    y_valid = aug_replicate(y_valid)\n",
    "\n",
    "    print(x_valid.shape)\n",
    "    print(\"DONE\")\n",
    "    print(len(y_valid))\n",
    "\n",
    "    print(x_train.shape)\n",
    "    print(\"DONE\")\n",
    "    print(len(y_train))\n",
    "\n",
    "    return to_df(x_train, y_train), to_df(x_valid, y_valid), to_df(x_test, y_test)"
   ]
  },
  {
   "cell_type": "code",
   "execution_count": 6,
   "metadata": {
    "id": "WTMXPNE2W6NJ"
   },
   "outputs": [
    {
     "name": "stdout",
     "output_type": "stream",
     "text": [
      "(5772,)\n",
      "DONE\n",
      "5772\n",
      "(23082,)\n",
      "DONE\n",
      "23082\n"
     ]
    }
   ],
   "source": [
    "import numpy as np\n",
    "import pandas as pd\n",
    "\n",
    "tname_data = \"./hsd_merge_cleaned_lowered\"\n",
    "data = pd.read_csv(f\"{tname_data}.csv\")\n",
    "\n",
    "train, valid, test = split_3_aug(data)\n",
    "\n",
    "X_train = train['text']\n",
    "y_train = train['label']\n",
    "\n",
    "X_valid = valid['text']\n",
    "y_valid = valid['label']\n",
    "\n",
    "X_test = test['text']\n",
    "y_test = test['label']"
   ]
  },
  {
   "cell_type": "markdown",
   "metadata": {
    "id": "La-lPuGjCxbb"
   },
   "source": [
    "## Set Cuda"
   ]
  },
  {
   "cell_type": "code",
   "execution_count": 7,
   "metadata": {
    "colab": {
     "base_uri": "https://localhost:8080/"
    },
    "id": "SnuQNrQ5Cxi_",
    "outputId": "7362def3-6fad-4e21-c042-0aaec25c5496"
   },
   "outputs": [
    {
     "data": {
      "text/plain": [
       "True"
      ]
     },
     "execution_count": 7,
     "metadata": {},
     "output_type": "execute_result"
    }
   ],
   "source": [
    "import torch\n",
    "from torchtext import data\n",
    "from torchtext import datasets\n",
    "import random\n",
    "import numpy as np\n",
    "\n",
    "SEED = 1234\n",
    "\n",
    "random.seed(SEED)\n",
    "np.random.seed(SEED)\n",
    "torch.manual_seed(SEED)\n",
    "torch.backends.cudnn.deterministic = True\n",
    "\n",
    "torch.cuda.is_available()"
   ]
  },
  {
   "cell_type": "markdown",
   "metadata": {
    "id": "gHV2PrVfiBLg"
   },
   "source": [
    "# Extract feature by using BETO"
   ]
  },
  {
   "cell_type": "code",
   "execution_count": 8,
   "metadata": {
    "id": "MreD1ev6AgXM"
   },
   "outputs": [],
   "source": [
    "import pandas as pd\n",
    "from glob import glob\n",
    "\n",
    "train_sentences = list(train['text'].values)\n",
    "train_labels = list(train['label'].values)\n",
    "\n",
    "valid_sentences = list(valid['text'].values)\n",
    "valid_labels = list(valid['label'].values)\n",
    "\n",
    "test_sentences = list(test['text'].values)\n",
    "test_labels = list(test['label'].values)"
   ]
  },
  {
   "cell_type": "markdown",
   "metadata": {
    "id": "rNVMN4YPiNjp"
   },
   "source": [
    "Load tokenizer of BETO"
   ]
  },
  {
   "cell_type": "code",
   "execution_count": 9,
   "metadata": {
    "colab": {
     "base_uri": "https://localhost:8080/",
     "height": 177,
     "referenced_widgets": [
      "c48c4f713ca44faa8937175bebdf6c6d",
      "2b303687938c4bbba13a05080acb794c",
      "96120984681b4289bd7426a6118a1d37",
      "c0663d7248db49d3b4ed5a6a9796def1",
      "d2bb7e727c584c58a4052a2e0a4b08c4",
      "5baaec1531f74afb9d8cfbb079c3e992",
      "e376ec8aaf604ecca4eac602ba8043be",
      "e1fa799fab8945be9cce2d13921cbf86",
      "54851592b58248ab8662ec443755a0b1",
      "064cb390095f4aab987a8769450876c9",
      "396df66ae34044f28328ed678ce3cb22",
      "9c13322396144af19accc4a60f5f9a6b",
      "fcdf85265342449eb72f451b2546de39",
      "d82c1e0726824dac89737433d07037ef",
      "b2c49205e8884ad4ae5d66e16b642c52",
      "8e67f8ef68364154bbca6a4c354cc08d",
      "0620205fb18b42d4ac9f33c7691de048",
      "5dcc1f47fced401a86a692b01f0f0328",
      "d04539d3259f4cbcaffcedfb2e2a8365",
      "c68c44d272a74784bfce87794bdbc36a",
      "e02762509df044c18ac3a7e43d5672fd",
      "9919ae454a2242c6aaf3dcec2b4a4bc3",
      "ef0880b0f3d34f9f8eb6f3eafa0d454b",
      "0aa051c98bff4b2b8e7add59adeebb05",
      "40c151bf52514647967f515e44b4b704",
      "f7d1eb8484ba41588ee4c8adc9f23516",
      "ef5b8df303304b5299d13d836ad7d254",
      "c03e7708da694f18aa30441a013b1fc9",
      "addad7e91ccd4b9e8983aceef1d6403f",
      "0c091319694f40e898e29a72f7302072",
      "0705fa5adebc4d4fa7100e9e0da51246",
      "4c49a5468c264b62b013d93d270cb857",
      "dec36bc248f04ec38d6833a0347c80cb",
      "43f53d7074a44afab656c80bdeac7753",
      "36da9fbd060a413fa0b94e0ad8138375",
      "efd65b1f8bc54cf79b87b7e89311f6e4",
      "ead903e39b8c4d5a83e4740b32d39cc0",
      "a1b47d5a92f84f96abe2398fce65065f",
      "4f3caffb061345f4acb33fd60dc1365c",
      "cc27f52da07b4e7bb63ad14ce34cec5c",
      "c8bcdd8e27ad4323b86b3313fb581440",
      "8ac319acc89b4420ab0dbe247ab825d2",
      "75ebff29e5ce4a1e89cb53920a986dca",
      "fe1b2e93a687455d9d7dd73ca97d172f",
      "d46ae31061014052a36fbe1b3ec95c88",
      "f340bd3c9af543b09d70a007b65911c6",
      "e48c9d94e19a4f099f93a085d64ef61e",
      "3f6cdfa374e0435a9c672a646041c508",
      "e2711e2edefe4051a8d382b5af578759",
      "cc2034bf0be5422fa5895130f74fcf59",
      "b2db9fa7f8c94aa1ace082c36fdf3943",
      "2fa7ea86360a450ab8e2404e3c55158f",
      "a1e7294165644eb28e1be50e1cec1ad7",
      "2d6a4edc66114cb88a63439ab8632c38",
      "8e987f0dcc2445a38d4d22c4454872a8"
     ]
    },
    "id": "gI8SPqPcA8BS",
    "outputId": "4927cc30-4fbb-4d9f-f75a-5a9ff0513dab"
   },
   "outputs": [],
   "source": [
    "from transformers import AutoTokenizer\n",
    "\n",
    "tokenizer = AutoTokenizer.from_pretrained('dccuchile/bert-base-spanish-wwm-cased')"
   ]
  },
  {
   "cell_type": "code",
   "execution_count": 10,
   "metadata": {
    "colab": {
     "base_uri": "https://localhost:8080/"
    },
    "id": "5PNp5aRVA-Hb",
    "outputId": "bbeae07b-1bd6-439e-aca1-ebdbfe6dd348"
   },
   "outputs": [
    {
     "data": {
      "text/plain": [
       "[(22, 710),\n",
       " (23, 710),\n",
       " (17, 698),\n",
       " (21, 694),\n",
       " (19, 693),\n",
       " (24, 684),\n",
       " (18, 677),\n",
       " (12, 646),\n",
       " (26, 638),\n",
       " (25, 636),\n",
       " (20, 635),\n",
       " (15, 626),\n",
       " (27, 609),\n",
       " (11, 607),\n",
       " (10, 597),\n",
       " (16, 592),\n",
       " (13, 590),\n",
       " (14, 584),\n",
       " (28, 576),\n",
       " (9, 517),\n",
       " (31, 513),\n",
       " (29, 501),\n",
       " (30, 478),\n",
       " (32, 467),\n",
       " (33, 457),\n",
       " (8, 411),\n",
       " (34, 409),\n",
       " (35, 361),\n",
       " (36, 337),\n",
       " (7, 337),\n",
       " (37, 300),\n",
       " (38, 280),\n",
       " (39, 254),\n",
       " (40, 249),\n",
       " (6, 236),\n",
       " (42, 216),\n",
       " (41, 199),\n",
       " (43, 198),\n",
       " (5, 187),\n",
       " (53, 175),\n",
       " (54, 173),\n",
       " (51, 172),\n",
       " (47, 169),\n",
       " (44, 166),\n",
       " (45, 164),\n",
       " (46, 163),\n",
       " (49, 162),\n",
       " (48, 160),\n",
       " (50, 154),\n",
       " (56, 154),\n",
       " (57, 154),\n",
       " (52, 149),\n",
       " (58, 138),\n",
       " (55, 135),\n",
       " (59, 132),\n",
       " (61, 123),\n",
       " (60, 110),\n",
       " (62, 104),\n",
       " (64, 104),\n",
       " (66, 98),\n",
       " (65, 96),\n",
       " (63, 96),\n",
       " (4, 90),\n",
       " (68, 71),\n",
       " (67, 65),\n",
       " (69, 60),\n",
       " (70, 56),\n",
       " (72, 55),\n",
       " (71, 51),\n",
       " (3, 35),\n",
       " (74, 34),\n",
       " (73, 32),\n",
       " (75, 26),\n",
       " (77, 24),\n",
       " (76, 24),\n",
       " (78, 16),\n",
       " (81, 12),\n",
       " (79, 12),\n",
       " (80, 12),\n",
       " (2, 9),\n",
       " (82, 7),\n",
       " (83, 5),\n",
       " (84, 5),\n",
       " (86, 4),\n",
       " (1, 3),\n",
       " (88, 3),\n",
       " (87, 2),\n",
       " (85, 2),\n",
       " (91, 1),\n",
       " (92, 1),\n",
       " (89, 1),\n",
       " (116, 1),\n",
       " (95, 1),\n",
       " (105, 1),\n",
       " (109, 1)]"
      ]
     },
     "execution_count": 10,
     "metadata": {},
     "output_type": "execute_result"
    }
   ],
   "source": [
    "#choose max_length for phobert model based on the input length\n",
    "\n",
    "max_length = 0\n",
    "list_len=[]\n",
    "for sentence in train_sentences:\n",
    "    length = len(tokenizer.tokenize(sentence))\n",
    "    list_len.append(length)\n",
    "    \n",
    "from collections import Counter\n",
    "Counter(list_len).most_common(100)"
   ]
  },
  {
   "cell_type": "code",
   "execution_count": 11,
   "metadata": {
    "id": "dX5lBYCTD9bU"
   },
   "outputs": [],
   "source": [
    "# Encode train label\n",
    "\n",
    "from sklearn import preprocessing\n",
    "\n",
    "le = preprocessing.LabelEncoder()\n",
    "le.fit(train_labels)\n",
    "encoded_labels = le.transform(train_labels)\n",
    "encoded_test_labels = le.transform(valid_labels)"
   ]
  },
  {
   "cell_type": "code",
   "execution_count": 12,
   "metadata": {
    "colab": {
     "base_uri": "https://localhost:8080/"
    },
    "id": "e9XdWNkpFBgH",
    "outputId": "d7cd1781-9749-4125-d5a8-f3a660a8f605"
   },
   "outputs": [
    {
     "name": "stderr",
     "output_type": "stream",
     "text": [
      "C:\\ProgramData\\Anaconda3\\envs\\anti-disc\\lib\\site-packages\\transformers\\tokenization_utils_base.py:2354: FutureWarning: The `pad_to_max_length` argument is deprecated and will be removed in a future version, use `padding=True` or `padding='longest'` to pad to the longest sequence in the batch, or use `padding='max_length'` to pad to a max length. In this case, you can give a specific length with `max_length` (e.g. `max_length=45`) or leave max_length to None to pad to the maximal input size of the model (e.g. 512 for Bert).\n",
      "  warnings.warn(\n"
     ]
    },
    {
     "name": "stdout",
     "output_type": "stream",
     "text": [
      "Original:  a mi no me gusta porque el escudo es en blanco y negro y los colores del escudo no son esos puto fútbol​ moderno\n",
      "Token IDs: tensor([    4,  1013,  1153,  1084,  1129,  2816,  1817,  1040, 11888,  1058,\n",
      "         1036,  5122,  1042,  5499,  1042,  1065,  8855,  1072, 11888,  1084,\n",
      "         1404,  2651, 11935,  5921, 11897,     5,     1,     1,     1,     1],\n",
      "       device='cuda:0')\n"
     ]
    }
   ],
   "source": [
    "# Tokens IDs tensor\n",
    "\n",
    "def encoder_generator(sentences,labels):\n",
    "    \n",
    "    sent_index = []\n",
    "    input_ids = []\n",
    "    attention_masks =[]\n",
    "\n",
    "    for index,sent in enumerate(sentences):\n",
    "        \n",
    "        sent_index.append(index)\n",
    "        \n",
    "        encoded_dict = tokenizer.encode_plus(sent,\n",
    "                                             add_special_tokens=True,\n",
    "                                             max_length=30,\n",
    "                                             pad_to_max_length=True,\n",
    "                                             truncation = True,\n",
    "                                             return_attention_mask=True,\n",
    "                                             return_tensors='pt')\n",
    "        input_ids.append(encoded_dict['input_ids'])\n",
    "\n",
    "        attention_masks.append(encoded_dict['attention_mask'])\n",
    "\n",
    "    input_ids = torch.cat(input_ids,dim=0).cuda()\n",
    "    attention_masks = torch.cat(attention_masks,dim=0).cuda()\n",
    "    labels = torch.tensor(labels).cuda()\n",
    "    sent_index = torch.tensor(sent_index).cuda()\n",
    "\n",
    "    return sent_index,input_ids,attention_masks,labels\n",
    "\n",
    "train_sent_index,train_input_ids,train_attention_masks,train_encoded_label_tensors = encoder_generator(train_sentences,encoded_labels)\n",
    "valid_sent_index,valid_input_ids,valid_attention_masks,valid_encoded_label_tensors = encoder_generator(valid_sentences,encoded_test_labels)\n",
    "print('Original: ', train_sentences[0])\n",
    "print('Token IDs:', train_input_ids[0])"
   ]
  },
  {
   "cell_type": "code",
   "execution_count": 13,
   "metadata": {
    "colab": {
     "base_uri": "https://localhost:8080/"
    },
    "id": "_BYbqZ7NMMWw",
    "outputId": "639ca3da-af50-4d20-ebdd-263bddc13249"
   },
   "outputs": [
    {
     "name": "stdout",
     "output_type": "stream",
     "text": [
      "train data samples is 23082\n",
      "valid data samples is 5772\n"
     ]
    }
   ],
   "source": [
    "# Connvert train, dev input by using TensorDataset\n",
    "\n",
    "from torch.utils.data import TensorDataset,random_split\n",
    "\n",
    "train_dataset = TensorDataset(train_input_ids,train_attention_masks,train_encoded_label_tensors)\n",
    "valid_dataset = TensorDataset(valid_input_ids,valid_attention_masks,valid_encoded_label_tensors)\n",
    "\n",
    "print('train data samples is {}'.format(len(train_dataset)))\n",
    "print(\"valid data samples is {}\".format(len(valid_dataset)))"
   ]
  },
  {
   "cell_type": "code",
   "execution_count": 14,
   "metadata": {
    "id": "Em9Q1v0BMZZX"
   },
   "outputs": [],
   "source": [
    "# Set cuda by using device\n",
    "\n",
    "from torch.utils.data import DataLoader,RandomSampler,SequentialSampler\n",
    "\n",
    "bs=128\n",
    "\n",
    "device = torch.device('cuda' if torch.cuda.is_available() else 'cpu')\n",
    "\n",
    "train_data_loader = DataLoader(train_dataset,\n",
    "                              sampler=RandomSampler(train_dataset),\n",
    "                              batch_size=bs)\n",
    "valid_data_loader = DataLoader(valid_dataset,\n",
    "                              sampler=RandomSampler(valid_dataset),\n",
    "                              batch_size=bs)"
   ]
  },
  {
   "cell_type": "markdown",
   "metadata": {
    "id": "xEtD7kn4jbTl"
   },
   "source": [
    "Load model BETO"
   ]
  },
  {
   "cell_type": "code",
   "execution_count": 15,
   "metadata": {
    "colab": {
     "base_uri": "https://localhost:8080/",
     "height": 160,
     "referenced_widgets": [
      "92b478ab8c8e4a0daa999aad57e95ac3",
      "2bc8b1500a1c41bd807761a54bf916bb",
      "9ef62896ca1b43c18c1adf8a282ef398",
      "cc4bb9d6a8e948cba93d31d073ac03af",
      "a864f46b0bd545a7bd1e974c107e4ef8",
      "02e5d40f71764e9994ec9223756a8e69",
      "6d1c543f9c8e431582ea5bee80a1a1aa",
      "e94092c637004e37a98cbbc13bc8a8b9",
      "b9a4f2122c874921a99f81f72b49c8c1",
      "71cbdcbf71284cfd96b9ad5259f1c7c0",
      "26b3d8d6fde64d82ad49dc81b193275f"
     ]
    },
    "id": "sQiHRn2zMdIJ",
    "outputId": "c561baf0-dfa7-436b-bfab-ad0a0307ca74"
   },
   "outputs": [
    {
     "name": "stderr",
     "output_type": "stream",
     "text": [
      "Downloading pytorch_model.bin: 100%|██████████| 440M/440M [02:31<00:00, 2.89MB/s] \n",
      "Some weights of the model checkpoint at dccuchile/bert-base-spanish-wwm-cased were not used when initializing BertModel: ['cls.predictions.decoder.bias', 'cls.predictions.bias', 'cls.predictions.transform.LayerNorm.weight', 'cls.predictions.transform.dense.weight', 'cls.predictions.transform.LayerNorm.bias', 'cls.predictions.decoder.weight', 'cls.predictions.transform.dense.bias']\n",
      "- This IS expected if you are initializing BertModel from the checkpoint of a model trained on another task or with another architecture (e.g. initializing a BertForSequenceClassification model from a BertForPreTraining model).\n",
      "- This IS NOT expected if you are initializing BertModel from the checkpoint of a model that you expect to be exactly identical (initializing a BertForSequenceClassification model from a BertForSequenceClassification model).\n"
     ]
    }
   ],
   "source": [
    "from transformers import AutoModel\n",
    "\n",
    "beto = AutoModel.from_pretrained('dccuchile/bert-base-spanish-wwm-cased')\n",
    "beto = beto.to(device)"
   ]
  },
  {
   "cell_type": "markdown",
   "metadata": {
    "id": "zEv63LPpjkcK"
   },
   "source": [
    "# Build CNN "
   ]
  },
  {
   "cell_type": "code",
   "execution_count": 16,
   "metadata": {
    "id": "q44-J-QWMgKQ"
   },
   "outputs": [],
   "source": [
    "import torch\n",
    "import torch.nn as nn\n",
    "\n",
    "import torch\n",
    "import torch.nn as nn\n",
    "\n",
    "class CNNForNLP(nn.Module):\n",
    "    def __init__(self, vocab_size, embedding_dim, num_classes, num_filters, filter_sizes):\n",
    "        super(CNNForNLP, self).__init__()\n",
    "        self.embedding = nn.Embedding(vocab_size, embedding_dim)\n",
    "        self.convs = nn.ModuleList([\n",
    "            nn.Conv1d(embedding_dim, num_filters, filter_size)\n",
    "            for filter_size in filter_sizes\n",
    "        ])\n",
    "        self.dropout = nn.Dropout(0.5)\n",
    "        self.fc = nn.Linear(len(filter_sizes) * num_filters, num_classes)\n",
    "    \n",
    "    def forward(self, x, _):\n",
    "        embedded = self.embedding(x)  # x: (batch_size, sequence_length)\n",
    "        embedded = embedded.permute(0, 2, 1)  # embedded: (batch_size, embedding_dim, sequence_length)\n",
    "        feature_maps = []\n",
    "        for conv in self.convs:\n",
    "            feature_map = torch.relu(conv(embedded))  # feature_map: (batch_size, num_filters, H)\n",
    "            pooled = torch.max(feature_map, dim=2)[0]  # pooled: (batch_size, num_filters)\n",
    "            feature_maps.append(pooled)\n",
    "        combined = torch.cat(feature_maps, dim=1)  # combined: (batch_size, len(filter_sizes) * num_filters)\n",
    "        combined = self.dropout(combined)\n",
    "        logits = self.fc(combined)  # logits: (batch_size, num_classes)\n",
    "        return logits\n"
   ]
  },
  {
   "cell_type": "code",
   "execution_count": 17,
   "metadata": {
    "id": "nTo_bpEeMqgr"
   },
   "outputs": [],
   "source": [
    "\n",
    "# Definir los parámetros del modelo\n",
    "vocab_size = 31002#tamaño del vocabulario\n",
    "embedding_dim = 768 #Dimension de los vectores de embedding \n",
    "num_classes = 2 #numero de clases o categorias de clasificacion\n",
    "num_filters = 32  #numero de filtros convolucionales\n",
    "filter_sizes = [3]  #tamaño de los filtros convolucionales\n",
    "\n",
    "\n",
    "CNNmodel = CNNForNLP(vocab_size,embedding_dim,num_classes,num_filters,filter_sizes)\n"
   ]
  },
  {
   "cell_type": "code",
   "execution_count": 18,
   "metadata": {
    "colab": {
     "base_uri": "https://localhost:8080/"
    },
    "id": "Z8QAddNK0rMj",
    "outputId": "ebd45748-066b-44ed-a887-52798434647f"
   },
   "outputs": [
    {
     "name": "stdout",
     "output_type": "stream",
     "text": [
      "CNNForNLP(\n",
      "  (embedding): Embedding(31002, 768)\n",
      "  (convs): ModuleList(\n",
      "    (0): Conv1d(768, 32, kernel_size=(3,), stride=(1,))\n",
      "  )\n",
      "  (dropout): Dropout(p=0.5, inplace=False)\n",
      "  (fc): Linear(in_features=32, out_features=2, bias=True)\n",
      ")\n"
     ]
    }
   ],
   "source": [
    "\n",
    "# Imprimir el modelo\n",
    "print(CNNmodel)"
   ]
  },
  {
   "cell_type": "code",
   "execution_count": 19,
   "metadata": {
    "id": "ITmi7WZDMsl6"
   },
   "outputs": [],
   "source": [
    "# Optimizer and criterion\n",
    "\n",
    "import torch.optim as optim\n",
    "\n",
    "model_parameters = list(CNNmodel.parameters())\n",
    "\n",
    "optimizer = optim.Adam(model_parameters,lr=2e-5,eps=1e-8)\n",
    "criterion = nn.CrossEntropyLoss()\n",
    "criterion = criterion.to(device)"
   ]
  },
  {
   "cell_type": "code",
   "execution_count": 20,
   "metadata": {
    "id": "oyp8HhAxMvQH"
   },
   "outputs": [],
   "source": [
    "# Calculate accuracy per batch during train\n",
    "\n",
    "def categorical_accuracy(preds, y):\n",
    "    \"\"\"\n",
    "    Returns accuracy per batch, i.e. if you get 8/10 right, this returns 0.8, NOT 8\n",
    "    \"\"\"\n",
    "    max_preds = preds.argmax(dim = 1, keepdim = True) # get the index of the max probability\n",
    "    correct = max_preds.squeeze(1).eq(y)\n",
    "    return correct.sum() / torch.FloatTensor([y.shape[0]]).cuda()"
   ]
  },
  {
   "cell_type": "code",
   "execution_count": 21,
   "metadata": {
    "id": "TrVcBEVoMxov"
   },
   "outputs": [],
   "source": [
    "# Def for training\n",
    "\n",
    "from tqdm import tqdm\n",
    "\n",
    "def train(model):\n",
    "    \n",
    "    epoch_loss = 0\n",
    "    epoch_acc = 0\n",
    "    \n",
    "    model.train()\n",
    "    \n",
    "    for batch in tqdm(train_data_loader):\n",
    "        b_input_ids = batch[0].to(device)\n",
    "        b_input_mask = batch[1].to(device)\n",
    "        b_labels = batch[2].to(device)\n",
    "        \n",
    "        optimizer.zero_grad()\n",
    "        \n",
    "        predictions = model(b_input_ids,b_input_mask)\n",
    "        \n",
    "        loss = criterion(predictions, b_labels)\n",
    "        \n",
    "        acc = categorical_accuracy(predictions, b_labels)\n",
    "        \n",
    "        loss.backward()\n",
    "        \n",
    "        optimizer.step()\n",
    "        \n",
    "        epoch_loss += loss.item()\n",
    "        epoch_acc += acc.item()\n",
    "        \n",
    "    return epoch_loss / len(train_data_loader), epoch_acc / len(train_data_loader)"
   ]
  },
  {
   "cell_type": "code",
   "execution_count": 22,
   "metadata": {
    "id": "nTQGFfnFMz-d"
   },
   "outputs": [],
   "source": [
    "# Class for predict label\n",
    "\n",
    "import numpy as np\n",
    "\n",
    "def predictions_labels(preds,labels):\n",
    "    pred = np.argmax(preds,axis=1).flatten()\n",
    "    label = labels.flatten()\n",
    "    return pred,label"
   ]
  },
  {
   "cell_type": "code",
   "execution_count": 23,
   "metadata": {
    "id": "c_4Y1RhlM17e"
   },
   "outputs": [],
   "source": [
    "# Evaluate loss, acc  and f1-macro\n",
    "\n",
    "from sklearn.metrics import classification_report,accuracy_score,f1_score\n",
    "def eval(model):\n",
    "    epoch_loss = 0\n",
    "    \n",
    "    total_predictions = []\n",
    "    total_true = []\n",
    "    \n",
    "    all_true_labels = []\n",
    "    all_pred_labels = []\n",
    "    \n",
    "    model.eval()\n",
    "    \n",
    "    with torch.no_grad():\n",
    "    \n",
    "        for batch in tqdm(valid_data_loader):\n",
    "            b_input_ids = batch[0].to(device)\n",
    "            b_input_mask = batch[1].to(device)\n",
    "            b_labels = batch[2].to(device)\n",
    "\n",
    "            predictions = model(b_input_ids,b_input_mask)\n",
    "\n",
    "            loss = criterion(predictions, b_labels)\n",
    "            epoch_loss += loss.item()\n",
    "            \n",
    "            predictions = predictions.detach().cpu().numpy()\n",
    "\n",
    "            label_ids = b_labels.to('cpu').numpy()\n",
    "    \n",
    "            pred,true = predictions_labels(predictions,label_ids)\n",
    "        \n",
    "            all_pred_labels.extend(pred)\n",
    "            all_true_labels.extend(true)\n",
    "\n",
    "    print(classification_report(all_pred_labels,all_true_labels))\n",
    "    avg_val_accuracy = accuracy_score(all_pred_labels,all_true_labels)\n",
    "    macro_f1_score = f1_score(all_pred_labels,all_true_labels,average='macro')\n",
    "    \n",
    "    avg_val_loss = epoch_loss/len(valid_data_loader)\n",
    "\n",
    "    print(\"accuracy = {0:.2f}\".format(avg_val_accuracy))\n",
    "            \n",
    "    return avg_val_loss,avg_val_accuracy,macro_f1_score"
   ]
  },
  {
   "cell_type": "code",
   "execution_count": 24,
   "metadata": {
    "id": "ICyenO-tM35S"
   },
   "outputs": [],
   "source": [
    "# Time for training\n",
    "\n",
    "import time\n",
    "def epoch_time(start_time, end_time):\n",
    "    elapsed_time = end_time - start_time\n",
    "    elapsed_mins = int(elapsed_time / 60)\n",
    "    elapsed_secs = int(elapsed_time - (elapsed_mins * 60))\n",
    "    return elapsed_mins, elapsed_secs"
   ]
  },
  {
   "cell_type": "code",
   "execution_count": 25,
   "metadata": {
    "colab": {
     "base_uri": "https://localhost:8080/"
    },
    "id": "6OrAOzamNC0e",
    "outputId": "caf37e15-8576-4cfd-94e0-74ab261577f4"
   },
   "outputs": [
    {
     "data": {
      "text/plain": [
       "CNNForNLP(\n",
       "  (embedding): Embedding(31002, 768)\n",
       "  (convs): ModuleList(\n",
       "    (0): Conv1d(768, 32, kernel_size=(3,), stride=(1,))\n",
       "  )\n",
       "  (dropout): Dropout(p=0.5, inplace=False)\n",
       "  (fc): Linear(in_features=32, out_features=2, bias=True)\n",
       ")"
      ]
     },
     "execution_count": 25,
     "metadata": {},
     "output_type": "execute_result"
    }
   ],
   "source": [
    "# Set device and gpu\n",
    "\n",
    "device = torch.device(\"cuda\" if torch.cuda.is_available() else \"cpu\")\n",
    "n_gpu = torch.cuda.device_count()\n",
    "torch.cuda.get_device_name(0)\n",
    "\n",
    "CNNmodel.cuda()"
   ]
  },
  {
   "cell_type": "markdown",
   "metadata": {
    "id": "KbJBkClEkam2"
   },
   "source": [
    "# Training"
   ]
  },
  {
   "cell_type": "code",
   "execution_count": 26,
   "metadata": {
    "colab": {
     "base_uri": "https://localhost:8080/"
    },
    "id": "ZfHllZjgM5uw",
    "outputId": "102f286f-dad1-4a1b-f6f3-b9fbfedb9430"
   },
   "outputs": [
    {
     "name": "stderr",
     "output_type": "stream",
     "text": [
      "100%|██████████| 181/181 [00:04<00:00, 38.36it/s] \n",
      "100%|██████████| 46/46 [00:00<00:00, 554.24it/s]\n"
     ]
    },
    {
     "name": "stdout",
     "output_type": "stream",
     "text": [
      "              precision    recall  f1-score   support\n",
      "\n",
      "           0       0.99      0.77      0.86      5657\n",
      "           1       0.06      0.71      0.11       115\n",
      "\n",
      "    accuracy                           0.76      5772\n",
      "   macro avg       0.53      0.74      0.49      5772\n",
      "weighted avg       0.97      0.76      0.85      5772\n",
      "\n",
      "accuracy = 0.76\n",
      "model saved\n",
      "Epoch: 01 | Epoch Time: 0m 4s\n",
      "\tTrain Loss: 0.670 | Train acc: 63.16%\n",
      "\t Val. Loss: 0.532 |  Val. acc: 76.46%\n",
      "\t Val. Loss: 0.532 |  Val. F1: 48.60%\n",
      "=============Epoch Ended==============\n"
     ]
    },
    {
     "name": "stderr",
     "output_type": "stream",
     "text": [
      "100%|██████████| 181/181 [00:01<00:00, 108.05it/s]\n",
      "100%|██████████| 46/46 [00:00<00:00, 621.65it/s]\n"
     ]
    },
    {
     "name": "stdout",
     "output_type": "stream",
     "text": [
      "              precision    recall  f1-score   support\n",
      "\n",
      "           0       0.98      0.78      0.87      5517\n",
      "           1       0.12      0.69      0.21       255\n",
      "\n",
      "    accuracy                           0.77      5772\n",
      "   macro avg       0.55      0.73      0.54      5772\n",
      "weighted avg       0.94      0.77      0.84      5772\n",
      "\n",
      "accuracy = 0.77\n",
      "model saved\n",
      "Epoch: 02 | Epoch Time: 0m 1s\n",
      "\tTrain Loss: 0.596 | Train acc: 71.22%\n",
      "\t Val. Loss: 0.514 |  Val. acc: 77.25%\n",
      "\t Val. Loss: 0.514 |  Val. F1: 53.88%\n",
      "=============Epoch Ended==============\n"
     ]
    },
    {
     "name": "stderr",
     "output_type": "stream",
     "text": [
      "100%|██████████| 181/181 [00:01<00:00, 108.33it/s]\n",
      "100%|██████████| 46/46 [00:00<00:00, 613.35it/s]\n"
     ]
    },
    {
     "name": "stdout",
     "output_type": "stream",
     "text": [
      "              precision    recall  f1-score   support\n",
      "\n",
      "           0       0.98      0.78      0.87      5479\n",
      "           1       0.14      0.67      0.23       293\n",
      "\n",
      "    accuracy                           0.77      5772\n",
      "   macro avg       0.56      0.73      0.55      5772\n",
      "weighted avg       0.94      0.77      0.83      5772\n",
      "\n",
      "accuracy = 0.77\n",
      "model saved\n",
      "Epoch: 03 | Epoch Time: 0m 1s\n",
      "\tTrain Loss: 0.566 | Train acc: 73.46%\n",
      "\t Val. Loss: 0.502 |  Val. acc: 77.36%\n",
      "\t Val. Loss: 0.502 |  Val. F1: 54.94%\n",
      "=============Epoch Ended==============\n"
     ]
    },
    {
     "name": "stderr",
     "output_type": "stream",
     "text": [
      "100%|██████████| 181/181 [00:01<00:00, 108.11it/s]\n",
      "100%|██████████| 46/46 [00:00<00:00, 656.83it/s]\n"
     ]
    },
    {
     "name": "stdout",
     "output_type": "stream",
     "text": [
      "              precision    recall  f1-score   support\n",
      "\n",
      "           0       0.98      0.78      0.87      5467\n",
      "           1       0.15      0.68      0.24       305\n",
      "\n",
      "    accuracy                           0.77      5772\n",
      "   macro avg       0.56      0.73      0.55      5772\n",
      "weighted avg       0.93      0.77      0.83      5772\n",
      "\n",
      "accuracy = 0.77\n",
      "model saved\n",
      "Epoch: 04 | Epoch Time: 0m 1s\n",
      "\tTrain Loss: 0.549 | Train acc: 74.42%\n",
      "\t Val. Loss: 0.498 |  Val. acc: 77.46%\n",
      "\t Val. Loss: 0.498 |  Val. F1: 55.41%\n",
      "=============Epoch Ended==============\n"
     ]
    },
    {
     "name": "stderr",
     "output_type": "stream",
     "text": [
      "100%|██████████| 181/181 [00:01<00:00, 108.12it/s]\n",
      "100%|██████████| 46/46 [00:00<00:00, 629.91it/s]\n"
     ]
    },
    {
     "name": "stdout",
     "output_type": "stream",
     "text": [
      "              precision    recall  f1-score   support\n",
      "\n",
      "           0       0.98      0.78      0.87      5470\n",
      "           1       0.14      0.68      0.24       302\n",
      "\n",
      "    accuracy                           0.77      5772\n",
      "   macro avg       0.56      0.73      0.55      5772\n",
      "weighted avg       0.93      0.77      0.83      5772\n",
      "\n",
      "accuracy = 0.77\n",
      "model saved\n",
      "Epoch: 05 | Epoch Time: 0m 1s\n",
      "\tTrain Loss: 0.537 | Train acc: 75.24%\n",
      "\t Val. Loss: 0.497 |  Val. acc: 77.44%\n",
      "\t Val. Loss: 0.497 |  Val. F1: 55.31%\n",
      "=============Epoch Ended==============\n"
     ]
    },
    {
     "name": "stderr",
     "output_type": "stream",
     "text": [
      "100%|██████████| 181/181 [00:01<00:00, 108.21it/s]\n",
      "100%|██████████| 46/46 [00:00<00:00, 638.91it/s]\n"
     ]
    },
    {
     "name": "stdout",
     "output_type": "stream",
     "text": [
      "              precision    recall  f1-score   support\n",
      "\n",
      "           0       0.98      0.78      0.87      5464\n",
      "           1       0.15      0.67      0.24       308\n",
      "\n",
      "    accuracy                           0.77      5772\n",
      "   macro avg       0.56      0.72      0.55      5772\n",
      "weighted avg       0.93      0.77      0.83      5772\n",
      "\n",
      "accuracy = 0.77\n",
      "model saved\n",
      "Epoch: 06 | Epoch Time: 0m 1s\n",
      "\tTrain Loss: 0.523 | Train acc: 75.67%\n",
      "\t Val. Loss: 0.490 |  Val. acc: 77.41%\n",
      "\t Val. Loss: 0.490 |  Val. F1: 55.37%\n",
      "=============Epoch Ended==============\n"
     ]
    },
    {
     "name": "stderr",
     "output_type": "stream",
     "text": [
      "100%|██████████| 181/181 [00:01<00:00, 108.67it/s]\n",
      "100%|██████████| 46/46 [00:00<00:00, 647.89it/s]\n"
     ]
    },
    {
     "name": "stdout",
     "output_type": "stream",
     "text": [
      "              precision    recall  f1-score   support\n",
      "\n",
      "           0       0.98      0.78      0.87      5467\n",
      "           1       0.15      0.67      0.24       305\n",
      "\n",
      "    accuracy                           0.77      5772\n",
      "   macro avg       0.56      0.73      0.55      5772\n",
      "weighted avg       0.93      0.77      0.83      5772\n",
      "\n",
      "accuracy = 0.77\n",
      "model saved\n",
      "Epoch: 07 | Epoch Time: 0m 1s\n",
      "\tTrain Loss: 0.516 | Train acc: 76.26%\n",
      "\t Val. Loss: 0.484 |  Val. acc: 77.43%\n",
      "\t Val. Loss: 0.484 |  Val. F1: 55.34%\n",
      "=============Epoch Ended==============\n"
     ]
    },
    {
     "name": "stderr",
     "output_type": "stream",
     "text": [
      "100%|██████████| 181/181 [00:01<00:00, 108.41it/s]\n",
      "100%|██████████| 46/46 [00:00<00:00, 597.25it/s]\n"
     ]
    },
    {
     "name": "stdout",
     "output_type": "stream",
     "text": [
      "              precision    recall  f1-score   support\n",
      "\n",
      "           0       0.98      0.78      0.87      5453\n",
      "           1       0.15      0.67      0.25       319\n",
      "\n",
      "    accuracy                           0.78      5772\n",
      "   macro avg       0.56      0.73      0.56      5772\n",
      "weighted avg       0.93      0.78      0.83      5772\n",
      "\n",
      "accuracy = 0.78\n",
      "model saved\n",
      "Epoch: 08 | Epoch Time: 0m 1s\n",
      "\tTrain Loss: 0.504 | Train acc: 76.63%\n",
      "\t Val. Loss: 0.492 |  Val. acc: 77.53%\n",
      "\t Val. Loss: 0.492 |  Val. F1: 55.84%\n",
      "=============Epoch Ended==============\n"
     ]
    },
    {
     "name": "stderr",
     "output_type": "stream",
     "text": [
      "100%|██████████| 181/181 [00:01<00:00, 107.75it/s]\n",
      "100%|██████████| 46/46 [00:00<00:00, 630.43it/s]\n"
     ]
    },
    {
     "name": "stdout",
     "output_type": "stream",
     "text": [
      "              precision    recall  f1-score   support\n",
      "\n",
      "           0       0.98      0.78      0.87      5454\n",
      "           1       0.15      0.68      0.25       318\n",
      "\n",
      "    accuracy                           0.78      5772\n",
      "   macro avg       0.57      0.73      0.56      5772\n",
      "weighted avg       0.93      0.78      0.83      5772\n",
      "\n",
      "accuracy = 0.78\n",
      "model saved\n",
      "Epoch: 09 | Epoch Time: 0m 1s\n",
      "\tTrain Loss: 0.495 | Train acc: 77.19%\n",
      "\t Val. Loss: 0.480 |  Val. acc: 77.58%\n",
      "\t Val. Loss: 0.480 |  Val. F1: 55.92%\n",
      "=============Epoch Ended==============\n"
     ]
    },
    {
     "name": "stderr",
     "output_type": "stream",
     "text": [
      "100%|██████████| 181/181 [00:01<00:00, 106.78it/s]\n",
      "100%|██████████| 46/46 [00:00<00:00, 621.73it/s]\n"
     ]
    },
    {
     "name": "stdout",
     "output_type": "stream",
     "text": [
      "              precision    recall  f1-score   support\n",
      "\n",
      "           0       0.98      0.78      0.87      5457\n",
      "           1       0.15      0.68      0.25       315\n",
      "\n",
      "    accuracy                           0.78      5772\n",
      "   macro avg       0.56      0.73      0.56      5772\n",
      "weighted avg       0.93      0.78      0.83      5772\n",
      "\n",
      "accuracy = 0.78\n",
      "model saved\n",
      "Epoch: 10 | Epoch Time: 0m 1s\n",
      "\tTrain Loss: 0.485 | Train acc: 77.68%\n",
      "\t Val. Loss: 0.479 |  Val. acc: 77.56%\n",
      "\t Val. Loss: 0.479 |  Val. F1: 55.83%\n",
      "=============Epoch Ended==============\n"
     ]
    },
    {
     "name": "stderr",
     "output_type": "stream",
     "text": [
      "100%|██████████| 181/181 [00:01<00:00, 105.28it/s]\n",
      "100%|██████████| 46/46 [00:00<00:00, 629.62it/s]\n"
     ]
    },
    {
     "name": "stdout",
     "output_type": "stream",
     "text": [
      "              precision    recall  f1-score   support\n",
      "\n",
      "           0       0.98      0.78      0.87      5438\n",
      "           1       0.16      0.68      0.26       334\n",
      "\n",
      "    accuracy                           0.78      5772\n",
      "   macro avg       0.57      0.73      0.56      5772\n",
      "weighted avg       0.93      0.78      0.83      5772\n",
      "\n",
      "accuracy = 0.78\n",
      "model saved\n",
      "Epoch: 11 | Epoch Time: 0m 1s\n",
      "\tTrain Loss: 0.479 | Train acc: 77.70%\n",
      "\t Val. Loss: 0.470 |  Val. acc: 77.69%\n",
      "\t Val. Loss: 0.470 |  Val. F1: 56.46%\n",
      "=============Epoch Ended==============\n"
     ]
    },
    {
     "name": "stderr",
     "output_type": "stream",
     "text": [
      "100%|██████████| 181/181 [00:01<00:00, 105.27it/s]\n",
      "100%|██████████| 46/46 [00:00<00:00, 629.77it/s]\n"
     ]
    },
    {
     "name": "stdout",
     "output_type": "stream",
     "text": [
      "              precision    recall  f1-score   support\n",
      "\n",
      "           0       0.98      0.78      0.87      5436\n",
      "           1       0.16      0.69      0.26       336\n",
      "\n",
      "    accuracy                           0.78      5772\n",
      "   macro avg       0.57      0.74      0.57      5772\n",
      "weighted avg       0.93      0.78      0.83      5772\n",
      "\n",
      "accuracy = 0.78\n",
      "model saved\n",
      "Epoch: 12 | Epoch Time: 0m 1s\n",
      "\tTrain Loss: 0.472 | Train acc: 78.31%\n",
      "\t Val. Loss: 0.469 |  Val. acc: 77.79%\n",
      "\t Val. Loss: 0.469 |  Val. F1: 56.70%\n",
      "=============Epoch Ended==============\n"
     ]
    },
    {
     "name": "stderr",
     "output_type": "stream",
     "text": [
      "100%|██████████| 181/181 [00:01<00:00, 105.18it/s]\n",
      "100%|██████████| 46/46 [00:00<00:00, 629.86it/s]\n"
     ]
    },
    {
     "name": "stdout",
     "output_type": "stream",
     "text": [
      "              precision    recall  f1-score   support\n",
      "\n",
      "           0       0.98      0.78      0.87      5429\n",
      "           1       0.17      0.70      0.27       343\n",
      "\n",
      "    accuracy                           0.78      5772\n",
      "   macro avg       0.57      0.74      0.57      5772\n",
      "weighted avg       0.93      0.78      0.83      5772\n",
      "\n",
      "accuracy = 0.78\n",
      "model saved\n",
      "Epoch: 13 | Epoch Time: 0m 1s\n",
      "\tTrain Loss: 0.464 | Train acc: 78.42%\n",
      "\t Val. Loss: 0.468 |  Val. acc: 77.98%\n",
      "\t Val. Loss: 0.468 |  Val. F1: 57.22%\n",
      "=============Epoch Ended==============\n"
     ]
    },
    {
     "name": "stderr",
     "output_type": "stream",
     "text": [
      "100%|██████████| 181/181 [00:01<00:00, 104.96it/s]\n",
      "100%|██████████| 46/46 [00:00<00:00, 605.28it/s]\n"
     ]
    },
    {
     "name": "stdout",
     "output_type": "stream",
     "text": [
      "              precision    recall  f1-score   support\n",
      "\n",
      "           0       0.98      0.79      0.87      5430\n",
      "           1       0.17      0.71      0.28       342\n",
      "\n",
      "    accuracy                           0.78      5772\n",
      "   macro avg       0.57      0.75      0.57      5772\n",
      "weighted avg       0.93      0.78      0.84      5772\n",
      "\n",
      "accuracy = 0.78\n",
      "model saved\n",
      "Epoch: 14 | Epoch Time: 0m 1s\n",
      "\tTrain Loss: 0.459 | Train acc: 79.05%\n",
      "\t Val. Loss: 0.465 |  Val. acc: 78.10%\n",
      "\t Val. Loss: 0.465 |  Val. F1: 57.43%\n",
      "=============Epoch Ended==============\n"
     ]
    },
    {
     "name": "stderr",
     "output_type": "stream",
     "text": [
      "100%|██████████| 181/181 [00:01<00:00, 104.87it/s]\n",
      "100%|██████████| 46/46 [00:00<00:00, 621.63it/s]\n"
     ]
    },
    {
     "name": "stdout",
     "output_type": "stream",
     "text": [
      "              precision    recall  f1-score   support\n",
      "\n",
      "           0       0.98      0.79      0.87      5424\n",
      "           1       0.18      0.72      0.29       348\n",
      "\n",
      "    accuracy                           0.78      5772\n",
      "   macro avg       0.58      0.75      0.58      5772\n",
      "weighted avg       0.93      0.78      0.84      5772\n",
      "\n",
      "accuracy = 0.78\n",
      "model saved\n",
      "Epoch: 15 | Epoch Time: 0m 1s\n",
      "\tTrain Loss: 0.448 | Train acc: 79.54%\n",
      "\t Val. Loss: 0.463 |  Val. acc: 78.27%\n",
      "\t Val. Loss: 0.463 |  Val. F1: 57.89%\n",
      "=============Epoch Ended==============\n"
     ]
    },
    {
     "name": "stderr",
     "output_type": "stream",
     "text": [
      "100%|██████████| 181/181 [00:01<00:00, 105.09it/s]\n",
      "100%|██████████| 46/46 [00:00<00:00, 621.65it/s]\n"
     ]
    },
    {
     "name": "stdout",
     "output_type": "stream",
     "text": [
      "              precision    recall  f1-score   support\n",
      "\n",
      "           0       0.98      0.79      0.87      5409\n",
      "           1       0.19      0.73      0.30       363\n",
      "\n",
      "    accuracy                           0.78      5772\n",
      "   macro avg       0.58      0.76      0.59      5772\n",
      "weighted avg       0.93      0.78      0.84      5772\n",
      "\n",
      "accuracy = 0.78\n",
      "model saved\n",
      "Epoch: 16 | Epoch Time: 0m 1s\n",
      "\tTrain Loss: 0.448 | Train acc: 79.55%\n",
      "\t Val. Loss: 0.463 |  Val. acc: 78.47%\n",
      "\t Val. Loss: 0.463 |  Val. F1: 58.55%\n",
      "=============Epoch Ended==============\n"
     ]
    },
    {
     "name": "stderr",
     "output_type": "stream",
     "text": [
      "100%|██████████| 181/181 [00:01<00:00, 102.90it/s]\n",
      "100%|██████████| 46/46 [00:00<00:00, 636.73it/s]\n"
     ]
    },
    {
     "name": "stdout",
     "output_type": "stream",
     "text": [
      "              precision    recall  f1-score   support\n",
      "\n",
      "           0       0.98      0.79      0.87      5407\n",
      "           1       0.19      0.73      0.30       365\n",
      "\n",
      "    accuracy                           0.78      5772\n",
      "   macro avg       0.58      0.76      0.59      5772\n",
      "weighted avg       0.93      0.78      0.84      5772\n",
      "\n",
      "accuracy = 0.78\n",
      "model saved\n",
      "Epoch: 17 | Epoch Time: 0m 1s\n",
      "\tTrain Loss: 0.441 | Train acc: 79.74%\n",
      "\t Val. Loss: 0.458 |  Val. acc: 78.47%\n",
      "\t Val. Loss: 0.458 |  Val. F1: 58.59%\n",
      "=============Epoch Ended==============\n"
     ]
    },
    {
     "name": "stderr",
     "output_type": "stream",
     "text": [
      "100%|██████████| 181/181 [00:01<00:00, 104.86it/s]\n",
      "100%|██████████| 46/46 [00:00<00:00, 605.03it/s]\n"
     ]
    },
    {
     "name": "stdout",
     "output_type": "stream",
     "text": [
      "              precision    recall  f1-score   support\n",
      "\n",
      "           0       0.98      0.79      0.87      5382\n",
      "           1       0.20      0.73      0.32       390\n",
      "\n",
      "    accuracy                           0.79      5772\n",
      "   macro avg       0.59      0.76      0.59      5772\n",
      "weighted avg       0.92      0.79      0.84      5772\n",
      "\n",
      "accuracy = 0.79\n",
      "model saved\n",
      "Epoch: 18 | Epoch Time: 0m 1s\n",
      "\tTrain Loss: 0.434 | Train acc: 80.25%\n",
      "\t Val. Loss: 0.456 |  Val. acc: 78.69%\n",
      "\t Val. Loss: 0.456 |  Val. F1: 59.49%\n",
      "=============Epoch Ended==============\n"
     ]
    },
    {
     "name": "stderr",
     "output_type": "stream",
     "text": [
      "100%|██████████| 181/181 [00:01<00:00, 105.56it/s]\n",
      "100%|██████████| 46/46 [00:00<00:00, 629.89it/s]\n"
     ]
    },
    {
     "name": "stdout",
     "output_type": "stream",
     "text": [
      "              precision    recall  f1-score   support\n",
      "\n",
      "           0       0.98      0.79      0.87      5394\n",
      "           1       0.20      0.74      0.31       378\n",
      "\n",
      "    accuracy                           0.79      5772\n",
      "   macro avg       0.59      0.77      0.59      5772\n",
      "weighted avg       0.93      0.79      0.84      5772\n",
      "\n",
      "accuracy = 0.79\n",
      "model saved\n",
      "Epoch: 19 | Epoch Time: 0m 1s\n",
      "\tTrain Loss: 0.431 | Train acc: 80.22%\n",
      "\t Val. Loss: 0.464 |  Val. acc: 78.76%\n",
      "\t Val. Loss: 0.464 |  Val. F1: 59.40%\n",
      "=============Epoch Ended==============\n"
     ]
    },
    {
     "name": "stderr",
     "output_type": "stream",
     "text": [
      "100%|██████████| 181/181 [00:01<00:00, 107.95it/s]\n",
      "100%|██████████| 46/46 [00:00<00:00, 647.91it/s]\n"
     ]
    },
    {
     "name": "stdout",
     "output_type": "stream",
     "text": [
      "              precision    recall  f1-score   support\n",
      "\n",
      "           0       0.98      0.79      0.87      5380\n",
      "           1       0.21      0.74      0.32       392\n",
      "\n",
      "    accuracy                           0.79      5772\n",
      "   macro avg       0.59      0.77      0.60      5772\n",
      "weighted avg       0.92      0.79      0.84      5772\n",
      "\n",
      "accuracy = 0.79\n",
      "model saved\n",
      "Epoch: 20 | Epoch Time: 0m 1s\n",
      "\tTrain Loss: 0.429 | Train acc: 80.32%\n",
      "\t Val. Loss: 0.451 |  Val. acc: 78.86%\n",
      "\t Val. Loss: 0.451 |  Val. F1: 59.85%\n",
      "=============Epoch Ended==============\n"
     ]
    }
   ],
   "source": [
    "epochs = 20\n",
    "\n",
    "best_macro_f1 = float('0')\n",
    "\n",
    "for epoch in range(epochs):\n",
    "    \n",
    "    start_time = time.time()\n",
    "    train_loss,train_acc = train(CNNmodel)\n",
    "    valid_loss,valid_acc,macro_f1 = eval(CNNmodel)\n",
    "    end_time = time.time()\n",
    "    \n",
    "        \n",
    "    epoch_mins, epoch_secs = epoch_time(start_time, end_time)\n",
    "        \n",
    "    if macro_f1 > best_macro_f1:\n",
    "        best_macro_f1 = macro_f1\n",
    "    torch.save(CNNmodel,'./cnn_model_part1_'+'task2a_2.pt')\n",
    "    print(\"model saved\")\n",
    "    \n",
    "    print(f'Epoch: {epoch+1:02} | Epoch Time: {epoch_mins}m {epoch_secs}s')\n",
    "    print(f'\\tTrain Loss: {train_loss:.3f} | Train acc: {train_acc*100:.2f}%')\n",
    "    print(f'\\t Val. Loss: {valid_loss:.3f} |  Val. acc: {valid_acc*100:.2f}%')\n",
    "    print(f'\\t Val. Loss: {valid_loss:.3f} |  Val. F1: {macro_f1*100:.2f}%')\n",
    "    print('=============Epoch Ended==============')"
   ]
  },
  {
   "cell_type": "code",
   "execution_count": 27,
   "metadata": {
    "colab": {
     "background_save": true
    },
    "id": "KyQlcVfnCWHw"
   },
   "outputs": [],
   "source": [
    "# Save BETO and CNN \n",
    "\n",
    "torch.save(CNNmodel,'module2_part1.pt')\n"
   ]
  },
  {
   "cell_type": "markdown",
   "metadata": {
    "id": "FCzo5AKq8lka"
   },
   "source": [
    "## EVALUATING"
   ]
  },
  {
   "cell_type": "code",
   "execution_count": 28,
   "metadata": {
    "id": "ftons15Hw8lB"
   },
   "outputs": [
    {
     "data": {
      "text/plain": [
       "CNNForNLP(\n",
       "  (embedding): Embedding(31002, 768)\n",
       "  (convs): ModuleList(\n",
       "    (0): Conv1d(768, 32, kernel_size=(3,), stride=(1,))\n",
       "  )\n",
       "  (dropout): Dropout(p=0.5, inplace=False)\n",
       "  (fc): Linear(in_features=32, out_features=2, bias=True)\n",
       ")"
      ]
     },
     "execution_count": 28,
     "metadata": {},
     "output_type": "execute_result"
    }
   ],
   "source": [
    "# Load phobert and cnn\n",
    "\n",
    "import torch\n",
    "CNNmodel = torch.load(r'cnn_model_part1_task2a_2.pt')\n",
    "CNNmodel.eval()\n",
    "\n"
   ]
  },
  {
   "cell_type": "markdown",
   "metadata": {
    "id": "N6sFPdMFlPRp"
   },
   "source": [
    "Predict label from true label"
   ]
  },
  {
   "cell_type": "code",
   "execution_count": 29,
   "metadata": {
    "colab": {
     "background_save": true
    },
    "id": "U9Co-AvE_Ehq"
   },
   "outputs": [
    {
     "name": "stderr",
     "output_type": "stream",
     "text": [
      "C:\\ProgramData\\Anaconda3\\envs\\anti-disc\\lib\\site-packages\\transformers\\tokenization_utils_base.py:2354: FutureWarning: The `pad_to_max_length` argument is deprecated and will be removed in a future version, use `padding=True` or `padding='longest'` to pad to the longest sequence in the batch, or use `padding='max_length'` to pad to a max length. In this case, you can give a specific length with `max_length` (e.g. `max_length=45`) or leave max_length to None to pad to the maximal input size of the model (e.g. 512 for Bert).\n",
      "  warnings.warn(\n",
      "100%|██████████| 25/25 [00:00<00:00, 532.42it/s]\n"
     ]
    }
   ],
   "source": [
    "test_sent_index, test_input_ids, test_attention_masks, test_encoded_label_tensors = encoder_generator(test_sentences,test_labels)\n",
    "test_dataset = TensorDataset(test_input_ids,test_attention_masks,test_encoded_label_tensors)\n",
    "\n",
    "test_data_loader = DataLoader(test_dataset,\n",
    "                              sampler=RandomSampler(test_dataset),\n",
    "                              batch_size=bs)\n",
    "\n",
    "all_pred_labels = []\n",
    "all_true_labels = []\n",
    "\n",
    "with torch.no_grad():\n",
    "  for batch in tqdm(test_data_loader):\n",
    "    b_input_ids = batch[0].to(device)\n",
    "    b_input_mask = batch[1].to(device)\n",
    "    b_labels = batch[2].to(device)\n",
    "\n",
    "    predictions = CNNmodel(b_input_ids,b_input_mask)\n",
    "\n",
    "    \n",
    "    predictions = predictions.detach().cpu().numpy()\n",
    "\n",
    "    label_ids = b_labels.to('cpu').numpy()\n",
    "\n",
    "    pred, true = predictions_labels(predictions, label_ids)\n",
    "\n",
    "    all_pred_labels.extend(pred)\n",
    "    all_true_labels.extend(true)"
   ]
  },
  {
   "cell_type": "code",
   "execution_count": 30,
   "metadata": {
    "colab": {
     "background_save": true
    },
    "id": "ESaLntjdAfYF"
   },
   "outputs": [
    {
     "name": "stdout",
     "output_type": "stream",
     "text": [
      "              precision    recall  f1-score   support\n",
      "\n",
      "           0     0.9725    0.8870    0.9278      2990\n",
      "           1     0.2318    0.5763    0.3306       177\n",
      "\n",
      "    accuracy                         0.8696      3167\n",
      "   macro avg     0.6022    0.7316    0.6292      3167\n",
      "weighted avg     0.9311    0.8696    0.8944      3167\n",
      "\n"
     ]
    }
   ],
   "source": [
    "# The final score in the test set (classification report)\n",
    "\n",
    "print(classification_report(all_pred_labels,all_true_labels, digits = 4))"
   ]
  },
  {
   "cell_type": "code",
   "execution_count": 31,
   "metadata": {
    "colab": {
     "background_save": true
    },
    "id": "2zqXgAK1zy6Y"
   },
   "outputs": [
    {
     "data": {
      "text/plain": [
       "array([[2652,   75],\n",
       "       [ 338,  102]], dtype=int64)"
      ]
     },
     "execution_count": 31,
     "metadata": {},
     "output_type": "execute_result"
    }
   ],
   "source": [
    "# Confusion matrix in thetest set\n",
    "\n",
    "from sklearn.metrics import confusion_matrix\n",
    "cm = confusion_matrix(all_true_labels, all_pred_labels)\n",
    "cm"
   ]
  },
  {
   "cell_type": "code",
   "execution_count": null,
   "metadata": {},
   "outputs": [],
   "source": []
  }
 ],
 "metadata": {
  "accelerator": "GPU",
  "colab": {
   "machine_shape": "hm",
   "provenance": []
  },
  "kernelspec": {
   "display_name": "Python 3 (ipykernel)",
   "language": "python",
   "name": "python3"
  },
  "language_info": {
   "codemirror_mode": {
    "name": "ipython",
    "version": 3
   },
   "file_extension": ".py",
   "mimetype": "text/x-python",
   "name": "python",
   "nbconvert_exporter": "python",
   "pygments_lexer": "ipython3",
   "version": "3.9.16"
  },
  "widgets": {
   "application/vnd.jupyter.widget-state+json": {
    "02e5d40f71764e9994ec9223756a8e69": {
     "model_module": "@jupyter-widgets/base",
     "model_module_version": "1.2.0",
     "model_name": "LayoutModel",
     "state": {
      "_model_module": "@jupyter-widgets/base",
      "_model_module_version": "1.2.0",
      "_model_name": "LayoutModel",
      "_view_count": null,
      "_view_module": "@jupyter-widgets/base",
      "_view_module_version": "1.2.0",
      "_view_name": "LayoutView",
      "align_content": null,
      "align_items": null,
      "align_self": null,
      "border": null,
      "bottom": null,
      "display": null,
      "flex": null,
      "flex_flow": null,
      "grid_area": null,
      "grid_auto_columns": null,
      "grid_auto_flow": null,
      "grid_auto_rows": null,
      "grid_column": null,
      "grid_gap": null,
      "grid_row": null,
      "grid_template_areas": null,
      "grid_template_columns": null,
      "grid_template_rows": null,
      "height": null,
      "justify_content": null,
      "justify_items": null,
      "left": null,
      "margin": null,
      "max_height": null,
      "max_width": null,
      "min_height": null,
      "min_width": null,
      "object_fit": null,
      "object_position": null,
      "order": null,
      "overflow": null,
      "overflow_x": null,
      "overflow_y": null,
      "padding": null,
      "right": null,
      "top": null,
      "visibility": null,
      "width": null
     }
    },
    "0620205fb18b42d4ac9f33c7691de048": {
     "model_module": "@jupyter-widgets/base",
     "model_module_version": "1.2.0",
     "model_name": "LayoutModel",
     "state": {
      "_model_module": "@jupyter-widgets/base",
      "_model_module_version": "1.2.0",
      "_model_name": "LayoutModel",
      "_view_count": null,
      "_view_module": "@jupyter-widgets/base",
      "_view_module_version": "1.2.0",
      "_view_name": "LayoutView",
      "align_content": null,
      "align_items": null,
      "align_self": null,
      "border": null,
      "bottom": null,
      "display": null,
      "flex": null,
      "flex_flow": null,
      "grid_area": null,
      "grid_auto_columns": null,
      "grid_auto_flow": null,
      "grid_auto_rows": null,
      "grid_column": null,
      "grid_gap": null,
      "grid_row": null,
      "grid_template_areas": null,
      "grid_template_columns": null,
      "grid_template_rows": null,
      "height": null,
      "justify_content": null,
      "justify_items": null,
      "left": null,
      "margin": null,
      "max_height": null,
      "max_width": null,
      "min_height": null,
      "min_width": null,
      "object_fit": null,
      "object_position": null,
      "order": null,
      "overflow": null,
      "overflow_x": null,
      "overflow_y": null,
      "padding": null,
      "right": null,
      "top": null,
      "visibility": null,
      "width": null
     }
    },
    "064cb390095f4aab987a8769450876c9": {
     "model_module": "@jupyter-widgets/base",
     "model_module_version": "1.2.0",
     "model_name": "LayoutModel",
     "state": {
      "_model_module": "@jupyter-widgets/base",
      "_model_module_version": "1.2.0",
      "_model_name": "LayoutModel",
      "_view_count": null,
      "_view_module": "@jupyter-widgets/base",
      "_view_module_version": "1.2.0",
      "_view_name": "LayoutView",
      "align_content": null,
      "align_items": null,
      "align_self": null,
      "border": null,
      "bottom": null,
      "display": null,
      "flex": null,
      "flex_flow": null,
      "grid_area": null,
      "grid_auto_columns": null,
      "grid_auto_flow": null,
      "grid_auto_rows": null,
      "grid_column": null,
      "grid_gap": null,
      "grid_row": null,
      "grid_template_areas": null,
      "grid_template_columns": null,
      "grid_template_rows": null,
      "height": null,
      "justify_content": null,
      "justify_items": null,
      "left": null,
      "margin": null,
      "max_height": null,
      "max_width": null,
      "min_height": null,
      "min_width": null,
      "object_fit": null,
      "object_position": null,
      "order": null,
      "overflow": null,
      "overflow_x": null,
      "overflow_y": null,
      "padding": null,
      "right": null,
      "top": null,
      "visibility": null,
      "width": null
     }
    },
    "0705fa5adebc4d4fa7100e9e0da51246": {
     "model_module": "@jupyter-widgets/controls",
     "model_module_version": "1.5.0",
     "model_name": "ProgressStyleModel",
     "state": {
      "_model_module": "@jupyter-widgets/controls",
      "_model_module_version": "1.5.0",
      "_model_name": "ProgressStyleModel",
      "_view_count": null,
      "_view_module": "@jupyter-widgets/base",
      "_view_module_version": "1.2.0",
      "_view_name": "StyleView",
      "bar_color": null,
      "description_width": ""
     }
    },
    "0aa051c98bff4b2b8e7add59adeebb05": {
     "model_module": "@jupyter-widgets/controls",
     "model_module_version": "1.5.0",
     "model_name": "HTMLModel",
     "state": {
      "_dom_classes": [],
      "_model_module": "@jupyter-widgets/controls",
      "_model_module_version": "1.5.0",
      "_model_name": "HTMLModel",
      "_view_count": null,
      "_view_module": "@jupyter-widgets/controls",
      "_view_module_version": "1.5.0",
      "_view_name": "HTMLView",
      "description": "",
      "description_tooltip": null,
      "layout": "IPY_MODEL_c03e7708da694f18aa30441a013b1fc9",
      "placeholder": "​",
      "style": "IPY_MODEL_addad7e91ccd4b9e8983aceef1d6403f",
      "value": "Downloading (…)solve/main/vocab.txt: 100%"
     }
    },
    "0c091319694f40e898e29a72f7302072": {
     "model_module": "@jupyter-widgets/base",
     "model_module_version": "1.2.0",
     "model_name": "LayoutModel",
     "state": {
      "_model_module": "@jupyter-widgets/base",
      "_model_module_version": "1.2.0",
      "_model_name": "LayoutModel",
      "_view_count": null,
      "_view_module": "@jupyter-widgets/base",
      "_view_module_version": "1.2.0",
      "_view_name": "LayoutView",
      "align_content": null,
      "align_items": null,
      "align_self": null,
      "border": null,
      "bottom": null,
      "display": null,
      "flex": null,
      "flex_flow": null,
      "grid_area": null,
      "grid_auto_columns": null,
      "grid_auto_flow": null,
      "grid_auto_rows": null,
      "grid_column": null,
      "grid_gap": null,
      "grid_row": null,
      "grid_template_areas": null,
      "grid_template_columns": null,
      "grid_template_rows": null,
      "height": null,
      "justify_content": null,
      "justify_items": null,
      "left": null,
      "margin": null,
      "max_height": null,
      "max_width": null,
      "min_height": null,
      "min_width": null,
      "object_fit": null,
      "object_position": null,
      "order": null,
      "overflow": null,
      "overflow_x": null,
      "overflow_y": null,
      "padding": null,
      "right": null,
      "top": null,
      "visibility": null,
      "width": null
     }
    },
    "26b3d8d6fde64d82ad49dc81b193275f": {
     "model_module": "@jupyter-widgets/controls",
     "model_module_version": "1.5.0",
     "model_name": "DescriptionStyleModel",
     "state": {
      "_model_module": "@jupyter-widgets/controls",
      "_model_module_version": "1.5.0",
      "_model_name": "DescriptionStyleModel",
      "_view_count": null,
      "_view_module": "@jupyter-widgets/base",
      "_view_module_version": "1.2.0",
      "_view_name": "StyleView",
      "description_width": ""
     }
    },
    "2b303687938c4bbba13a05080acb794c": {
     "model_module": "@jupyter-widgets/controls",
     "model_module_version": "1.5.0",
     "model_name": "HTMLModel",
     "state": {
      "_dom_classes": [],
      "_model_module": "@jupyter-widgets/controls",
      "_model_module_version": "1.5.0",
      "_model_name": "HTMLModel",
      "_view_count": null,
      "_view_module": "@jupyter-widgets/controls",
      "_view_module_version": "1.5.0",
      "_view_name": "HTMLView",
      "description": "",
      "description_tooltip": null,
      "layout": "IPY_MODEL_5baaec1531f74afb9d8cfbb079c3e992",
      "placeholder": "​",
      "style": "IPY_MODEL_e376ec8aaf604ecca4eac602ba8043be",
      "value": "Downloading (…)okenizer_config.json: 100%"
     }
    },
    "2bc8b1500a1c41bd807761a54bf916bb": {
     "model_module": "@jupyter-widgets/controls",
     "model_module_version": "1.5.0",
     "model_name": "HTMLModel",
     "state": {
      "_dom_classes": [],
      "_model_module": "@jupyter-widgets/controls",
      "_model_module_version": "1.5.0",
      "_model_name": "HTMLModel",
      "_view_count": null,
      "_view_module": "@jupyter-widgets/controls",
      "_view_module_version": "1.5.0",
      "_view_name": "HTMLView",
      "description": "",
      "description_tooltip": null,
      "layout": "IPY_MODEL_02e5d40f71764e9994ec9223756a8e69",
      "placeholder": "​",
      "style": "IPY_MODEL_6d1c543f9c8e431582ea5bee80a1a1aa",
      "value": "Downloading pytorch_model.bin: 100%"
     }
    },
    "2d6a4edc66114cb88a63439ab8632c38": {
     "model_module": "@jupyter-widgets/base",
     "model_module_version": "1.2.0",
     "model_name": "LayoutModel",
     "state": {
      "_model_module": "@jupyter-widgets/base",
      "_model_module_version": "1.2.0",
      "_model_name": "LayoutModel",
      "_view_count": null,
      "_view_module": "@jupyter-widgets/base",
      "_view_module_version": "1.2.0",
      "_view_name": "LayoutView",
      "align_content": null,
      "align_items": null,
      "align_self": null,
      "border": null,
      "bottom": null,
      "display": null,
      "flex": null,
      "flex_flow": null,
      "grid_area": null,
      "grid_auto_columns": null,
      "grid_auto_flow": null,
      "grid_auto_rows": null,
      "grid_column": null,
      "grid_gap": null,
      "grid_row": null,
      "grid_template_areas": null,
      "grid_template_columns": null,
      "grid_template_rows": null,
      "height": null,
      "justify_content": null,
      "justify_items": null,
      "left": null,
      "margin": null,
      "max_height": null,
      "max_width": null,
      "min_height": null,
      "min_width": null,
      "object_fit": null,
      "object_position": null,
      "order": null,
      "overflow": null,
      "overflow_x": null,
      "overflow_y": null,
      "padding": null,
      "right": null,
      "top": null,
      "visibility": null,
      "width": null
     }
    },
    "2fa7ea86360a450ab8e2404e3c55158f": {
     "model_module": "@jupyter-widgets/base",
     "model_module_version": "1.2.0",
     "model_name": "LayoutModel",
     "state": {
      "_model_module": "@jupyter-widgets/base",
      "_model_module_version": "1.2.0",
      "_model_name": "LayoutModel",
      "_view_count": null,
      "_view_module": "@jupyter-widgets/base",
      "_view_module_version": "1.2.0",
      "_view_name": "LayoutView",
      "align_content": null,
      "align_items": null,
      "align_self": null,
      "border": null,
      "bottom": null,
      "display": null,
      "flex": null,
      "flex_flow": null,
      "grid_area": null,
      "grid_auto_columns": null,
      "grid_auto_flow": null,
      "grid_auto_rows": null,
      "grid_column": null,
      "grid_gap": null,
      "grid_row": null,
      "grid_template_areas": null,
      "grid_template_columns": null,
      "grid_template_rows": null,
      "height": null,
      "justify_content": null,
      "justify_items": null,
      "left": null,
      "margin": null,
      "max_height": null,
      "max_width": null,
      "min_height": null,
      "min_width": null,
      "object_fit": null,
      "object_position": null,
      "order": null,
      "overflow": null,
      "overflow_x": null,
      "overflow_y": null,
      "padding": null,
      "right": null,
      "top": null,
      "visibility": null,
      "width": null
     }
    },
    "36da9fbd060a413fa0b94e0ad8138375": {
     "model_module": "@jupyter-widgets/controls",
     "model_module_version": "1.5.0",
     "model_name": "HTMLModel",
     "state": {
      "_dom_classes": [],
      "_model_module": "@jupyter-widgets/controls",
      "_model_module_version": "1.5.0",
      "_model_name": "HTMLModel",
      "_view_count": null,
      "_view_module": "@jupyter-widgets/controls",
      "_view_module_version": "1.5.0",
      "_view_name": "HTMLView",
      "description": "",
      "description_tooltip": null,
      "layout": "IPY_MODEL_4f3caffb061345f4acb33fd60dc1365c",
      "placeholder": "​",
      "style": "IPY_MODEL_cc27f52da07b4e7bb63ad14ce34cec5c",
      "value": "Downloading (…)/main/tokenizer.json: 100%"
     }
    },
    "396df66ae34044f28328ed678ce3cb22": {
     "model_module": "@jupyter-widgets/controls",
     "model_module_version": "1.5.0",
     "model_name": "DescriptionStyleModel",
     "state": {
      "_model_module": "@jupyter-widgets/controls",
      "_model_module_version": "1.5.0",
      "_model_name": "DescriptionStyleModel",
      "_view_count": null,
      "_view_module": "@jupyter-widgets/base",
      "_view_module_version": "1.2.0",
      "_view_name": "StyleView",
      "description_width": ""
     }
    },
    "3f6cdfa374e0435a9c672a646041c508": {
     "model_module": "@jupyter-widgets/controls",
     "model_module_version": "1.5.0",
     "model_name": "HTMLModel",
     "state": {
      "_dom_classes": [],
      "_model_module": "@jupyter-widgets/controls",
      "_model_module_version": "1.5.0",
      "_model_name": "HTMLModel",
      "_view_count": null,
      "_view_module": "@jupyter-widgets/controls",
      "_view_module_version": "1.5.0",
      "_view_name": "HTMLView",
      "description": "",
      "description_tooltip": null,
      "layout": "IPY_MODEL_2d6a4edc66114cb88a63439ab8632c38",
      "placeholder": "​",
      "style": "IPY_MODEL_8e987f0dcc2445a38d4d22c4454872a8",
      "value": " 134/134 [00:00&lt;00:00, 3.14kB/s]"
     }
    },
    "40c151bf52514647967f515e44b4b704": {
     "model_module": "@jupyter-widgets/controls",
     "model_module_version": "1.5.0",
     "model_name": "FloatProgressModel",
     "state": {
      "_dom_classes": [],
      "_model_module": "@jupyter-widgets/controls",
      "_model_module_version": "1.5.0",
      "_model_name": "FloatProgressModel",
      "_view_count": null,
      "_view_module": "@jupyter-widgets/controls",
      "_view_module_version": "1.5.0",
      "_view_name": "ProgressView",
      "bar_style": "success",
      "description": "",
      "description_tooltip": null,
      "layout": "IPY_MODEL_0c091319694f40e898e29a72f7302072",
      "max": 247723,
      "min": 0,
      "orientation": "horizontal",
      "style": "IPY_MODEL_0705fa5adebc4d4fa7100e9e0da51246",
      "value": 247723
     }
    },
    "43f53d7074a44afab656c80bdeac7753": {
     "model_module": "@jupyter-widgets/controls",
     "model_module_version": "1.5.0",
     "model_name": "HBoxModel",
     "state": {
      "_dom_classes": [],
      "_model_module": "@jupyter-widgets/controls",
      "_model_module_version": "1.5.0",
      "_model_name": "HBoxModel",
      "_view_count": null,
      "_view_module": "@jupyter-widgets/controls",
      "_view_module_version": "1.5.0",
      "_view_name": "HBoxView",
      "box_style": "",
      "children": [
       "IPY_MODEL_36da9fbd060a413fa0b94e0ad8138375",
       "IPY_MODEL_efd65b1f8bc54cf79b87b7e89311f6e4",
       "IPY_MODEL_ead903e39b8c4d5a83e4740b32d39cc0"
      ],
      "layout": "IPY_MODEL_a1b47d5a92f84f96abe2398fce65065f"
     }
    },
    "4c49a5468c264b62b013d93d270cb857": {
     "model_module": "@jupyter-widgets/base",
     "model_module_version": "1.2.0",
     "model_name": "LayoutModel",
     "state": {
      "_model_module": "@jupyter-widgets/base",
      "_model_module_version": "1.2.0",
      "_model_name": "LayoutModel",
      "_view_count": null,
      "_view_module": "@jupyter-widgets/base",
      "_view_module_version": "1.2.0",
      "_view_name": "LayoutView",
      "align_content": null,
      "align_items": null,
      "align_self": null,
      "border": null,
      "bottom": null,
      "display": null,
      "flex": null,
      "flex_flow": null,
      "grid_area": null,
      "grid_auto_columns": null,
      "grid_auto_flow": null,
      "grid_auto_rows": null,
      "grid_column": null,
      "grid_gap": null,
      "grid_row": null,
      "grid_template_areas": null,
      "grid_template_columns": null,
      "grid_template_rows": null,
      "height": null,
      "justify_content": null,
      "justify_items": null,
      "left": null,
      "margin": null,
      "max_height": null,
      "max_width": null,
      "min_height": null,
      "min_width": null,
      "object_fit": null,
      "object_position": null,
      "order": null,
      "overflow": null,
      "overflow_x": null,
      "overflow_y": null,
      "padding": null,
      "right": null,
      "top": null,
      "visibility": null,
      "width": null
     }
    },
    "4f3caffb061345f4acb33fd60dc1365c": {
     "model_module": "@jupyter-widgets/base",
     "model_module_version": "1.2.0",
     "model_name": "LayoutModel",
     "state": {
      "_model_module": "@jupyter-widgets/base",
      "_model_module_version": "1.2.0",
      "_model_name": "LayoutModel",
      "_view_count": null,
      "_view_module": "@jupyter-widgets/base",
      "_view_module_version": "1.2.0",
      "_view_name": "LayoutView",
      "align_content": null,
      "align_items": null,
      "align_self": null,
      "border": null,
      "bottom": null,
      "display": null,
      "flex": null,
      "flex_flow": null,
      "grid_area": null,
      "grid_auto_columns": null,
      "grid_auto_flow": null,
      "grid_auto_rows": null,
      "grid_column": null,
      "grid_gap": null,
      "grid_row": null,
      "grid_template_areas": null,
      "grid_template_columns": null,
      "grid_template_rows": null,
      "height": null,
      "justify_content": null,
      "justify_items": null,
      "left": null,
      "margin": null,
      "max_height": null,
      "max_width": null,
      "min_height": null,
      "min_width": null,
      "object_fit": null,
      "object_position": null,
      "order": null,
      "overflow": null,
      "overflow_x": null,
      "overflow_y": null,
      "padding": null,
      "right": null,
      "top": null,
      "visibility": null,
      "width": null
     }
    },
    "54851592b58248ab8662ec443755a0b1": {
     "model_module": "@jupyter-widgets/controls",
     "model_module_version": "1.5.0",
     "model_name": "ProgressStyleModel",
     "state": {
      "_model_module": "@jupyter-widgets/controls",
      "_model_module_version": "1.5.0",
      "_model_name": "ProgressStyleModel",
      "_view_count": null,
      "_view_module": "@jupyter-widgets/base",
      "_view_module_version": "1.2.0",
      "_view_name": "StyleView",
      "bar_color": null,
      "description_width": ""
     }
    },
    "5baaec1531f74afb9d8cfbb079c3e992": {
     "model_module": "@jupyter-widgets/base",
     "model_module_version": "1.2.0",
     "model_name": "LayoutModel",
     "state": {
      "_model_module": "@jupyter-widgets/base",
      "_model_module_version": "1.2.0",
      "_model_name": "LayoutModel",
      "_view_count": null,
      "_view_module": "@jupyter-widgets/base",
      "_view_module_version": "1.2.0",
      "_view_name": "LayoutView",
      "align_content": null,
      "align_items": null,
      "align_self": null,
      "border": null,
      "bottom": null,
      "display": null,
      "flex": null,
      "flex_flow": null,
      "grid_area": null,
      "grid_auto_columns": null,
      "grid_auto_flow": null,
      "grid_auto_rows": null,
      "grid_column": null,
      "grid_gap": null,
      "grid_row": null,
      "grid_template_areas": null,
      "grid_template_columns": null,
      "grid_template_rows": null,
      "height": null,
      "justify_content": null,
      "justify_items": null,
      "left": null,
      "margin": null,
      "max_height": null,
      "max_width": null,
      "min_height": null,
      "min_width": null,
      "object_fit": null,
      "object_position": null,
      "order": null,
      "overflow": null,
      "overflow_x": null,
      "overflow_y": null,
      "padding": null,
      "right": null,
      "top": null,
      "visibility": null,
      "width": null
     }
    },
    "5dcc1f47fced401a86a692b01f0f0328": {
     "model_module": "@jupyter-widgets/controls",
     "model_module_version": "1.5.0",
     "model_name": "DescriptionStyleModel",
     "state": {
      "_model_module": "@jupyter-widgets/controls",
      "_model_module_version": "1.5.0",
      "_model_name": "DescriptionStyleModel",
      "_view_count": null,
      "_view_module": "@jupyter-widgets/base",
      "_view_module_version": "1.2.0",
      "_view_name": "StyleView",
      "description_width": ""
     }
    },
    "6d1c543f9c8e431582ea5bee80a1a1aa": {
     "model_module": "@jupyter-widgets/controls",
     "model_module_version": "1.5.0",
     "model_name": "DescriptionStyleModel",
     "state": {
      "_model_module": "@jupyter-widgets/controls",
      "_model_module_version": "1.5.0",
      "_model_name": "DescriptionStyleModel",
      "_view_count": null,
      "_view_module": "@jupyter-widgets/base",
      "_view_module_version": "1.2.0",
      "_view_name": "StyleView",
      "description_width": ""
     }
    },
    "71cbdcbf71284cfd96b9ad5259f1c7c0": {
     "model_module": "@jupyter-widgets/base",
     "model_module_version": "1.2.0",
     "model_name": "LayoutModel",
     "state": {
      "_model_module": "@jupyter-widgets/base",
      "_model_module_version": "1.2.0",
      "_model_name": "LayoutModel",
      "_view_count": null,
      "_view_module": "@jupyter-widgets/base",
      "_view_module_version": "1.2.0",
      "_view_name": "LayoutView",
      "align_content": null,
      "align_items": null,
      "align_self": null,
      "border": null,
      "bottom": null,
      "display": null,
      "flex": null,
      "flex_flow": null,
      "grid_area": null,
      "grid_auto_columns": null,
      "grid_auto_flow": null,
      "grid_auto_rows": null,
      "grid_column": null,
      "grid_gap": null,
      "grid_row": null,
      "grid_template_areas": null,
      "grid_template_columns": null,
      "grid_template_rows": null,
      "height": null,
      "justify_content": null,
      "justify_items": null,
      "left": null,
      "margin": null,
      "max_height": null,
      "max_width": null,
      "min_height": null,
      "min_width": null,
      "object_fit": null,
      "object_position": null,
      "order": null,
      "overflow": null,
      "overflow_x": null,
      "overflow_y": null,
      "padding": null,
      "right": null,
      "top": null,
      "visibility": null,
      "width": null
     }
    },
    "75ebff29e5ce4a1e89cb53920a986dca": {
     "model_module": "@jupyter-widgets/base",
     "model_module_version": "1.2.0",
     "model_name": "LayoutModel",
     "state": {
      "_model_module": "@jupyter-widgets/base",
      "_model_module_version": "1.2.0",
      "_model_name": "LayoutModel",
      "_view_count": null,
      "_view_module": "@jupyter-widgets/base",
      "_view_module_version": "1.2.0",
      "_view_name": "LayoutView",
      "align_content": null,
      "align_items": null,
      "align_self": null,
      "border": null,
      "bottom": null,
      "display": null,
      "flex": null,
      "flex_flow": null,
      "grid_area": null,
      "grid_auto_columns": null,
      "grid_auto_flow": null,
      "grid_auto_rows": null,
      "grid_column": null,
      "grid_gap": null,
      "grid_row": null,
      "grid_template_areas": null,
      "grid_template_columns": null,
      "grid_template_rows": null,
      "height": null,
      "justify_content": null,
      "justify_items": null,
      "left": null,
      "margin": null,
      "max_height": null,
      "max_width": null,
      "min_height": null,
      "min_width": null,
      "object_fit": null,
      "object_position": null,
      "order": null,
      "overflow": null,
      "overflow_x": null,
      "overflow_y": null,
      "padding": null,
      "right": null,
      "top": null,
      "visibility": null,
      "width": null
     }
    },
    "8ac319acc89b4420ab0dbe247ab825d2": {
     "model_module": "@jupyter-widgets/controls",
     "model_module_version": "1.5.0",
     "model_name": "ProgressStyleModel",
     "state": {
      "_model_module": "@jupyter-widgets/controls",
      "_model_module_version": "1.5.0",
      "_model_name": "ProgressStyleModel",
      "_view_count": null,
      "_view_module": "@jupyter-widgets/base",
      "_view_module_version": "1.2.0",
      "_view_name": "StyleView",
      "bar_color": null,
      "description_width": ""
     }
    },
    "8e67f8ef68364154bbca6a4c354cc08d": {
     "model_module": "@jupyter-widgets/base",
     "model_module_version": "1.2.0",
     "model_name": "LayoutModel",
     "state": {
      "_model_module": "@jupyter-widgets/base",
      "_model_module_version": "1.2.0",
      "_model_name": "LayoutModel",
      "_view_count": null,
      "_view_module": "@jupyter-widgets/base",
      "_view_module_version": "1.2.0",
      "_view_name": "LayoutView",
      "align_content": null,
      "align_items": null,
      "align_self": null,
      "border": null,
      "bottom": null,
      "display": null,
      "flex": null,
      "flex_flow": null,
      "grid_area": null,
      "grid_auto_columns": null,
      "grid_auto_flow": null,
      "grid_auto_rows": null,
      "grid_column": null,
      "grid_gap": null,
      "grid_row": null,
      "grid_template_areas": null,
      "grid_template_columns": null,
      "grid_template_rows": null,
      "height": null,
      "justify_content": null,
      "justify_items": null,
      "left": null,
      "margin": null,
      "max_height": null,
      "max_width": null,
      "min_height": null,
      "min_width": null,
      "object_fit": null,
      "object_position": null,
      "order": null,
      "overflow": null,
      "overflow_x": null,
      "overflow_y": null,
      "padding": null,
      "right": null,
      "top": null,
      "visibility": null,
      "width": null
     }
    },
    "8e987f0dcc2445a38d4d22c4454872a8": {
     "model_module": "@jupyter-widgets/controls",
     "model_module_version": "1.5.0",
     "model_name": "DescriptionStyleModel",
     "state": {
      "_model_module": "@jupyter-widgets/controls",
      "_model_module_version": "1.5.0",
      "_model_name": "DescriptionStyleModel",
      "_view_count": null,
      "_view_module": "@jupyter-widgets/base",
      "_view_module_version": "1.2.0",
      "_view_name": "StyleView",
      "description_width": ""
     }
    },
    "92b478ab8c8e4a0daa999aad57e95ac3": {
     "model_module": "@jupyter-widgets/controls",
     "model_module_version": "1.5.0",
     "model_name": "HBoxModel",
     "state": {
      "_dom_classes": [],
      "_model_module": "@jupyter-widgets/controls",
      "_model_module_version": "1.5.0",
      "_model_name": "HBoxModel",
      "_view_count": null,
      "_view_module": "@jupyter-widgets/controls",
      "_view_module_version": "1.5.0",
      "_view_name": "HBoxView",
      "box_style": "",
      "children": [
       "IPY_MODEL_2bc8b1500a1c41bd807761a54bf916bb",
       "IPY_MODEL_9ef62896ca1b43c18c1adf8a282ef398",
       "IPY_MODEL_cc4bb9d6a8e948cba93d31d073ac03af"
      ],
      "layout": "IPY_MODEL_a864f46b0bd545a7bd1e974c107e4ef8"
     }
    },
    "96120984681b4289bd7426a6118a1d37": {
     "model_module": "@jupyter-widgets/controls",
     "model_module_version": "1.5.0",
     "model_name": "FloatProgressModel",
     "state": {
      "_dom_classes": [],
      "_model_module": "@jupyter-widgets/controls",
      "_model_module_version": "1.5.0",
      "_model_name": "FloatProgressModel",
      "_view_count": null,
      "_view_module": "@jupyter-widgets/controls",
      "_view_module_version": "1.5.0",
      "_view_name": "ProgressView",
      "bar_style": "success",
      "description": "",
      "description_tooltip": null,
      "layout": "IPY_MODEL_e1fa799fab8945be9cce2d13921cbf86",
      "max": 310,
      "min": 0,
      "orientation": "horizontal",
      "style": "IPY_MODEL_54851592b58248ab8662ec443755a0b1",
      "value": 310
     }
    },
    "9919ae454a2242c6aaf3dcec2b4a4bc3": {
     "model_module": "@jupyter-widgets/controls",
     "model_module_version": "1.5.0",
     "model_name": "DescriptionStyleModel",
     "state": {
      "_model_module": "@jupyter-widgets/controls",
      "_model_module_version": "1.5.0",
      "_model_name": "DescriptionStyleModel",
      "_view_count": null,
      "_view_module": "@jupyter-widgets/base",
      "_view_module_version": "1.2.0",
      "_view_name": "StyleView",
      "description_width": ""
     }
    },
    "9c13322396144af19accc4a60f5f9a6b": {
     "model_module": "@jupyter-widgets/controls",
     "model_module_version": "1.5.0",
     "model_name": "HBoxModel",
     "state": {
      "_dom_classes": [],
      "_model_module": "@jupyter-widgets/controls",
      "_model_module_version": "1.5.0",
      "_model_name": "HBoxModel",
      "_view_count": null,
      "_view_module": "@jupyter-widgets/controls",
      "_view_module_version": "1.5.0",
      "_view_name": "HBoxView",
      "box_style": "",
      "children": [
       "IPY_MODEL_fcdf85265342449eb72f451b2546de39",
       "IPY_MODEL_d82c1e0726824dac89737433d07037ef",
       "IPY_MODEL_b2c49205e8884ad4ae5d66e16b642c52"
      ],
      "layout": "IPY_MODEL_8e67f8ef68364154bbca6a4c354cc08d"
     }
    },
    "9ef62896ca1b43c18c1adf8a282ef398": {
     "model_module": "@jupyter-widgets/controls",
     "model_module_version": "1.5.0",
     "model_name": "FloatProgressModel",
     "state": {
      "_dom_classes": [],
      "_model_module": "@jupyter-widgets/controls",
      "_model_module_version": "1.5.0",
      "_model_name": "FloatProgressModel",
      "_view_count": null,
      "_view_module": "@jupyter-widgets/controls",
      "_view_module_version": "1.5.0",
      "_view_name": "ProgressView",
      "bar_style": "success",
      "description": "",
      "description_tooltip": null,
      "layout": "IPY_MODEL_e94092c637004e37a98cbbc13bc8a8b9",
      "max": 439621341,
      "min": 0,
      "orientation": "horizontal",
      "style": "IPY_MODEL_b9a4f2122c874921a99f81f72b49c8c1",
      "value": 439621341
     }
    },
    "a1b47d5a92f84f96abe2398fce65065f": {
     "model_module": "@jupyter-widgets/base",
     "model_module_version": "1.2.0",
     "model_name": "LayoutModel",
     "state": {
      "_model_module": "@jupyter-widgets/base",
      "_model_module_version": "1.2.0",
      "_model_name": "LayoutModel",
      "_view_count": null,
      "_view_module": "@jupyter-widgets/base",
      "_view_module_version": "1.2.0",
      "_view_name": "LayoutView",
      "align_content": null,
      "align_items": null,
      "align_self": null,
      "border": null,
      "bottom": null,
      "display": null,
      "flex": null,
      "flex_flow": null,
      "grid_area": null,
      "grid_auto_columns": null,
      "grid_auto_flow": null,
      "grid_auto_rows": null,
      "grid_column": null,
      "grid_gap": null,
      "grid_row": null,
      "grid_template_areas": null,
      "grid_template_columns": null,
      "grid_template_rows": null,
      "height": null,
      "justify_content": null,
      "justify_items": null,
      "left": null,
      "margin": null,
      "max_height": null,
      "max_width": null,
      "min_height": null,
      "min_width": null,
      "object_fit": null,
      "object_position": null,
      "order": null,
      "overflow": null,
      "overflow_x": null,
      "overflow_y": null,
      "padding": null,
      "right": null,
      "top": null,
      "visibility": null,
      "width": null
     }
    },
    "a1e7294165644eb28e1be50e1cec1ad7": {
     "model_module": "@jupyter-widgets/controls",
     "model_module_version": "1.5.0",
     "model_name": "ProgressStyleModel",
     "state": {
      "_model_module": "@jupyter-widgets/controls",
      "_model_module_version": "1.5.0",
      "_model_name": "ProgressStyleModel",
      "_view_count": null,
      "_view_module": "@jupyter-widgets/base",
      "_view_module_version": "1.2.0",
      "_view_name": "StyleView",
      "bar_color": null,
      "description_width": ""
     }
    },
    "a864f46b0bd545a7bd1e974c107e4ef8": {
     "model_module": "@jupyter-widgets/base",
     "model_module_version": "1.2.0",
     "model_name": "LayoutModel",
     "state": {
      "_model_module": "@jupyter-widgets/base",
      "_model_module_version": "1.2.0",
      "_model_name": "LayoutModel",
      "_view_count": null,
      "_view_module": "@jupyter-widgets/base",
      "_view_module_version": "1.2.0",
      "_view_name": "LayoutView",
      "align_content": null,
      "align_items": null,
      "align_self": null,
      "border": null,
      "bottom": null,
      "display": null,
      "flex": null,
      "flex_flow": null,
      "grid_area": null,
      "grid_auto_columns": null,
      "grid_auto_flow": null,
      "grid_auto_rows": null,
      "grid_column": null,
      "grid_gap": null,
      "grid_row": null,
      "grid_template_areas": null,
      "grid_template_columns": null,
      "grid_template_rows": null,
      "height": null,
      "justify_content": null,
      "justify_items": null,
      "left": null,
      "margin": null,
      "max_height": null,
      "max_width": null,
      "min_height": null,
      "min_width": null,
      "object_fit": null,
      "object_position": null,
      "order": null,
      "overflow": null,
      "overflow_x": null,
      "overflow_y": null,
      "padding": null,
      "right": null,
      "top": null,
      "visibility": null,
      "width": null
     }
    },
    "addad7e91ccd4b9e8983aceef1d6403f": {
     "model_module": "@jupyter-widgets/controls",
     "model_module_version": "1.5.0",
     "model_name": "DescriptionStyleModel",
     "state": {
      "_model_module": "@jupyter-widgets/controls",
      "_model_module_version": "1.5.0",
      "_model_name": "DescriptionStyleModel",
      "_view_count": null,
      "_view_module": "@jupyter-widgets/base",
      "_view_module_version": "1.2.0",
      "_view_name": "StyleView",
      "description_width": ""
     }
    },
    "b2c49205e8884ad4ae5d66e16b642c52": {
     "model_module": "@jupyter-widgets/controls",
     "model_module_version": "1.5.0",
     "model_name": "HTMLModel",
     "state": {
      "_dom_classes": [],
      "_model_module": "@jupyter-widgets/controls",
      "_model_module_version": "1.5.0",
      "_model_name": "HTMLModel",
      "_view_count": null,
      "_view_module": "@jupyter-widgets/controls",
      "_view_module_version": "1.5.0",
      "_view_name": "HTMLView",
      "description": "",
      "description_tooltip": null,
      "layout": "IPY_MODEL_e02762509df044c18ac3a7e43d5672fd",
      "placeholder": "​",
      "style": "IPY_MODEL_9919ae454a2242c6aaf3dcec2b4a4bc3",
      "value": " 650/650 [00:00&lt;00:00, 26.7kB/s]"
     }
    },
    "b2db9fa7f8c94aa1ace082c36fdf3943": {
     "model_module": "@jupyter-widgets/controls",
     "model_module_version": "1.5.0",
     "model_name": "DescriptionStyleModel",
     "state": {
      "_model_module": "@jupyter-widgets/controls",
      "_model_module_version": "1.5.0",
      "_model_name": "DescriptionStyleModel",
      "_view_count": null,
      "_view_module": "@jupyter-widgets/base",
      "_view_module_version": "1.2.0",
      "_view_name": "StyleView",
      "description_width": ""
     }
    },
    "b9a4f2122c874921a99f81f72b49c8c1": {
     "model_module": "@jupyter-widgets/controls",
     "model_module_version": "1.5.0",
     "model_name": "ProgressStyleModel",
     "state": {
      "_model_module": "@jupyter-widgets/controls",
      "_model_module_version": "1.5.0",
      "_model_name": "ProgressStyleModel",
      "_view_count": null,
      "_view_module": "@jupyter-widgets/base",
      "_view_module_version": "1.2.0",
      "_view_name": "StyleView",
      "bar_color": null,
      "description_width": ""
     }
    },
    "c03e7708da694f18aa30441a013b1fc9": {
     "model_module": "@jupyter-widgets/base",
     "model_module_version": "1.2.0",
     "model_name": "LayoutModel",
     "state": {
      "_model_module": "@jupyter-widgets/base",
      "_model_module_version": "1.2.0",
      "_model_name": "LayoutModel",
      "_view_count": null,
      "_view_module": "@jupyter-widgets/base",
      "_view_module_version": "1.2.0",
      "_view_name": "LayoutView",
      "align_content": null,
      "align_items": null,
      "align_self": null,
      "border": null,
      "bottom": null,
      "display": null,
      "flex": null,
      "flex_flow": null,
      "grid_area": null,
      "grid_auto_columns": null,
      "grid_auto_flow": null,
      "grid_auto_rows": null,
      "grid_column": null,
      "grid_gap": null,
      "grid_row": null,
      "grid_template_areas": null,
      "grid_template_columns": null,
      "grid_template_rows": null,
      "height": null,
      "justify_content": null,
      "justify_items": null,
      "left": null,
      "margin": null,
      "max_height": null,
      "max_width": null,
      "min_height": null,
      "min_width": null,
      "object_fit": null,
      "object_position": null,
      "order": null,
      "overflow": null,
      "overflow_x": null,
      "overflow_y": null,
      "padding": null,
      "right": null,
      "top": null,
      "visibility": null,
      "width": null
     }
    },
    "c0663d7248db49d3b4ed5a6a9796def1": {
     "model_module": "@jupyter-widgets/controls",
     "model_module_version": "1.5.0",
     "model_name": "HTMLModel",
     "state": {
      "_dom_classes": [],
      "_model_module": "@jupyter-widgets/controls",
      "_model_module_version": "1.5.0",
      "_model_name": "HTMLModel",
      "_view_count": null,
      "_view_module": "@jupyter-widgets/controls",
      "_view_module_version": "1.5.0",
      "_view_name": "HTMLView",
      "description": "",
      "description_tooltip": null,
      "layout": "IPY_MODEL_064cb390095f4aab987a8769450876c9",
      "placeholder": "​",
      "style": "IPY_MODEL_396df66ae34044f28328ed678ce3cb22",
      "value": " 310/310 [00:00&lt;00:00, 10.7kB/s]"
     }
    },
    "c48c4f713ca44faa8937175bebdf6c6d": {
     "model_module": "@jupyter-widgets/controls",
     "model_module_version": "1.5.0",
     "model_name": "HBoxModel",
     "state": {
      "_dom_classes": [],
      "_model_module": "@jupyter-widgets/controls",
      "_model_module_version": "1.5.0",
      "_model_name": "HBoxModel",
      "_view_count": null,
      "_view_module": "@jupyter-widgets/controls",
      "_view_module_version": "1.5.0",
      "_view_name": "HBoxView",
      "box_style": "",
      "children": [
       "IPY_MODEL_2b303687938c4bbba13a05080acb794c",
       "IPY_MODEL_96120984681b4289bd7426a6118a1d37",
       "IPY_MODEL_c0663d7248db49d3b4ed5a6a9796def1"
      ],
      "layout": "IPY_MODEL_d2bb7e727c584c58a4052a2e0a4b08c4"
     }
    },
    "c68c44d272a74784bfce87794bdbc36a": {
     "model_module": "@jupyter-widgets/controls",
     "model_module_version": "1.5.0",
     "model_name": "ProgressStyleModel",
     "state": {
      "_model_module": "@jupyter-widgets/controls",
      "_model_module_version": "1.5.0",
      "_model_name": "ProgressStyleModel",
      "_view_count": null,
      "_view_module": "@jupyter-widgets/base",
      "_view_module_version": "1.2.0",
      "_view_name": "StyleView",
      "bar_color": null,
      "description_width": ""
     }
    },
    "c8bcdd8e27ad4323b86b3313fb581440": {
     "model_module": "@jupyter-widgets/base",
     "model_module_version": "1.2.0",
     "model_name": "LayoutModel",
     "state": {
      "_model_module": "@jupyter-widgets/base",
      "_model_module_version": "1.2.0",
      "_model_name": "LayoutModel",
      "_view_count": null,
      "_view_module": "@jupyter-widgets/base",
      "_view_module_version": "1.2.0",
      "_view_name": "LayoutView",
      "align_content": null,
      "align_items": null,
      "align_self": null,
      "border": null,
      "bottom": null,
      "display": null,
      "flex": null,
      "flex_flow": null,
      "grid_area": null,
      "grid_auto_columns": null,
      "grid_auto_flow": null,
      "grid_auto_rows": null,
      "grid_column": null,
      "grid_gap": null,
      "grid_row": null,
      "grid_template_areas": null,
      "grid_template_columns": null,
      "grid_template_rows": null,
      "height": null,
      "justify_content": null,
      "justify_items": null,
      "left": null,
      "margin": null,
      "max_height": null,
      "max_width": null,
      "min_height": null,
      "min_width": null,
      "object_fit": null,
      "object_position": null,
      "order": null,
      "overflow": null,
      "overflow_x": null,
      "overflow_y": null,
      "padding": null,
      "right": null,
      "top": null,
      "visibility": null,
      "width": null
     }
    },
    "cc2034bf0be5422fa5895130f74fcf59": {
     "model_module": "@jupyter-widgets/base",
     "model_module_version": "1.2.0",
     "model_name": "LayoutModel",
     "state": {
      "_model_module": "@jupyter-widgets/base",
      "_model_module_version": "1.2.0",
      "_model_name": "LayoutModel",
      "_view_count": null,
      "_view_module": "@jupyter-widgets/base",
      "_view_module_version": "1.2.0",
      "_view_name": "LayoutView",
      "align_content": null,
      "align_items": null,
      "align_self": null,
      "border": null,
      "bottom": null,
      "display": null,
      "flex": null,
      "flex_flow": null,
      "grid_area": null,
      "grid_auto_columns": null,
      "grid_auto_flow": null,
      "grid_auto_rows": null,
      "grid_column": null,
      "grid_gap": null,
      "grid_row": null,
      "grid_template_areas": null,
      "grid_template_columns": null,
      "grid_template_rows": null,
      "height": null,
      "justify_content": null,
      "justify_items": null,
      "left": null,
      "margin": null,
      "max_height": null,
      "max_width": null,
      "min_height": null,
      "min_width": null,
      "object_fit": null,
      "object_position": null,
      "order": null,
      "overflow": null,
      "overflow_x": null,
      "overflow_y": null,
      "padding": null,
      "right": null,
      "top": null,
      "visibility": null,
      "width": null
     }
    },
    "cc27f52da07b4e7bb63ad14ce34cec5c": {
     "model_module": "@jupyter-widgets/controls",
     "model_module_version": "1.5.0",
     "model_name": "DescriptionStyleModel",
     "state": {
      "_model_module": "@jupyter-widgets/controls",
      "_model_module_version": "1.5.0",
      "_model_name": "DescriptionStyleModel",
      "_view_count": null,
      "_view_module": "@jupyter-widgets/base",
      "_view_module_version": "1.2.0",
      "_view_name": "StyleView",
      "description_width": ""
     }
    },
    "cc4bb9d6a8e948cba93d31d073ac03af": {
     "model_module": "@jupyter-widgets/controls",
     "model_module_version": "1.5.0",
     "model_name": "HTMLModel",
     "state": {
      "_dom_classes": [],
      "_model_module": "@jupyter-widgets/controls",
      "_model_module_version": "1.5.0",
      "_model_name": "HTMLModel",
      "_view_count": null,
      "_view_module": "@jupyter-widgets/controls",
      "_view_module_version": "1.5.0",
      "_view_name": "HTMLView",
      "description": "",
      "description_tooltip": null,
      "layout": "IPY_MODEL_71cbdcbf71284cfd96b9ad5259f1c7c0",
      "placeholder": "​",
      "style": "IPY_MODEL_26b3d8d6fde64d82ad49dc81b193275f",
      "value": " 440M/440M [00:04&lt;00:00, 29.7MB/s]"
     }
    },
    "d04539d3259f4cbcaffcedfb2e2a8365": {
     "model_module": "@jupyter-widgets/base",
     "model_module_version": "1.2.0",
     "model_name": "LayoutModel",
     "state": {
      "_model_module": "@jupyter-widgets/base",
      "_model_module_version": "1.2.0",
      "_model_name": "LayoutModel",
      "_view_count": null,
      "_view_module": "@jupyter-widgets/base",
      "_view_module_version": "1.2.0",
      "_view_name": "LayoutView",
      "align_content": null,
      "align_items": null,
      "align_self": null,
      "border": null,
      "bottom": null,
      "display": null,
      "flex": null,
      "flex_flow": null,
      "grid_area": null,
      "grid_auto_columns": null,
      "grid_auto_flow": null,
      "grid_auto_rows": null,
      "grid_column": null,
      "grid_gap": null,
      "grid_row": null,
      "grid_template_areas": null,
      "grid_template_columns": null,
      "grid_template_rows": null,
      "height": null,
      "justify_content": null,
      "justify_items": null,
      "left": null,
      "margin": null,
      "max_height": null,
      "max_width": null,
      "min_height": null,
      "min_width": null,
      "object_fit": null,
      "object_position": null,
      "order": null,
      "overflow": null,
      "overflow_x": null,
      "overflow_y": null,
      "padding": null,
      "right": null,
      "top": null,
      "visibility": null,
      "width": null
     }
    },
    "d2bb7e727c584c58a4052a2e0a4b08c4": {
     "model_module": "@jupyter-widgets/base",
     "model_module_version": "1.2.0",
     "model_name": "LayoutModel",
     "state": {
      "_model_module": "@jupyter-widgets/base",
      "_model_module_version": "1.2.0",
      "_model_name": "LayoutModel",
      "_view_count": null,
      "_view_module": "@jupyter-widgets/base",
      "_view_module_version": "1.2.0",
      "_view_name": "LayoutView",
      "align_content": null,
      "align_items": null,
      "align_self": null,
      "border": null,
      "bottom": null,
      "display": null,
      "flex": null,
      "flex_flow": null,
      "grid_area": null,
      "grid_auto_columns": null,
      "grid_auto_flow": null,
      "grid_auto_rows": null,
      "grid_column": null,
      "grid_gap": null,
      "grid_row": null,
      "grid_template_areas": null,
      "grid_template_columns": null,
      "grid_template_rows": null,
      "height": null,
      "justify_content": null,
      "justify_items": null,
      "left": null,
      "margin": null,
      "max_height": null,
      "max_width": null,
      "min_height": null,
      "min_width": null,
      "object_fit": null,
      "object_position": null,
      "order": null,
      "overflow": null,
      "overflow_x": null,
      "overflow_y": null,
      "padding": null,
      "right": null,
      "top": null,
      "visibility": null,
      "width": null
     }
    },
    "d46ae31061014052a36fbe1b3ec95c88": {
     "model_module": "@jupyter-widgets/controls",
     "model_module_version": "1.5.0",
     "model_name": "HBoxModel",
     "state": {
      "_dom_classes": [],
      "_model_module": "@jupyter-widgets/controls",
      "_model_module_version": "1.5.0",
      "_model_name": "HBoxModel",
      "_view_count": null,
      "_view_module": "@jupyter-widgets/controls",
      "_view_module_version": "1.5.0",
      "_view_name": "HBoxView",
      "box_style": "",
      "children": [
       "IPY_MODEL_f340bd3c9af543b09d70a007b65911c6",
       "IPY_MODEL_e48c9d94e19a4f099f93a085d64ef61e",
       "IPY_MODEL_3f6cdfa374e0435a9c672a646041c508"
      ],
      "layout": "IPY_MODEL_e2711e2edefe4051a8d382b5af578759"
     }
    },
    "d82c1e0726824dac89737433d07037ef": {
     "model_module": "@jupyter-widgets/controls",
     "model_module_version": "1.5.0",
     "model_name": "FloatProgressModel",
     "state": {
      "_dom_classes": [],
      "_model_module": "@jupyter-widgets/controls",
      "_model_module_version": "1.5.0",
      "_model_name": "FloatProgressModel",
      "_view_count": null,
      "_view_module": "@jupyter-widgets/controls",
      "_view_module_version": "1.5.0",
      "_view_name": "ProgressView",
      "bar_style": "success",
      "description": "",
      "description_tooltip": null,
      "layout": "IPY_MODEL_d04539d3259f4cbcaffcedfb2e2a8365",
      "max": 650,
      "min": 0,
      "orientation": "horizontal",
      "style": "IPY_MODEL_c68c44d272a74784bfce87794bdbc36a",
      "value": 650
     }
    },
    "dec36bc248f04ec38d6833a0347c80cb": {
     "model_module": "@jupyter-widgets/controls",
     "model_module_version": "1.5.0",
     "model_name": "DescriptionStyleModel",
     "state": {
      "_model_module": "@jupyter-widgets/controls",
      "_model_module_version": "1.5.0",
      "_model_name": "DescriptionStyleModel",
      "_view_count": null,
      "_view_module": "@jupyter-widgets/base",
      "_view_module_version": "1.2.0",
      "_view_name": "StyleView",
      "description_width": ""
     }
    },
    "e02762509df044c18ac3a7e43d5672fd": {
     "model_module": "@jupyter-widgets/base",
     "model_module_version": "1.2.0",
     "model_name": "LayoutModel",
     "state": {
      "_model_module": "@jupyter-widgets/base",
      "_model_module_version": "1.2.0",
      "_model_name": "LayoutModel",
      "_view_count": null,
      "_view_module": "@jupyter-widgets/base",
      "_view_module_version": "1.2.0",
      "_view_name": "LayoutView",
      "align_content": null,
      "align_items": null,
      "align_self": null,
      "border": null,
      "bottom": null,
      "display": null,
      "flex": null,
      "flex_flow": null,
      "grid_area": null,
      "grid_auto_columns": null,
      "grid_auto_flow": null,
      "grid_auto_rows": null,
      "grid_column": null,
      "grid_gap": null,
      "grid_row": null,
      "grid_template_areas": null,
      "grid_template_columns": null,
      "grid_template_rows": null,
      "height": null,
      "justify_content": null,
      "justify_items": null,
      "left": null,
      "margin": null,
      "max_height": null,
      "max_width": null,
      "min_height": null,
      "min_width": null,
      "object_fit": null,
      "object_position": null,
      "order": null,
      "overflow": null,
      "overflow_x": null,
      "overflow_y": null,
      "padding": null,
      "right": null,
      "top": null,
      "visibility": null,
      "width": null
     }
    },
    "e1fa799fab8945be9cce2d13921cbf86": {
     "model_module": "@jupyter-widgets/base",
     "model_module_version": "1.2.0",
     "model_name": "LayoutModel",
     "state": {
      "_model_module": "@jupyter-widgets/base",
      "_model_module_version": "1.2.0",
      "_model_name": "LayoutModel",
      "_view_count": null,
      "_view_module": "@jupyter-widgets/base",
      "_view_module_version": "1.2.0",
      "_view_name": "LayoutView",
      "align_content": null,
      "align_items": null,
      "align_self": null,
      "border": null,
      "bottom": null,
      "display": null,
      "flex": null,
      "flex_flow": null,
      "grid_area": null,
      "grid_auto_columns": null,
      "grid_auto_flow": null,
      "grid_auto_rows": null,
      "grid_column": null,
      "grid_gap": null,
      "grid_row": null,
      "grid_template_areas": null,
      "grid_template_columns": null,
      "grid_template_rows": null,
      "height": null,
      "justify_content": null,
      "justify_items": null,
      "left": null,
      "margin": null,
      "max_height": null,
      "max_width": null,
      "min_height": null,
      "min_width": null,
      "object_fit": null,
      "object_position": null,
      "order": null,
      "overflow": null,
      "overflow_x": null,
      "overflow_y": null,
      "padding": null,
      "right": null,
      "top": null,
      "visibility": null,
      "width": null
     }
    },
    "e2711e2edefe4051a8d382b5af578759": {
     "model_module": "@jupyter-widgets/base",
     "model_module_version": "1.2.0",
     "model_name": "LayoutModel",
     "state": {
      "_model_module": "@jupyter-widgets/base",
      "_model_module_version": "1.2.0",
      "_model_name": "LayoutModel",
      "_view_count": null,
      "_view_module": "@jupyter-widgets/base",
      "_view_module_version": "1.2.0",
      "_view_name": "LayoutView",
      "align_content": null,
      "align_items": null,
      "align_self": null,
      "border": null,
      "bottom": null,
      "display": null,
      "flex": null,
      "flex_flow": null,
      "grid_area": null,
      "grid_auto_columns": null,
      "grid_auto_flow": null,
      "grid_auto_rows": null,
      "grid_column": null,
      "grid_gap": null,
      "grid_row": null,
      "grid_template_areas": null,
      "grid_template_columns": null,
      "grid_template_rows": null,
      "height": null,
      "justify_content": null,
      "justify_items": null,
      "left": null,
      "margin": null,
      "max_height": null,
      "max_width": null,
      "min_height": null,
      "min_width": null,
      "object_fit": null,
      "object_position": null,
      "order": null,
      "overflow": null,
      "overflow_x": null,
      "overflow_y": null,
      "padding": null,
      "right": null,
      "top": null,
      "visibility": null,
      "width": null
     }
    },
    "e376ec8aaf604ecca4eac602ba8043be": {
     "model_module": "@jupyter-widgets/controls",
     "model_module_version": "1.5.0",
     "model_name": "DescriptionStyleModel",
     "state": {
      "_model_module": "@jupyter-widgets/controls",
      "_model_module_version": "1.5.0",
      "_model_name": "DescriptionStyleModel",
      "_view_count": null,
      "_view_module": "@jupyter-widgets/base",
      "_view_module_version": "1.2.0",
      "_view_name": "StyleView",
      "description_width": ""
     }
    },
    "e48c9d94e19a4f099f93a085d64ef61e": {
     "model_module": "@jupyter-widgets/controls",
     "model_module_version": "1.5.0",
     "model_name": "FloatProgressModel",
     "state": {
      "_dom_classes": [],
      "_model_module": "@jupyter-widgets/controls",
      "_model_module_version": "1.5.0",
      "_model_name": "FloatProgressModel",
      "_view_count": null,
      "_view_module": "@jupyter-widgets/controls",
      "_view_module_version": "1.5.0",
      "_view_name": "ProgressView",
      "bar_style": "success",
      "description": "",
      "description_tooltip": null,
      "layout": "IPY_MODEL_2fa7ea86360a450ab8e2404e3c55158f",
      "max": 134,
      "min": 0,
      "orientation": "horizontal",
      "style": "IPY_MODEL_a1e7294165644eb28e1be50e1cec1ad7",
      "value": 134
     }
    },
    "e94092c637004e37a98cbbc13bc8a8b9": {
     "model_module": "@jupyter-widgets/base",
     "model_module_version": "1.2.0",
     "model_name": "LayoutModel",
     "state": {
      "_model_module": "@jupyter-widgets/base",
      "_model_module_version": "1.2.0",
      "_model_name": "LayoutModel",
      "_view_count": null,
      "_view_module": "@jupyter-widgets/base",
      "_view_module_version": "1.2.0",
      "_view_name": "LayoutView",
      "align_content": null,
      "align_items": null,
      "align_self": null,
      "border": null,
      "bottom": null,
      "display": null,
      "flex": null,
      "flex_flow": null,
      "grid_area": null,
      "grid_auto_columns": null,
      "grid_auto_flow": null,
      "grid_auto_rows": null,
      "grid_column": null,
      "grid_gap": null,
      "grid_row": null,
      "grid_template_areas": null,
      "grid_template_columns": null,
      "grid_template_rows": null,
      "height": null,
      "justify_content": null,
      "justify_items": null,
      "left": null,
      "margin": null,
      "max_height": null,
      "max_width": null,
      "min_height": null,
      "min_width": null,
      "object_fit": null,
      "object_position": null,
      "order": null,
      "overflow": null,
      "overflow_x": null,
      "overflow_y": null,
      "padding": null,
      "right": null,
      "top": null,
      "visibility": null,
      "width": null
     }
    },
    "ead903e39b8c4d5a83e4740b32d39cc0": {
     "model_module": "@jupyter-widgets/controls",
     "model_module_version": "1.5.0",
     "model_name": "HTMLModel",
     "state": {
      "_dom_classes": [],
      "_model_module": "@jupyter-widgets/controls",
      "_model_module_version": "1.5.0",
      "_model_name": "HTMLModel",
      "_view_count": null,
      "_view_module": "@jupyter-widgets/controls",
      "_view_module_version": "1.5.0",
      "_view_name": "HTMLView",
      "description": "",
      "description_tooltip": null,
      "layout": "IPY_MODEL_75ebff29e5ce4a1e89cb53920a986dca",
      "placeholder": "​",
      "style": "IPY_MODEL_fe1b2e93a687455d9d7dd73ca97d172f",
      "value": " 486k/486k [00:00&lt;00:00, 10.4MB/s]"
     }
    },
    "ef0880b0f3d34f9f8eb6f3eafa0d454b": {
     "model_module": "@jupyter-widgets/controls",
     "model_module_version": "1.5.0",
     "model_name": "HBoxModel",
     "state": {
      "_dom_classes": [],
      "_model_module": "@jupyter-widgets/controls",
      "_model_module_version": "1.5.0",
      "_model_name": "HBoxModel",
      "_view_count": null,
      "_view_module": "@jupyter-widgets/controls",
      "_view_module_version": "1.5.0",
      "_view_name": "HBoxView",
      "box_style": "",
      "children": [
       "IPY_MODEL_0aa051c98bff4b2b8e7add59adeebb05",
       "IPY_MODEL_40c151bf52514647967f515e44b4b704",
       "IPY_MODEL_f7d1eb8484ba41588ee4c8adc9f23516"
      ],
      "layout": "IPY_MODEL_ef5b8df303304b5299d13d836ad7d254"
     }
    },
    "ef5b8df303304b5299d13d836ad7d254": {
     "model_module": "@jupyter-widgets/base",
     "model_module_version": "1.2.0",
     "model_name": "LayoutModel",
     "state": {
      "_model_module": "@jupyter-widgets/base",
      "_model_module_version": "1.2.0",
      "_model_name": "LayoutModel",
      "_view_count": null,
      "_view_module": "@jupyter-widgets/base",
      "_view_module_version": "1.2.0",
      "_view_name": "LayoutView",
      "align_content": null,
      "align_items": null,
      "align_self": null,
      "border": null,
      "bottom": null,
      "display": null,
      "flex": null,
      "flex_flow": null,
      "grid_area": null,
      "grid_auto_columns": null,
      "grid_auto_flow": null,
      "grid_auto_rows": null,
      "grid_column": null,
      "grid_gap": null,
      "grid_row": null,
      "grid_template_areas": null,
      "grid_template_columns": null,
      "grid_template_rows": null,
      "height": null,
      "justify_content": null,
      "justify_items": null,
      "left": null,
      "margin": null,
      "max_height": null,
      "max_width": null,
      "min_height": null,
      "min_width": null,
      "object_fit": null,
      "object_position": null,
      "order": null,
      "overflow": null,
      "overflow_x": null,
      "overflow_y": null,
      "padding": null,
      "right": null,
      "top": null,
      "visibility": null,
      "width": null
     }
    },
    "efd65b1f8bc54cf79b87b7e89311f6e4": {
     "model_module": "@jupyter-widgets/controls",
     "model_module_version": "1.5.0",
     "model_name": "FloatProgressModel",
     "state": {
      "_dom_classes": [],
      "_model_module": "@jupyter-widgets/controls",
      "_model_module_version": "1.5.0",
      "_model_name": "FloatProgressModel",
      "_view_count": null,
      "_view_module": "@jupyter-widgets/controls",
      "_view_module_version": "1.5.0",
      "_view_name": "ProgressView",
      "bar_style": "success",
      "description": "",
      "description_tooltip": null,
      "layout": "IPY_MODEL_c8bcdd8e27ad4323b86b3313fb581440",
      "max": 486125,
      "min": 0,
      "orientation": "horizontal",
      "style": "IPY_MODEL_8ac319acc89b4420ab0dbe247ab825d2",
      "value": 486125
     }
    },
    "f340bd3c9af543b09d70a007b65911c6": {
     "model_module": "@jupyter-widgets/controls",
     "model_module_version": "1.5.0",
     "model_name": "HTMLModel",
     "state": {
      "_dom_classes": [],
      "_model_module": "@jupyter-widgets/controls",
      "_model_module_version": "1.5.0",
      "_model_name": "HTMLModel",
      "_view_count": null,
      "_view_module": "@jupyter-widgets/controls",
      "_view_module_version": "1.5.0",
      "_view_name": "HTMLView",
      "description": "",
      "description_tooltip": null,
      "layout": "IPY_MODEL_cc2034bf0be5422fa5895130f74fcf59",
      "placeholder": "​",
      "style": "IPY_MODEL_b2db9fa7f8c94aa1ace082c36fdf3943",
      "value": "Downloading (…)cial_tokens_map.json: 100%"
     }
    },
    "f7d1eb8484ba41588ee4c8adc9f23516": {
     "model_module": "@jupyter-widgets/controls",
     "model_module_version": "1.5.0",
     "model_name": "HTMLModel",
     "state": {
      "_dom_classes": [],
      "_model_module": "@jupyter-widgets/controls",
      "_model_module_version": "1.5.0",
      "_model_name": "HTMLModel",
      "_view_count": null,
      "_view_module": "@jupyter-widgets/controls",
      "_view_module_version": "1.5.0",
      "_view_name": "HTMLView",
      "description": "",
      "description_tooltip": null,
      "layout": "IPY_MODEL_4c49a5468c264b62b013d93d270cb857",
      "placeholder": "​",
      "style": "IPY_MODEL_dec36bc248f04ec38d6833a0347c80cb",
      "value": " 248k/248k [00:00&lt;00:00, 4.05MB/s]"
     }
    },
    "fcdf85265342449eb72f451b2546de39": {
     "model_module": "@jupyter-widgets/controls",
     "model_module_version": "1.5.0",
     "model_name": "HTMLModel",
     "state": {
      "_dom_classes": [],
      "_model_module": "@jupyter-widgets/controls",
      "_model_module_version": "1.5.0",
      "_model_name": "HTMLModel",
      "_view_count": null,
      "_view_module": "@jupyter-widgets/controls",
      "_view_module_version": "1.5.0",
      "_view_name": "HTMLView",
      "description": "",
      "description_tooltip": null,
      "layout": "IPY_MODEL_0620205fb18b42d4ac9f33c7691de048",
      "placeholder": "​",
      "style": "IPY_MODEL_5dcc1f47fced401a86a692b01f0f0328",
      "value": "Downloading (…)lve/main/config.json: 100%"
     }
    },
    "fe1b2e93a687455d9d7dd73ca97d172f": {
     "model_module": "@jupyter-widgets/controls",
     "model_module_version": "1.5.0",
     "model_name": "DescriptionStyleModel",
     "state": {
      "_model_module": "@jupyter-widgets/controls",
      "_model_module_version": "1.5.0",
      "_model_name": "DescriptionStyleModel",
      "_view_count": null,
      "_view_module": "@jupyter-widgets/base",
      "_view_module_version": "1.2.0",
      "_view_name": "StyleView",
      "description_width": ""
     }
    }
   }
  }
 },
 "nbformat": 4,
 "nbformat_minor": 1
}
