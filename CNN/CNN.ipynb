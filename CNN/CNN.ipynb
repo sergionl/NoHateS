{
 "cells": [
  {
   "cell_type": "code",
   "execution_count": null,
   "metadata": {
    "colab": {
     "base_uri": "https://localhost:8080/"
    },
    "id": "PTqhrPaSeE-z",
    "outputId": "014274b9-63e2-4ea6-a29d-84046514eade"
   },
   "outputs": [
    {
     "name": "stdout",
     "output_type": "stream",
     "text": [
      "Mounted at /content/drive\n"
     ]
    }
   ],
   "source": [
    "from google.colab import drive\n",
    "drive.mount('/content/drive')"
   ]
  },
  {
   "cell_type": "code",
   "execution_count": null,
   "metadata": {
    "colab": {
     "base_uri": "https://localhost:8080/"
    },
    "id": "tL1iFjECh3_6",
    "outputId": "efa62550-a30b-4fa3-d673-147bf0a49009"
   },
   "outputs": [
    {
     "name": "stdout",
     "output_type": "stream",
     "text": [
      "\u001b[2K     \u001b[90m━━━━━━━━━━━━━━━━━━━━━━━━━━━━━━━━━━━━━━━━\u001b[0m \u001b[32m7.1/7.1 MB\u001b[0m \u001b[31m63.4 MB/s\u001b[0m eta \u001b[36m0:00:00\u001b[0m\n",
      "\u001b[2K     \u001b[90m━━━━━━━━━━━━━━━━━━━━━━━━━━━━━━━━━━━━━━\u001b[0m \u001b[32m224.5/224.5 kB\u001b[0m \u001b[31m25.7 MB/s\u001b[0m eta \u001b[36m0:00:00\u001b[0m\n",
      "\u001b[2K     \u001b[90m━━━━━━━━━━━━━━━━━━━━━━━━━━━━━━━━━━━━━━━━\u001b[0m \u001b[32m7.8/7.8 MB\u001b[0m \u001b[31m87.4 MB/s\u001b[0m eta \u001b[36m0:00:00\u001b[0m\n",
      "\u001b[2K     \u001b[90m━━━━━━━━━━━━━━━━━━━━━━━━━━━━━━━━━━━━━━━━\u001b[0m \u001b[32m1.3/1.3 MB\u001b[0m \u001b[31m7.3 MB/s\u001b[0m eta \u001b[36m0:00:00\u001b[0m\n",
      "\u001b[2K     \u001b[90m━━━━━━━━━━━━━━━━━━━━━━━━━━━━━━━━━━━━━━━━\u001b[0m \u001b[32m79.1/79.1 kB\u001b[0m \u001b[31m2.8 MB/s\u001b[0m eta \u001b[36m0:00:00\u001b[0m\n",
      "\u001b[?25h"
     ]
    }
   ],
   "source": [
    "!pip install transformers -qq\n",
    "!pip install sentencepiece -qq\n",
    "!pip install tokenizer -qq"
   ]
  },
  {
   "cell_type": "markdown",
   "metadata": {
    "id": "C-pzooQXh5S7"
   },
   "source": [
    "##Load Dataset"
   ]
  },
  {
   "cell_type": "code",
   "execution_count": 1,
   "metadata": {
    "id": "HbRc1-_bvdyL"
   },
   "outputs": [],
   "source": [
    "import numpy as np\n",
    "import pandas as pd\n",
    "\n",
    "data = pd.read_csv('hsd_merge_cleaned_lowered.csv')\n",
    "\n",
    "#data.rename(columns={\"Message Text\": \"text\", \"Toxic/Not Toxic\": \"label\"}, inplace=True)\n",
    "\n",
    "train = data[: int(len(data) * 0.7)]\n",
    "valid = data[int(len(data) * 0.7): int(len(data) * 0.8)]\n",
    "test = data[int(len(data) * 0.8): int(len(data) * 0.1)]\n",
    "\n",
    "X_train = train['text']\n",
    "y_train = train['label']\n",
    "\n",
    "X_valid = valid['text']\n",
    "y_valid = valid['label']\n",
    "\n",
    "X_test = test['text']\n",
    "y_test = test['label']"
   ]
  },
  {
   "cell_type": "code",
   "execution_count": 26,
   "metadata": {},
   "outputs": [],
   "source": [
    "from sklearn.model_selection import train_test_split\n",
    "\n",
    "def to_df(x, y):\n",
    "    d = {\"text\": x, \"label\": y}\n",
    "    return pd.DataFrame(d)\n",
    "\n",
    "def split_3(df, test_size=0.2, valid_size=0.2):\n",
    "    _df = df.copy().sample(frac=1).reset_index()\n",
    "    _df = _df[[\"text\", \"label\"]]\n",
    "\n",
    "    x = df[\"text\"].copy()\n",
    "    y = df[\"label\"].copy()\n",
    "    #split train-test\n",
    "    x_train, x_test, y_train, y_test = train_test_split(x, y, test_size=test_size, stratify=y)\n",
    "    # split train-valid\n",
    "    x, y = x_train, y_train\n",
    "    x_train, x_valid, y_train, y_valid = train_test_split(x, y, test_size=valid_size, stratify=y)\n",
    "    return to_df(x_train, y_train), to_df(x_valid, y_valid), to_df(x_test, y_test)\n",
    "\n",
    "import numpy as np\n",
    "import pandas as pd\n",
    "\n",
    "#tname_data = \"./hsd_merged_cleaned_lowered\"\n",
    "#data = pd.read_csv(f\"{tname_data}.csv\")\n",
    "data = pd.read_csv('hsd_merge_cleaned_lowered.csv')\n",
    "\n",
    "train, valid, test = split_3(data)\n",
    "\n",
    "X_train = train['text']\n",
    "y_train = train['label']\n",
    "\n",
    "X_valid = valid['text']\n",
    "y_valid = valid['label']\n",
    "\n",
    "X_test = test['text']\n",
    "y_test = test['label']"
   ]
  },
  {
   "cell_type": "code",
   "execution_count": 27,
   "metadata": {
    "id": "WTMXPNE2W6NJ"
   },
   "outputs": [],
   "source": [
    "\n",
    "# import numpy as np\n",
    "# import pandas as pd\n",
    "\n",
    "# train = pd.read_csv('/content/train.csv')\n",
    "# dev = pd.read_csv('/content/dev.csv')\n",
    "# test = pd.read_csv('/content/test.csv')\n",
    "\n",
    "\n",
    "# train['free_text'] = train['free_text'].astype(str)\n",
    "# X_train = train['free_text']\n",
    "# y_train = train[\"label_id\"]\n",
    "\n",
    "# dev['free_text'] = dev['free_text'].astype(str)\n",
    "# X_valid = dev['free_text']\n",
    "# y_valid = dev['label_id']\n",
    "\n",
    "# test['free_text'] = test['free_text'].astype(str)\n",
    "# X_test = test['free_text']\n",
    "# y_test = test['label_id']\n"
   ]
  },
  {
   "cell_type": "markdown",
   "metadata": {
    "id": "La-lPuGjCxbb"
   },
   "source": [
    "## Set Cuda"
   ]
  },
  {
   "cell_type": "code",
   "execution_count": 28,
   "metadata": {
    "colab": {
     "base_uri": "https://localhost:8080/"
    },
    "id": "SnuQNrQ5Cxi_",
    "outputId": "7362def3-6fad-4e21-c042-0aaec25c5496"
   },
   "outputs": [
    {
     "data": {
      "text/plain": [
       "True"
      ]
     },
     "execution_count": 28,
     "metadata": {},
     "output_type": "execute_result"
    }
   ],
   "source": [
    "import torch\n",
    "from torchtext import data\n",
    "from torchtext import datasets\n",
    "import random\n",
    "import numpy as np\n",
    "\n",
    "SEED = 1234\n",
    "\n",
    "random.seed(SEED)\n",
    "np.random.seed(SEED)\n",
    "torch.manual_seed(SEED)\n",
    "torch.backends.cudnn.deterministic = True\n",
    "\n",
    "torch.cuda.is_available()"
   ]
  },
  {
   "cell_type": "markdown",
   "metadata": {
    "id": "gHV2PrVfiBLg"
   },
   "source": [
    "# Extract feature by using BETO"
   ]
  },
  {
   "cell_type": "code",
   "execution_count": 29,
   "metadata": {
    "id": "MreD1ev6AgXM"
   },
   "outputs": [],
   "source": [
    "import pandas as pd\n",
    "from glob import glob\n",
    "\n",
    "train_sentences = list(train['text'].values)\n",
    "train_labels = list(train['label'].values)\n",
    "\n",
    "valid_sentences = list(valid['text'].values)\n",
    "valid_labels = list(valid['label'].values)\n",
    "\n",
    "test_sentences = list(test['text'].values)\n",
    "test_labels = list(test['label'].values)"
   ]
  },
  {
   "cell_type": "markdown",
   "metadata": {
    "id": "rNVMN4YPiNjp"
   },
   "source": [
    "Load tokenizer of BETO"
   ]
  },
  {
   "cell_type": "code",
   "execution_count": 30,
   "metadata": {
    "colab": {
     "base_uri": "https://localhost:8080/",
     "height": 177,
     "referenced_widgets": [
      "c48c4f713ca44faa8937175bebdf6c6d",
      "2b303687938c4bbba13a05080acb794c",
      "96120984681b4289bd7426a6118a1d37",
      "c0663d7248db49d3b4ed5a6a9796def1",
      "d2bb7e727c584c58a4052a2e0a4b08c4",
      "5baaec1531f74afb9d8cfbb079c3e992",
      "e376ec8aaf604ecca4eac602ba8043be",
      "e1fa799fab8945be9cce2d13921cbf86",
      "54851592b58248ab8662ec443755a0b1",
      "064cb390095f4aab987a8769450876c9",
      "396df66ae34044f28328ed678ce3cb22",
      "9c13322396144af19accc4a60f5f9a6b",
      "fcdf85265342449eb72f451b2546de39",
      "d82c1e0726824dac89737433d07037ef",
      "b2c49205e8884ad4ae5d66e16b642c52",
      "8e67f8ef68364154bbca6a4c354cc08d",
      "0620205fb18b42d4ac9f33c7691de048",
      "5dcc1f47fced401a86a692b01f0f0328",
      "d04539d3259f4cbcaffcedfb2e2a8365",
      "c68c44d272a74784bfce87794bdbc36a",
      "e02762509df044c18ac3a7e43d5672fd",
      "9919ae454a2242c6aaf3dcec2b4a4bc3",
      "ef0880b0f3d34f9f8eb6f3eafa0d454b",
      "0aa051c98bff4b2b8e7add59adeebb05",
      "40c151bf52514647967f515e44b4b704",
      "f7d1eb8484ba41588ee4c8adc9f23516",
      "ef5b8df303304b5299d13d836ad7d254",
      "c03e7708da694f18aa30441a013b1fc9",
      "addad7e91ccd4b9e8983aceef1d6403f",
      "0c091319694f40e898e29a72f7302072",
      "0705fa5adebc4d4fa7100e9e0da51246",
      "4c49a5468c264b62b013d93d270cb857",
      "dec36bc248f04ec38d6833a0347c80cb",
      "43f53d7074a44afab656c80bdeac7753",
      "36da9fbd060a413fa0b94e0ad8138375",
      "efd65b1f8bc54cf79b87b7e89311f6e4",
      "ead903e39b8c4d5a83e4740b32d39cc0",
      "a1b47d5a92f84f96abe2398fce65065f",
      "4f3caffb061345f4acb33fd60dc1365c",
      "cc27f52da07b4e7bb63ad14ce34cec5c",
      "c8bcdd8e27ad4323b86b3313fb581440",
      "8ac319acc89b4420ab0dbe247ab825d2",
      "75ebff29e5ce4a1e89cb53920a986dca",
      "fe1b2e93a687455d9d7dd73ca97d172f",
      "d46ae31061014052a36fbe1b3ec95c88",
      "f340bd3c9af543b09d70a007b65911c6",
      "e48c9d94e19a4f099f93a085d64ef61e",
      "3f6cdfa374e0435a9c672a646041c508",
      "e2711e2edefe4051a8d382b5af578759",
      "cc2034bf0be5422fa5895130f74fcf59",
      "b2db9fa7f8c94aa1ace082c36fdf3943",
      "2fa7ea86360a450ab8e2404e3c55158f",
      "a1e7294165644eb28e1be50e1cec1ad7",
      "2d6a4edc66114cb88a63439ab8632c38",
      "8e987f0dcc2445a38d4d22c4454872a8"
     ]
    },
    "id": "gI8SPqPcA8BS",
    "outputId": "4927cc30-4fbb-4d9f-f75a-5a9ff0513dab"
   },
   "outputs": [],
   "source": [
    "from transformers import AutoTokenizer\n",
    "\n",
    "tokenizer = AutoTokenizer.from_pretrained('dccuchile/bert-base-spanish-wwm-uncased')"
   ]
  },
  {
   "cell_type": "code",
   "execution_count": 31,
   "metadata": {
    "colab": {
     "base_uri": "https://localhost:8080/"
    },
    "id": "5PNp5aRVA-Hb",
    "outputId": "bbeae07b-1bd6-439e-aca1-ebdbfe6dd348"
   },
   "outputs": [
    {
     "data": {
      "text/plain": [
       "[(16, 359),\n",
       " (21, 354),\n",
       " (14, 343),\n",
       " (15, 340),\n",
       " (12, 334),\n",
       " (18, 333),\n",
       " (23, 328),\n",
       " (11, 328),\n",
       " (19, 324),\n",
       " (13, 321),\n",
       " (20, 320),\n",
       " (22, 315),\n",
       " (17, 293),\n",
       " (10, 292),\n",
       " (9, 292),\n",
       " (24, 289),\n",
       " (26, 276),\n",
       " (25, 271),\n",
       " (8, 240),\n",
       " (27, 236),\n",
       " (28, 231),\n",
       " (29, 212),\n",
       " (30, 206),\n",
       " (7, 196),\n",
       " (6, 169),\n",
       " (31, 168),\n",
       " (32, 151),\n",
       " (33, 138),\n",
       " (5, 114),\n",
       " (34, 113),\n",
       " (35, 107),\n",
       " (38, 99),\n",
       " (43, 94),\n",
       " (53, 91),\n",
       " (48, 90),\n",
       " (4, 89),\n",
       " (37, 89),\n",
       " (49, 88),\n",
       " (40, 87),\n",
       " (42, 87),\n",
       " (41, 85),\n",
       " (50, 84),\n",
       " (44, 83),\n",
       " (45, 81),\n",
       " (39, 80),\n",
       " (51, 78),\n",
       " (46, 78),\n",
       " (47, 77),\n",
       " (36, 76),\n",
       " (54, 73),\n",
       " (52, 70),\n",
       " (55, 63),\n",
       " (56, 61),\n",
       " (57, 47),\n",
       " (58, 45),\n",
       " (59, 41),\n",
       " (3, 40),\n",
       " (61, 26),\n",
       " (60, 24),\n",
       " (62, 20),\n",
       " (63, 16),\n",
       " (64, 15),\n",
       " (65, 14),\n",
       " (2, 12),\n",
       " (66, 7),\n",
       " (1, 7),\n",
       " (67, 6),\n",
       " (72, 3),\n",
       " (68, 3),\n",
       " (70, 3),\n",
       " (79, 2),\n",
       " (69, 2),\n",
       " (74, 1),\n",
       " (84, 1),\n",
       " (71, 1),\n",
       " (85, 1)]"
      ]
     },
     "execution_count": 31,
     "metadata": {},
     "output_type": "execute_result"
    }
   ],
   "source": [
    "#choose max_length for phobert model based on the input length\n",
    "\n",
    "max_length = 0\n",
    "list_len=[]\n",
    "for sentence in train_sentences:\n",
    "    length = len(tokenizer.tokenize(sentence))\n",
    "    list_len.append(length)\n",
    "    \n",
    "from collections import Counter\n",
    "Counter(list_len).most_common(100)"
   ]
  },
  {
   "cell_type": "code",
   "execution_count": 32,
   "metadata": {
    "id": "dX5lBYCTD9bU"
   },
   "outputs": [],
   "source": [
    "# Encode train label\n",
    "\n",
    "from sklearn import preprocessing\n",
    "\n",
    "le = preprocessing.LabelEncoder()\n",
    "le.fit(train_labels)\n",
    "encoded_labels = le.transform(train_labels)\n",
    "encoded_test_labels = le.transform(valid_labels)"
   ]
  },
  {
   "cell_type": "code",
   "execution_count": 33,
   "metadata": {
    "colab": {
     "base_uri": "https://localhost:8080/"
    },
    "id": "e9XdWNkpFBgH",
    "outputId": "d7cd1781-9749-4125-d5a8-f3a660a8f605"
   },
   "outputs": [
    {
     "name": "stderr",
     "output_type": "stream",
     "text": [
      "C:\\ProgramData\\Anaconda3\\envs\\anti-disc\\lib\\site-packages\\transformers\\tokenization_utils_base.py:2354: FutureWarning: The `pad_to_max_length` argument is deprecated and will be removed in a future version, use `padding=True` or `padding='longest'` to pad to the longest sequence in the batch, or use `padding='max_length'` to pad to a max length. In this case, you can give a specific length with `max_length` (e.g. `max_length=45`) or leave max_length to None to pad to the maximal input size of the model (e.g. 512 for Bert).\n",
      "  warnings.warn(\n"
     ]
    },
    {
     "name": "stdout",
     "output_type": "stream",
     "text": [
      "Original:  chilenos que apoyan keiko saco weas qls\n",
      "Token IDs: tensor([    4, 25487,  1041, 17341,  4926, 19895, 12005,  1005,  2756,  5343,\n",
      "         8856,     5,     1,     1,     1,     1,     1,     1,     1,     1],\n",
      "       device='cuda:0')\n"
     ]
    }
   ],
   "source": [
    "# Tokens IDs tensor\n",
    "\n",
    "def encoder_generator(sentences,labels):\n",
    "    \n",
    "    sent_index = []\n",
    "    input_ids = []\n",
    "    attention_masks =[]\n",
    "\n",
    "    for index,sent in enumerate(sentences):\n",
    "        \n",
    "        sent_index.append(index)\n",
    "        \n",
    "        encoded_dict = tokenizer.encode_plus(sent,\n",
    "                                             add_special_tokens=True,\n",
    "                                             max_length=20,\n",
    "                                             pad_to_max_length=True,\n",
    "                                             truncation = True,\n",
    "                                             return_attention_mask=True,\n",
    "                                             return_tensors='pt')\n",
    "        input_ids.append(encoded_dict['input_ids'])\n",
    "\n",
    "        attention_masks.append(encoded_dict['attention_mask'])\n",
    "\n",
    "    input_ids = torch.cat(input_ids,dim=0).cuda()\n",
    "    attention_masks = torch.cat(attention_masks,dim=0).cuda()\n",
    "    labels = torch.tensor(labels).cuda()\n",
    "    sent_index = torch.tensor(sent_index).cuda()\n",
    "\n",
    "    return sent_index,input_ids,attention_masks,labels\n",
    "\n",
    "train_sent_index,train_input_ids,train_attention_masks,train_encoded_label_tensors = encoder_generator(train_sentences,encoded_labels)\n",
    "valid_sent_index,valid_input_ids,valid_attention_masks,valid_encoded_label_tensors = encoder_generator(valid_sentences,encoded_test_labels)\n",
    "print('Original: ', train_sentences[0])\n",
    "print('Token IDs:', train_input_ids[0])"
   ]
  },
  {
   "cell_type": "code",
   "execution_count": 34,
   "metadata": {
    "colab": {
     "base_uri": "https://localhost:8080/"
    },
    "id": "_BYbqZ7NMMWw",
    "outputId": "639ca3da-af50-4d20-ebdd-263bddc13249"
   },
   "outputs": [
    {
     "name": "stdout",
     "output_type": "stream",
     "text": [
      "train data samples is 10133\n",
      "valid data samples is 2534\n"
     ]
    }
   ],
   "source": [
    "# Connvert train, dev input by using TensorDataset\n",
    "\n",
    "from torch.utils.data import TensorDataset,random_split\n",
    "\n",
    "train_dataset = TensorDataset(train_input_ids,train_attention_masks,train_encoded_label_tensors)\n",
    "valid_dataset = TensorDataset(valid_input_ids,valid_attention_masks,valid_encoded_label_tensors)\n",
    "\n",
    "print('train data samples is {}'.format(len(train_dataset)))\n",
    "print(\"valid data samples is {}\".format(len(valid_dataset)))"
   ]
  },
  {
   "cell_type": "code",
   "execution_count": 35,
   "metadata": {
    "id": "Em9Q1v0BMZZX"
   },
   "outputs": [],
   "source": [
    "# Set cuda by using device\n",
    "\n",
    "from torch.utils.data import DataLoader,RandomSampler,SequentialSampler\n",
    "\n",
    "bs=128\n",
    "\n",
    "device = torch.device('cuda' if torch.cuda.is_available() else 'cpu')\n",
    "\n",
    "train_data_loader = DataLoader(train_dataset,\n",
    "                              sampler=RandomSampler(train_dataset),\n",
    "                              batch_size=bs)\n",
    "valid_data_loader = DataLoader(valid_dataset,\n",
    "                              sampler=RandomSampler(valid_dataset),\n",
    "                              batch_size=bs)"
   ]
  },
  {
   "cell_type": "markdown",
   "metadata": {
    "id": "xEtD7kn4jbTl"
   },
   "source": [
    "Load model BETO"
   ]
  },
  {
   "cell_type": "code",
   "execution_count": 36,
   "metadata": {
    "colab": {
     "base_uri": "https://localhost:8080/",
     "height": 160,
     "referenced_widgets": [
      "92b478ab8c8e4a0daa999aad57e95ac3",
      "2bc8b1500a1c41bd807761a54bf916bb",
      "9ef62896ca1b43c18c1adf8a282ef398",
      "cc4bb9d6a8e948cba93d31d073ac03af",
      "a864f46b0bd545a7bd1e974c107e4ef8",
      "02e5d40f71764e9994ec9223756a8e69",
      "6d1c543f9c8e431582ea5bee80a1a1aa",
      "e94092c637004e37a98cbbc13bc8a8b9",
      "b9a4f2122c874921a99f81f72b49c8c1",
      "71cbdcbf71284cfd96b9ad5259f1c7c0",
      "26b3d8d6fde64d82ad49dc81b193275f"
     ]
    },
    "id": "sQiHRn2zMdIJ",
    "outputId": "c561baf0-dfa7-436b-bfab-ad0a0307ca74"
   },
   "outputs": [
    {
     "name": "stderr",
     "output_type": "stream",
     "text": [
      "Some weights of the model checkpoint at dccuchile/bert-base-spanish-wwm-uncased were not used when initializing BertModel: ['cls.predictions.transform.LayerNorm.weight', 'cls.predictions.transform.dense.weight', 'cls.predictions.transform.LayerNorm.bias', 'cls.predictions.decoder.bias', 'cls.predictions.decoder.weight', 'cls.predictions.transform.dense.bias', 'cls.predictions.bias']\n",
      "- This IS expected if you are initializing BertModel from the checkpoint of a model trained on another task or with another architecture (e.g. initializing a BertForSequenceClassification model from a BertForPreTraining model).\n",
      "- This IS NOT expected if you are initializing BertModel from the checkpoint of a model that you expect to be exactly identical (initializing a BertForSequenceClassification model from a BertForSequenceClassification model).\n"
     ]
    }
   ],
   "source": [
    "from transformers import AutoModel\n",
    "\n",
    "beto = AutoModel.from_pretrained('dccuchile/bert-base-spanish-wwm-uncased')\n",
    "beto = beto.to(device)"
   ]
  },
  {
   "cell_type": "markdown",
   "metadata": {
    "id": "zEv63LPpjkcK"
   },
   "source": [
    "# Build CNN "
   ]
  },
  {
   "cell_type": "code",
   "execution_count": 37,
   "metadata": {
    "id": "q44-J-QWMgKQ"
   },
   "outputs": [],
   "source": [
    "import torch\n",
    "import torch.nn as nn\n",
    "\n",
    "import torch\n",
    "import torch.nn as nn\n",
    "\n",
    "class CNNForNLP(nn.Module):\n",
    "    def __init__(self, vocab_size, embedding_dim, num_classes, num_filters, filter_sizes):\n",
    "        super(CNNForNLP, self).__init__()\n",
    "        self.embedding = nn.Embedding(vocab_size, embedding_dim)\n",
    "        self.convs = nn.ModuleList([\n",
    "            nn.Conv1d(embedding_dim, num_filters, filter_size)\n",
    "            for filter_size in filter_sizes\n",
    "        ])\n",
    "        self.dropout = nn.Dropout(0.5)\n",
    "        self.fc = nn.Linear(len(filter_sizes) * num_filters, num_classes)\n",
    "    \n",
    "    def forward(self, x, _):\n",
    "        embedded = self.embedding(x)  # x: (batch_size, sequence_length)\n",
    "        embedded = embedded.permute(0, 2, 1)  # embedded: (batch_size, embedding_dim, sequence_length)\n",
    "        feature_maps = []\n",
    "        for conv in self.convs:\n",
    "            feature_map = torch.relu(conv(embedded))  # feature_map: (batch_size, num_filters, H)\n",
    "            pooled = torch.max(feature_map, dim=2)[0]  # pooled: (batch_size, num_filters)\n",
    "            feature_maps.append(pooled)\n",
    "        combined = torch.cat(feature_maps, dim=1)  # combined: (batch_size, len(filter_sizes) * num_filters)\n",
    "        combined = self.dropout(combined)\n",
    "        logits = self.fc(combined)  # logits: (batch_size, num_classes)\n",
    "        return logits\n"
   ]
  },
  {
   "cell_type": "code",
   "execution_count": 38,
   "metadata": {
    "id": "nTo_bpEeMqgr"
   },
   "outputs": [],
   "source": [
    "\n",
    "# Definir los parámetros del modelo\n",
    "vocab_size = 31002#tamaño del vocabulario\n",
    "embedding_dim = 768 #Dimension de los vectores de embedding \n",
    "num_classes = 2 #numero de clases o categorias de clasificacion\n",
    "num_filters = 32  #numero de filtros convolucionales\n",
    "filter_sizes = [3]  #tamaño de los filtros convolucionales\n",
    "\n",
    "\n",
    "CNNmodel = CNNForNLP(vocab_size,embedding_dim,num_classes,num_filters,filter_sizes)\n"
   ]
  },
  {
   "cell_type": "code",
   "execution_count": 39,
   "metadata": {
    "colab": {
     "base_uri": "https://localhost:8080/"
    },
    "id": "Z8QAddNK0rMj",
    "outputId": "ebd45748-066b-44ed-a887-52798434647f"
   },
   "outputs": [
    {
     "name": "stdout",
     "output_type": "stream",
     "text": [
      "CNNForNLP(\n",
      "  (embedding): Embedding(31002, 768)\n",
      "  (convs): ModuleList(\n",
      "    (0): Conv1d(768, 32, kernel_size=(3,), stride=(1,))\n",
      "  )\n",
      "  (dropout): Dropout(p=0.5, inplace=False)\n",
      "  (fc): Linear(in_features=32, out_features=2, bias=True)\n",
      ")\n"
     ]
    }
   ],
   "source": [
    "\n",
    "# Imprimir el modelo\n",
    "print(CNNmodel)"
   ]
  },
  {
   "cell_type": "code",
   "execution_count": 40,
   "metadata": {
    "id": "ITmi7WZDMsl6"
   },
   "outputs": [],
   "source": [
    "# Optimizer and criterion\n",
    "\n",
    "import torch.optim as optim\n",
    "\n",
    "model_parameters = list(CNNmodel.parameters())\n",
    "\n",
    "optimizer = optim.Adam(model_parameters,lr=2e-5,eps=1e-8)\n",
    "criterion = nn.CrossEntropyLoss()\n",
    "criterion = criterion.to(device)"
   ]
  },
  {
   "cell_type": "code",
   "execution_count": 41,
   "metadata": {
    "id": "oyp8HhAxMvQH"
   },
   "outputs": [],
   "source": [
    "# Calculate accuracy per batch during train\n",
    "\n",
    "def categorical_accuracy(preds, y):\n",
    "    \"\"\"\n",
    "    Returns accuracy per batch, i.e. if you get 8/10 right, this returns 0.8, NOT 8\n",
    "    \"\"\"\n",
    "    max_preds = preds.argmax(dim = 1, keepdim = True) # get the index of the max probability\n",
    "    correct = max_preds.squeeze(1).eq(y)\n",
    "    return correct.sum() / torch.FloatTensor([y.shape[0]]).cuda()"
   ]
  },
  {
   "cell_type": "code",
   "execution_count": 42,
   "metadata": {
    "id": "TrVcBEVoMxov"
   },
   "outputs": [],
   "source": [
    "# Def for training\n",
    "\n",
    "from tqdm import tqdm\n",
    "\n",
    "def train(model):\n",
    "    \n",
    "    epoch_loss = 0\n",
    "    epoch_acc = 0\n",
    "    \n",
    "    model.train()\n",
    "    \n",
    "    for batch in tqdm(train_data_loader):\n",
    "        b_input_ids = batch[0].to(device)\n",
    "        b_input_mask = batch[1].to(device)\n",
    "        b_labels = batch[2].to(device)\n",
    "        \n",
    "        optimizer.zero_grad()\n",
    "        \n",
    "        predictions = model(b_input_ids,b_input_mask)\n",
    "        \n",
    "        loss = criterion(predictions, b_labels)\n",
    "        \n",
    "        acc = categorical_accuracy(predictions, b_labels)\n",
    "        \n",
    "        loss.backward()\n",
    "        \n",
    "        optimizer.step()\n",
    "        \n",
    "        epoch_loss += loss.item()\n",
    "        epoch_acc += acc.item()\n",
    "        \n",
    "    return epoch_loss / len(train_data_loader), epoch_acc / len(train_data_loader)"
   ]
  },
  {
   "cell_type": "code",
   "execution_count": 43,
   "metadata": {
    "id": "nTQGFfnFMz-d"
   },
   "outputs": [],
   "source": [
    "# Class for predict label\n",
    "\n",
    "import numpy as np\n",
    "\n",
    "def predictions_labels(preds,labels):\n",
    "    pred = np.argmax(preds,axis=1).flatten()\n",
    "    label = labels.flatten()\n",
    "    return pred,label"
   ]
  },
  {
   "cell_type": "code",
   "execution_count": 44,
   "metadata": {
    "id": "c_4Y1RhlM17e"
   },
   "outputs": [],
   "source": [
    "# Evaluate loss, acc  and f1-macro\n",
    "\n",
    "from sklearn.metrics import classification_report,accuracy_score,f1_score\n",
    "def eval(model):\n",
    "    epoch_loss = 0\n",
    "    \n",
    "    total_predictions = []\n",
    "    total_true = []\n",
    "    \n",
    "    all_true_labels = []\n",
    "    all_pred_labels = []\n",
    "    \n",
    "    model.eval()\n",
    "    \n",
    "    with torch.no_grad():\n",
    "    \n",
    "        for batch in tqdm(valid_data_loader):\n",
    "            b_input_ids = batch[0].to(device)\n",
    "            b_input_mask = batch[1].to(device)\n",
    "            b_labels = batch[2].to(device)\n",
    "\n",
    "            predictions = model(b_input_ids,b_input_mask)\n",
    "\n",
    "            loss = criterion(predictions, b_labels)\n",
    "            epoch_loss += loss.item()\n",
    "            \n",
    "            predictions = predictions.detach().cpu().numpy()\n",
    "\n",
    "            label_ids = b_labels.to('cpu').numpy()\n",
    "    \n",
    "            pred,true = predictions_labels(predictions,label_ids)\n",
    "        \n",
    "            all_pred_labels.extend(pred)\n",
    "            all_true_labels.extend(true)\n",
    "\n",
    "    print(classification_report(all_pred_labels,all_true_labels))\n",
    "    avg_val_accuracy = accuracy_score(all_pred_labels,all_true_labels)\n",
    "    macro_f1_score = f1_score(all_pred_labels,all_true_labels,average='macro')\n",
    "    \n",
    "    avg_val_loss = epoch_loss/len(valid_data_loader)\n",
    "\n",
    "    print(\"accuracy = {0:.2f}\".format(avg_val_accuracy))\n",
    "            \n",
    "    return avg_val_loss,avg_val_accuracy,macro_f1_score"
   ]
  },
  {
   "cell_type": "code",
   "execution_count": 45,
   "metadata": {
    "id": "ICyenO-tM35S"
   },
   "outputs": [],
   "source": [
    "# Time for training\n",
    "\n",
    "import time\n",
    "def epoch_time(start_time, end_time):\n",
    "    elapsed_time = end_time - start_time\n",
    "    elapsed_mins = int(elapsed_time / 60)\n",
    "    elapsed_secs = int(elapsed_time - (elapsed_mins * 60))\n",
    "    return elapsed_mins, elapsed_secs"
   ]
  },
  {
   "cell_type": "code",
   "execution_count": 46,
   "metadata": {
    "colab": {
     "base_uri": "https://localhost:8080/"
    },
    "id": "6OrAOzamNC0e",
    "outputId": "caf37e15-8576-4cfd-94e0-74ab261577f4"
   },
   "outputs": [
    {
     "data": {
      "text/plain": [
       "CNNForNLP(\n",
       "  (embedding): Embedding(31002, 768)\n",
       "  (convs): ModuleList(\n",
       "    (0): Conv1d(768, 32, kernel_size=(3,), stride=(1,))\n",
       "  )\n",
       "  (dropout): Dropout(p=0.5, inplace=False)\n",
       "  (fc): Linear(in_features=32, out_features=2, bias=True)\n",
       ")"
      ]
     },
     "execution_count": 46,
     "metadata": {},
     "output_type": "execute_result"
    }
   ],
   "source": [
    "# Set device and gpu\n",
    "\n",
    "device = torch.device(\"cuda\" if torch.cuda.is_available() else \"cpu\")\n",
    "n_gpu = torch.cuda.device_count()\n",
    "torch.cuda.get_device_name(0)\n",
    "\n",
    "CNNmodel.cuda()"
   ]
  },
  {
   "cell_type": "markdown",
   "metadata": {
    "id": "KbJBkClEkam2"
   },
   "source": [
    "# Training"
   ]
  },
  {
   "cell_type": "code",
   "execution_count": 47,
   "metadata": {
    "colab": {
     "base_uri": "https://localhost:8080/"
    },
    "id": "ZfHllZjgM5uw",
    "outputId": "102f286f-dad1-4a1b-f6f3-b9fbfedb9430"
   },
   "outputs": [
    {
     "name": "stderr",
     "output_type": "stream",
     "text": [
      "100%|██████████| 80/80 [00:00<00:00, 81.88it/s] \n",
      "100%|██████████| 20/20 [00:00<00:00, 588.27it/s]\n"
     ]
    },
    {
     "name": "stdout",
     "output_type": "stream",
     "text": [
      "              precision    recall  f1-score   support\n",
      "\n",
      "           0       1.00      0.86      0.92      2526\n",
      "           1       0.01      0.25      0.01         8\n",
      "\n",
      "    accuracy                           0.86      2534\n",
      "   macro avg       0.50      0.56      0.47      2534\n",
      "weighted avg       0.99      0.86      0.92      2534\n",
      "\n",
      "accuracy = 0.86\n",
      "model saved\n",
      "Epoch: 01 | Epoch Time: 0m 1s\n",
      "\tTrain Loss: 0.652 | Train acc: 63.21%\n",
      "\t Val. Loss: 0.461 |  Val. acc: 85.95%\n",
      "\t Val. Loss: 0.461 |  Val. F1: 46.77%\n",
      "=============Epoch Ended==============\n"
     ]
    },
    {
     "name": "stderr",
     "output_type": "stream",
     "text": [
      "100%|██████████| 80/80 [00:00<00:00, 110.27it/s]\n",
      "100%|██████████| 20/20 [00:00<00:00, 625.59it/s]\n",
      "C:\\ProgramData\\Anaconda3\\envs\\anti-disc\\lib\\site-packages\\sklearn\\metrics\\_classification.py:1344: UndefinedMetricWarning: Recall and F-score are ill-defined and being set to 0.0 in labels with no true samples. Use `zero_division` parameter to control this behavior.\n",
      "  _warn_prf(average, modifier, msg_start, len(result))\n",
      "C:\\ProgramData\\Anaconda3\\envs\\anti-disc\\lib\\site-packages\\sklearn\\metrics\\_classification.py:1344: UndefinedMetricWarning: Recall and F-score are ill-defined and being set to 0.0 in labels with no true samples. Use `zero_division` parameter to control this behavior.\n",
      "  _warn_prf(average, modifier, msg_start, len(result))\n",
      "C:\\ProgramData\\Anaconda3\\envs\\anti-disc\\lib\\site-packages\\sklearn\\metrics\\_classification.py:1344: UndefinedMetricWarning: Recall and F-score are ill-defined and being set to 0.0 in labels with no true samples. Use `zero_division` parameter to control this behavior.\n",
      "  _warn_prf(average, modifier, msg_start, len(result))\n"
     ]
    },
    {
     "name": "stdout",
     "output_type": "stream",
     "text": [
      "              precision    recall  f1-score   support\n",
      "\n",
      "           0       1.00      0.86      0.93      2534\n",
      "           1       0.00      0.00      0.00         0\n",
      "\n",
      "    accuracy                           0.86      2534\n",
      "   macro avg       0.50      0.43      0.46      2534\n",
      "weighted avg       1.00      0.86      0.93      2534\n",
      "\n",
      "accuracy = 0.86\n",
      "model saved\n",
      "Epoch: 02 | Epoch Time: 0m 0s\n",
      "\tTrain Loss: 0.501 | Train acc: 78.38%\n",
      "\t Val. Loss: 0.410 |  Val. acc: 86.11%\n",
      "\t Val. Loss: 0.410 |  Val. F1: 46.27%\n",
      "=============Epoch Ended==============\n"
     ]
    },
    {
     "name": "stderr",
     "output_type": "stream",
     "text": [
      "100%|██████████| 80/80 [00:00<00:00, 115.29it/s]\n",
      "100%|██████████| 20/20 [00:00<00:00, 588.32it/s]\n",
      "C:\\ProgramData\\Anaconda3\\envs\\anti-disc\\lib\\site-packages\\sklearn\\metrics\\_classification.py:1344: UndefinedMetricWarning: Recall and F-score are ill-defined and being set to 0.0 in labels with no true samples. Use `zero_division` parameter to control this behavior.\n",
      "  _warn_prf(average, modifier, msg_start, len(result))\n",
      "C:\\ProgramData\\Anaconda3\\envs\\anti-disc\\lib\\site-packages\\sklearn\\metrics\\_classification.py:1344: UndefinedMetricWarning: Recall and F-score are ill-defined and being set to 0.0 in labels with no true samples. Use `zero_division` parameter to control this behavior.\n",
      "  _warn_prf(average, modifier, msg_start, len(result))\n",
      "C:\\ProgramData\\Anaconda3\\envs\\anti-disc\\lib\\site-packages\\sklearn\\metrics\\_classification.py:1344: UndefinedMetricWarning: Recall and F-score are ill-defined and being set to 0.0 in labels with no true samples. Use `zero_division` parameter to control this behavior.\n",
      "  _warn_prf(average, modifier, msg_start, len(result))\n"
     ]
    },
    {
     "name": "stdout",
     "output_type": "stream",
     "text": [
      "              precision    recall  f1-score   support\n",
      "\n",
      "           0       1.00      0.86      0.93      2534\n",
      "           1       0.00      0.00      0.00         0\n",
      "\n",
      "    accuracy                           0.86      2534\n",
      "   macro avg       0.50      0.43      0.46      2534\n",
      "weighted avg       1.00      0.86      0.93      2534\n",
      "\n",
      "accuracy = 0.86\n",
      "model saved\n",
      "Epoch: 03 | Epoch Time: 0m 0s\n",
      "\tTrain Loss: 0.458 | Train acc: 82.54%\n",
      "\t Val. Loss: 0.396 |  Val. acc: 86.11%\n",
      "\t Val. Loss: 0.396 |  Val. F1: 46.27%\n",
      "=============Epoch Ended==============\n"
     ]
    },
    {
     "name": "stderr",
     "output_type": "stream",
     "text": [
      "100%|██████████| 80/80 [00:00<00:00, 109.33it/s]\n",
      "100%|██████████| 20/20 [00:00<00:00, 625.02it/s]\n"
     ]
    },
    {
     "name": "stdout",
     "output_type": "stream",
     "text": [
      "              precision    recall  f1-score   support\n",
      "\n",
      "           0       1.00      0.86      0.93      2530\n",
      "           1       0.01      0.50      0.01         4\n",
      "\n",
      "    accuracy                           0.86      2534\n",
      "   macro avg       0.50      0.68      0.47      2534\n",
      "weighted avg       1.00      0.86      0.92      2534\n",
      "\n",
      "accuracy = 0.86\n",
      "model saved\n",
      "Epoch: 04 | Epoch Time: 0m 0s\n",
      "\tTrain Loss: 0.444 | Train acc: 83.48%\n",
      "\t Val. Loss: 0.388 |  Val. acc: 86.11%\n",
      "\t Val. Loss: 0.388 |  Val. F1: 46.83%\n",
      "=============Epoch Ended==============\n"
     ]
    },
    {
     "name": "stderr",
     "output_type": "stream",
     "text": [
      "100%|██████████| 80/80 [00:00<00:00, 115.29it/s]\n",
      "100%|██████████| 20/20 [00:00<00:00, 632.71it/s]\n"
     ]
    },
    {
     "name": "stdout",
     "output_type": "stream",
     "text": [
      "              precision    recall  f1-score   support\n",
      "\n",
      "           0       1.00      0.86      0.93      2530\n",
      "           1       0.01      0.50      0.01         4\n",
      "\n",
      "    accuracy                           0.86      2534\n",
      "   macro avg       0.50      0.68      0.47      2534\n",
      "weighted avg       1.00      0.86      0.92      2534\n",
      "\n",
      "accuracy = 0.86\n",
      "model saved\n",
      "Epoch: 05 | Epoch Time: 0m 0s\n",
      "\tTrain Loss: 0.439 | Train acc: 84.26%\n",
      "\t Val. Loss: 0.387 |  Val. acc: 86.11%\n",
      "\t Val. Loss: 0.387 |  Val. F1: 46.83%\n",
      "=============Epoch Ended==============\n"
     ]
    },
    {
     "name": "stderr",
     "output_type": "stream",
     "text": [
      "100%|██████████| 80/80 [00:00<00:00, 113.32it/s]\n",
      "100%|██████████| 20/20 [00:00<00:00, 666.68it/s]\n"
     ]
    },
    {
     "name": "stdout",
     "output_type": "stream",
     "text": [
      "              precision    recall  f1-score   support\n",
      "\n",
      "           0       1.00      0.86      0.93      2517\n",
      "           1       0.03      0.65      0.06        17\n",
      "\n",
      "    accuracy                           0.86      2534\n",
      "   macro avg       0.51      0.76      0.49      2534\n",
      "weighted avg       0.99      0.86      0.92      2534\n",
      "\n",
      "accuracy = 0.86\n",
      "model saved\n",
      "Epoch: 06 | Epoch Time: 0m 0s\n",
      "\tTrain Loss: 0.427 | Train acc: 84.89%\n",
      "\t Val. Loss: 0.383 |  Val. acc: 86.31%\n",
      "\t Val. Loss: 0.383 |  Val. F1: 49.29%\n",
      "=============Epoch Ended==============\n"
     ]
    },
    {
     "name": "stderr",
     "output_type": "stream",
     "text": [
      "100%|██████████| 80/80 [00:00<00:00, 112.78it/s]\n",
      "100%|██████████| 20/20 [00:00<00:00, 645.17it/s]\n"
     ]
    },
    {
     "name": "stdout",
     "output_type": "stream",
     "text": [
      "              precision    recall  f1-score   support\n",
      "\n",
      "           0       1.00      0.87      0.93      2512\n",
      "           1       0.04      0.68      0.08        22\n",
      "\n",
      "    accuracy                           0.86      2534\n",
      "   macro avg       0.52      0.77      0.50      2534\n",
      "weighted avg       0.99      0.86      0.92      2534\n",
      "\n",
      "accuracy = 0.86\n",
      "model saved\n",
      "Epoch: 07 | Epoch Time: 0m 0s\n",
      "\tTrain Loss: 0.422 | Train acc: 84.80%\n",
      "\t Val. Loss: 0.382 |  Val. acc: 86.42%\n",
      "\t Val. Loss: 0.382 |  Val. F1: 50.35%\n",
      "=============Epoch Ended==============\n"
     ]
    },
    {
     "name": "stderr",
     "output_type": "stream",
     "text": [
      "100%|██████████| 80/80 [00:00<00:00, 113.76it/s]\n",
      "100%|██████████| 20/20 [00:00<00:00, 645.27it/s]\n"
     ]
    },
    {
     "name": "stdout",
     "output_type": "stream",
     "text": [
      "              precision    recall  f1-score   support\n",
      "\n",
      "           0       0.99      0.87      0.93      2501\n",
      "           1       0.06      0.64      0.11        33\n",
      "\n",
      "    accuracy                           0.86      2534\n",
      "   macro avg       0.53      0.75      0.52      2534\n",
      "weighted avg       0.98      0.86      0.92      2534\n",
      "\n",
      "accuracy = 0.86\n",
      "model saved\n",
      "Epoch: 08 | Epoch Time: 0m 0s\n",
      "\tTrain Loss: 0.413 | Train acc: 85.13%\n",
      "\t Val. Loss: 0.379 |  Val. acc: 86.46%\n",
      "\t Val. Loss: 0.379 |  Val. F1: 51.79%\n",
      "=============Epoch Ended==============\n"
     ]
    },
    {
     "name": "stderr",
     "output_type": "stream",
     "text": [
      "100%|██████████| 80/80 [00:00<00:00, 112.73it/s]\n",
      "100%|██████████| 20/20 [00:00<00:00, 625.05it/s]\n"
     ]
    },
    {
     "name": "stdout",
     "output_type": "stream",
     "text": [
      "              precision    recall  f1-score   support\n",
      "\n",
      "           0       1.00      0.87      0.93      2503\n",
      "           1       0.06      0.68      0.11        31\n",
      "\n",
      "    accuracy                           0.87      2534\n",
      "   macro avg       0.53      0.77      0.52      2534\n",
      "weighted avg       0.98      0.87      0.92      2534\n",
      "\n",
      "accuracy = 0.87\n",
      "model saved\n",
      "Epoch: 09 | Epoch Time: 0m 0s\n",
      "\tTrain Loss: 0.413 | Train acc: 85.09%\n",
      "\t Val. Loss: 0.376 |  Val. acc: 86.54%\n",
      "\t Val. Loss: 0.376 |  Val. F1: 51.84%\n",
      "=============Epoch Ended==============\n"
     ]
    },
    {
     "name": "stderr",
     "output_type": "stream",
     "text": [
      "100%|██████████| 80/80 [00:00<00:00, 114.25it/s]\n",
      "100%|██████████| 20/20 [00:00<00:00, 645.02it/s]\n"
     ]
    },
    {
     "name": "stdout",
     "output_type": "stream",
     "text": [
      "              precision    recall  f1-score   support\n",
      "\n",
      "           0       1.00      0.87      0.93      2504\n",
      "           1       0.06      0.67      0.10        30\n",
      "\n",
      "    accuracy                           0.87      2534\n",
      "   macro avg       0.53      0.77      0.52      2534\n",
      "weighted avg       0.98      0.87      0.92      2534\n",
      "\n",
      "accuracy = 0.87\n",
      "model saved\n",
      "Epoch: 10 | Epoch Time: 0m 0s\n",
      "\tTrain Loss: 0.406 | Train acc: 85.41%\n",
      "\t Val. Loss: 0.374 |  Val. acc: 86.50%\n",
      "\t Val. Loss: 0.374 |  Val. F1: 51.59%\n",
      "=============Epoch Ended==============\n"
     ]
    },
    {
     "name": "stderr",
     "output_type": "stream",
     "text": [
      "100%|██████████| 80/80 [00:00<00:00, 112.51it/s]\n",
      "100%|██████████| 20/20 [00:00<00:00, 588.23it/s]\n"
     ]
    },
    {
     "name": "stdout",
     "output_type": "stream",
     "text": [
      "              precision    recall  f1-score   support\n",
      "\n",
      "           0       1.00      0.87      0.93      2505\n",
      "           1       0.06      0.69      0.10        29\n",
      "\n",
      "    accuracy                           0.87      2534\n",
      "   macro avg       0.53      0.78      0.52      2534\n",
      "weighted avg       0.99      0.87      0.92      2534\n",
      "\n",
      "accuracy = 0.87\n",
      "model saved\n",
      "Epoch: 11 | Epoch Time: 0m 0s\n",
      "\tTrain Loss: 0.399 | Train acc: 85.42%\n",
      "\t Val. Loss: 0.373 |  Val. acc: 86.54%\n",
      "\t Val. Loss: 0.373 |  Val. F1: 51.61%\n",
      "=============Epoch Ended==============\n"
     ]
    },
    {
     "name": "stderr",
     "output_type": "stream",
     "text": [
      "100%|██████████| 80/80 [00:00<00:00, 116.22it/s]\n",
      "100%|██████████| 20/20 [00:00<00:00, 605.98it/s]\n"
     ]
    },
    {
     "name": "stdout",
     "output_type": "stream",
     "text": [
      "              precision    recall  f1-score   support\n",
      "\n",
      "           0       0.99      0.87      0.93      2501\n",
      "           1       0.06      0.67      0.11        33\n",
      "\n",
      "    accuracy                           0.87      2534\n",
      "   macro avg       0.53      0.77      0.52      2534\n",
      "weighted avg       0.98      0.87      0.92      2534\n",
      "\n",
      "accuracy = 0.87\n",
      "model saved\n",
      "Epoch: 12 | Epoch Time: 0m 0s\n",
      "\tTrain Loss: 0.403 | Train acc: 85.36%\n",
      "\t Val. Loss: 0.373 |  Val. acc: 86.54%\n",
      "\t Val. Loss: 0.373 |  Val. F1: 52.07%\n",
      "=============Epoch Ended==============\n"
     ]
    },
    {
     "name": "stderr",
     "output_type": "stream",
     "text": [
      "100%|██████████| 80/80 [00:00<00:00, 118.63it/s]\n",
      "100%|██████████| 20/20 [00:00<00:00, 645.32it/s]\n"
     ]
    },
    {
     "name": "stdout",
     "output_type": "stream",
     "text": [
      "              precision    recall  f1-score   support\n",
      "\n",
      "           0       0.99      0.87      0.93      2498\n",
      "           1       0.06      0.61      0.11        36\n",
      "\n",
      "    accuracy                           0.86      2534\n",
      "   macro avg       0.53      0.74      0.52      2534\n",
      "weighted avg       0.98      0.86      0.91      2534\n",
      "\n",
      "accuracy = 0.86\n",
      "model saved\n",
      "Epoch: 13 | Epoch Time: 0m 0s\n",
      "\tTrain Loss: 0.389 | Train acc: 85.75%\n",
      "\t Val. Loss: 0.371 |  Val. acc: 86.42%\n",
      "\t Val. Loss: 0.371 |  Val. F1: 51.99%\n",
      "=============Epoch Ended==============\n"
     ]
    },
    {
     "name": "stderr",
     "output_type": "stream",
     "text": [
      "100%|██████████| 80/80 [00:00<00:00, 114.13it/s]\n",
      "100%|██████████| 20/20 [00:00<00:00, 625.03it/s]\n"
     ]
    },
    {
     "name": "stdout",
     "output_type": "stream",
     "text": [
      "              precision    recall  f1-score   support\n",
      "\n",
      "           0       0.99      0.87      0.93      2502\n",
      "           1       0.06      0.62      0.10        32\n",
      "\n",
      "    accuracy                           0.86      2534\n",
      "   macro avg       0.53      0.75      0.52      2534\n",
      "weighted avg       0.98      0.86      0.92      2534\n",
      "\n",
      "accuracy = 0.86\n",
      "model saved\n",
      "Epoch: 14 | Epoch Time: 0m 0s\n",
      "\tTrain Loss: 0.390 | Train acc: 85.83%\n",
      "\t Val. Loss: 0.369 |  Val. acc: 86.42%\n",
      "\t Val. Loss: 0.369 |  Val. F1: 51.54%\n",
      "=============Epoch Ended==============\n"
     ]
    },
    {
     "name": "stderr",
     "output_type": "stream",
     "text": [
      "100%|██████████| 80/80 [00:00<00:00, 119.02it/s]\n",
      "100%|██████████| 20/20 [00:00<00:00, 588.14it/s]\n"
     ]
    },
    {
     "name": "stdout",
     "output_type": "stream",
     "text": [
      "              precision    recall  f1-score   support\n",
      "\n",
      "           0       0.99      0.87      0.93      2501\n",
      "           1       0.06      0.64      0.11        33\n",
      "\n",
      "    accuracy                           0.86      2534\n",
      "   macro avg       0.53      0.75      0.52      2534\n",
      "weighted avg       0.98      0.86      0.92      2534\n",
      "\n",
      "accuracy = 0.86\n",
      "model saved\n",
      "Epoch: 15 | Epoch Time: 0m 0s\n",
      "\tTrain Loss: 0.384 | Train acc: 86.01%\n",
      "\t Val. Loss: 0.368 |  Val. acc: 86.46%\n",
      "\t Val. Loss: 0.368 |  Val. F1: 51.79%\n",
      "=============Epoch Ended==============\n"
     ]
    },
    {
     "name": "stderr",
     "output_type": "stream",
     "text": [
      "100%|██████████| 80/80 [00:00<00:00, 115.97it/s]\n",
      "100%|██████████| 20/20 [00:00<00:00, 625.03it/s]\n"
     ]
    },
    {
     "name": "stdout",
     "output_type": "stream",
     "text": [
      "              precision    recall  f1-score   support\n",
      "\n",
      "           0       1.00      0.87      0.93      2505\n",
      "           1       0.05      0.66      0.10        29\n",
      "\n",
      "    accuracy                           0.86      2534\n",
      "   macro avg       0.52      0.76      0.51      2534\n",
      "weighted avg       0.98      0.86      0.92      2534\n",
      "\n",
      "accuracy = 0.86\n",
      "model saved\n",
      "Epoch: 16 | Epoch Time: 0m 0s\n",
      "\tTrain Loss: 0.389 | Train acc: 85.49%\n",
      "\t Val. Loss: 0.367 |  Val. acc: 86.46%\n",
      "\t Val. Loss: 0.367 |  Val. F1: 51.33%\n",
      "=============Epoch Ended==============\n"
     ]
    },
    {
     "name": "stderr",
     "output_type": "stream",
     "text": [
      "100%|██████████| 80/80 [00:00<00:00, 118.74it/s]\n",
      "100%|██████████| 20/20 [00:00<00:00, 624.98it/s]\n"
     ]
    },
    {
     "name": "stdout",
     "output_type": "stream",
     "text": [
      "              precision    recall  f1-score   support\n",
      "\n",
      "           0       0.99      0.87      0.93      2503\n",
      "           1       0.06      0.65      0.10        31\n",
      "\n",
      "    accuracy                           0.86      2534\n",
      "   macro avg       0.53      0.76      0.52      2534\n",
      "weighted avg       0.98      0.86      0.92      2534\n",
      "\n",
      "accuracy = 0.86\n",
      "model saved\n",
      "Epoch: 17 | Epoch Time: 0m 0s\n",
      "\tTrain Loss: 0.379 | Train acc: 85.65%\n",
      "\t Val. Loss: 0.364 |  Val. acc: 86.46%\n",
      "\t Val. Loss: 0.364 |  Val. F1: 51.56%\n",
      "=============Epoch Ended==============\n"
     ]
    },
    {
     "name": "stderr",
     "output_type": "stream",
     "text": [
      "100%|██████████| 80/80 [00:00<00:00, 115.95it/s]\n",
      "100%|██████████| 20/20 [00:00<00:00, 645.20it/s]\n"
     ]
    },
    {
     "name": "stdout",
     "output_type": "stream",
     "text": [
      "              precision    recall  f1-score   support\n",
      "\n",
      "           0       1.00      0.87      0.93      2506\n",
      "           1       0.05      0.68      0.10        28\n",
      "\n",
      "    accuracy                           0.87      2534\n",
      "   macro avg       0.52      0.77      0.51      2534\n",
      "weighted avg       0.99      0.87      0.92      2534\n",
      "\n",
      "accuracy = 0.87\n",
      "model saved\n",
      "Epoch: 18 | Epoch Time: 0m 0s\n",
      "\tTrain Loss: 0.375 | Train acc: 85.94%\n",
      "\t Val. Loss: 0.365 |  Val. acc: 86.50%\n",
      "\t Val. Loss: 0.365 |  Val. F1: 51.35%\n",
      "=============Epoch Ended==============\n"
     ]
    },
    {
     "name": "stderr",
     "output_type": "stream",
     "text": [
      "100%|██████████| 80/80 [00:00<00:00, 111.72it/s]\n",
      "100%|██████████| 20/20 [00:00<00:00, 624.98it/s]\n"
     ]
    },
    {
     "name": "stdout",
     "output_type": "stream",
     "text": [
      "              precision    recall  f1-score   support\n",
      "\n",
      "           0       0.99      0.87      0.93      2502\n",
      "           1       0.06      0.62      0.10        32\n",
      "\n",
      "    accuracy                           0.86      2534\n",
      "   macro avg       0.53      0.75      0.52      2534\n",
      "weighted avg       0.98      0.86      0.92      2534\n",
      "\n",
      "accuracy = 0.86\n",
      "model saved\n",
      "Epoch: 19 | Epoch Time: 0m 0s\n",
      "\tTrain Loss: 0.367 | Train acc: 86.17%\n",
      "\t Val. Loss: 0.363 |  Val. acc: 86.42%\n",
      "\t Val. Loss: 0.363 |  Val. F1: 51.54%\n",
      "=============Epoch Ended==============\n"
     ]
    },
    {
     "name": "stderr",
     "output_type": "stream",
     "text": [
      "100%|██████████| 80/80 [00:00<00:00, 115.78it/s]\n",
      "100%|██████████| 20/20 [00:00<00:00, 588.24it/s]\n"
     ]
    },
    {
     "name": "stdout",
     "output_type": "stream",
     "text": [
      "              precision    recall  f1-score   support\n",
      "\n",
      "           0       0.99      0.87      0.93      2502\n",
      "           1       0.06      0.66      0.11        32\n",
      "\n",
      "    accuracy                           0.87      2534\n",
      "   macro avg       0.53      0.76      0.52      2534\n",
      "weighted avg       0.98      0.87      0.92      2534\n",
      "\n",
      "accuracy = 0.87\n",
      "model saved\n",
      "Epoch: 20 | Epoch Time: 0m 0s\n",
      "\tTrain Loss: 0.366 | Train acc: 86.10%\n",
      "\t Val. Loss: 0.361 |  Val. acc: 86.50%\n",
      "\t Val. Loss: 0.361 |  Val. F1: 51.82%\n",
      "=============Epoch Ended==============\n"
     ]
    }
   ],
   "source": [
    "epochs = 20\n",
    "\n",
    "best_macro_f1 = float('0')\n",
    "\n",
    "for epoch in range(epochs):\n",
    "    \n",
    "    start_time = time.time()\n",
    "    train_loss,train_acc = train(CNNmodel)\n",
    "    valid_loss,valid_acc,macro_f1 = eval(CNNmodel)\n",
    "    end_time = time.time()\n",
    "    \n",
    "        \n",
    "    epoch_mins, epoch_secs = epoch_time(start_time, end_time)\n",
    "        \n",
    "    if macro_f1 > best_macro_f1:\n",
    "        best_macro_f1 = macro_f1\n",
    "    torch.save(CNNmodel,'./cnn_model_part1_'+'task2a_2.pt')\n",
    "    print(\"model saved\")\n",
    "    \n",
    "    print(f'Epoch: {epoch+1:02} | Epoch Time: {epoch_mins}m {epoch_secs}s')\n",
    "    print(f'\\tTrain Loss: {train_loss:.3f} | Train acc: {train_acc*100:.2f}%')\n",
    "    print(f'\\t Val. Loss: {valid_loss:.3f} |  Val. acc: {valid_acc*100:.2f}%')\n",
    "    print(f'\\t Val. Loss: {valid_loss:.3f} |  Val. F1: {macro_f1*100:.2f}%')\n",
    "    print('=============Epoch Ended==============')"
   ]
  },
  {
   "cell_type": "code",
   "execution_count": 48,
   "metadata": {
    "colab": {
     "background_save": true
    },
    "id": "KyQlcVfnCWHw"
   },
   "outputs": [],
   "source": [
    "# Save BETO and CNN \n",
    "\n",
    "torch.save(CNNmodel,'module2_part1.pt')\n"
   ]
  },
  {
   "cell_type": "markdown",
   "metadata": {
    "id": "FCzo5AKq8lka"
   },
   "source": [
    "## EVALUATING"
   ]
  },
  {
   "cell_type": "code",
   "execution_count": 50,
   "metadata": {
    "id": "ftons15Hw8lB"
   },
   "outputs": [
    {
     "data": {
      "text/plain": [
       "CNNForNLP(\n",
       "  (embedding): Embedding(31002, 768)\n",
       "  (convs): ModuleList(\n",
       "    (0): Conv1d(768, 32, kernel_size=(3,), stride=(1,))\n",
       "  )\n",
       "  (dropout): Dropout(p=0.5, inplace=False)\n",
       "  (fc): Linear(in_features=32, out_features=2, bias=True)\n",
       ")"
      ]
     },
     "execution_count": 50,
     "metadata": {},
     "output_type": "execute_result"
    }
   ],
   "source": [
    "# Load phobert and cnn\n",
    "\n",
    "import torch\n",
    "CNNmodel = torch.load(r'cnn_model_part1_task2a_2.pt')\n",
    "CNNmodel.eval()\n",
    "\n"
   ]
  },
  {
   "cell_type": "markdown",
   "metadata": {
    "id": "N6sFPdMFlPRp"
   },
   "source": [
    "Predict label from true label"
   ]
  },
  {
   "cell_type": "code",
   "execution_count": 51,
   "metadata": {
    "colab": {
     "background_save": true
    },
    "id": "U9Co-AvE_Ehq"
   },
   "outputs": [
    {
     "name": "stderr",
     "output_type": "stream",
     "text": [
      "C:\\ProgramData\\Anaconda3\\envs\\anti-disc\\lib\\site-packages\\transformers\\tokenization_utils_base.py:2354: FutureWarning: The `pad_to_max_length` argument is deprecated and will be removed in a future version, use `padding=True` or `padding='longest'` to pad to the longest sequence in the batch, or use `padding='max_length'` to pad to a max length. In this case, you can give a specific length with `max_length` (e.g. `max_length=45`) or leave max_length to None to pad to the maximal input size of the model (e.g. 512 for Bert).\n",
      "  warnings.warn(\n",
      "100%|██████████| 25/25 [00:00<00:00, 79.12it/s]\n"
     ]
    }
   ],
   "source": [
    "test_sent_index, test_input_ids, test_attention_masks, test_encoded_label_tensors = encoder_generator(test_sentences,test_labels)\n",
    "test_dataset = TensorDataset(test_input_ids,test_attention_masks,test_encoded_label_tensors)\n",
    "\n",
    "test_data_loader = DataLoader(test_dataset,\n",
    "                              sampler=RandomSampler(test_dataset),\n",
    "                              batch_size=bs)\n",
    "\n",
    "all_pred_labels = []\n",
    "all_true_labels = []\n",
    "\n",
    "with torch.no_grad():\n",
    "  for batch in tqdm(test_data_loader):\n",
    "    b_input_ids = batch[0].to(device)\n",
    "    b_input_mask = batch[1].to(device)\n",
    "    b_labels = batch[2].to(device)\n",
    "\n",
    "    predictions = CNNmodel(b_input_ids,b_input_mask)\n",
    "\n",
    "    \n",
    "    predictions = predictions.detach().cpu().numpy()\n",
    "\n",
    "    label_ids = b_labels.to('cpu').numpy()\n",
    "\n",
    "    pred, true = predictions_labels(predictions, label_ids)\n",
    "\n",
    "    all_pred_labels.extend(pred)\n",
    "    all_true_labels.extend(true)"
   ]
  },
  {
   "cell_type": "code",
   "execution_count": 52,
   "metadata": {
    "colab": {
     "background_save": true
    },
    "id": "ESaLntjdAfYF"
   },
   "outputs": [
    {
     "name": "stdout",
     "output_type": "stream",
     "text": [
      "              precision    recall  f1-score   support\n",
      "\n",
      "           0     0.9971    0.8729    0.9308      3115\n",
      "           1     0.1000    0.8462    0.1789        52\n",
      "\n",
      "    accuracy                         0.8724      3167\n",
      "   macro avg     0.5485    0.8595    0.5549      3167\n",
      "weighted avg     0.9823    0.8724    0.9185      3167\n",
      "\n"
     ]
    }
   ],
   "source": [
    "# The final score in the test set (classification report)\n",
    "\n",
    "print(classification_report(all_pred_labels,all_true_labels, digits = 4))"
   ]
  },
  {
   "cell_type": "code",
   "execution_count": 53,
   "metadata": {
    "colab": {
     "background_save": true
    },
    "id": "2zqXgAK1zy6Y"
   },
   "outputs": [
    {
     "data": {
      "text/plain": [
       "array([[2719,    8],\n",
       "       [ 396,   44]], dtype=int64)"
      ]
     },
     "execution_count": 53,
     "metadata": {},
     "output_type": "execute_result"
    }
   ],
   "source": [
    "# Confusion matrix in thetest set\n",
    "\n",
    "from sklearn.metrics import confusion_matrix\n",
    "cm = confusion_matrix(all_true_labels, all_pred_labels)\n",
    "cm"
   ]
  },
  {
   "cell_type": "code",
   "execution_count": null,
   "metadata": {},
   "outputs": [],
   "source": []
  }
 ],
 "metadata": {
  "accelerator": "GPU",
  "colab": {
   "machine_shape": "hm",
   "provenance": []
  },
  "kernelspec": {
   "display_name": "Python 3 (ipykernel)",
   "language": "python",
   "name": "python3"
  },
  "language_info": {
   "codemirror_mode": {
    "name": "ipython",
    "version": 3
   },
   "file_extension": ".py",
   "mimetype": "text/x-python",
   "name": "python",
   "nbconvert_exporter": "python",
   "pygments_lexer": "ipython3",
   "version": "3.9.16"
  },
  "widgets": {
   "application/vnd.jupyter.widget-state+json": {
    "02e5d40f71764e9994ec9223756a8e69": {
     "model_module": "@jupyter-widgets/base",
     "model_module_version": "1.2.0",
     "model_name": "LayoutModel",
     "state": {
      "_model_module": "@jupyter-widgets/base",
      "_model_module_version": "1.2.0",
      "_model_name": "LayoutModel",
      "_view_count": null,
      "_view_module": "@jupyter-widgets/base",
      "_view_module_version": "1.2.0",
      "_view_name": "LayoutView",
      "align_content": null,
      "align_items": null,
      "align_self": null,
      "border": null,
      "bottom": null,
      "display": null,
      "flex": null,
      "flex_flow": null,
      "grid_area": null,
      "grid_auto_columns": null,
      "grid_auto_flow": null,
      "grid_auto_rows": null,
      "grid_column": null,
      "grid_gap": null,
      "grid_row": null,
      "grid_template_areas": null,
      "grid_template_columns": null,
      "grid_template_rows": null,
      "height": null,
      "justify_content": null,
      "justify_items": null,
      "left": null,
      "margin": null,
      "max_height": null,
      "max_width": null,
      "min_height": null,
      "min_width": null,
      "object_fit": null,
      "object_position": null,
      "order": null,
      "overflow": null,
      "overflow_x": null,
      "overflow_y": null,
      "padding": null,
      "right": null,
      "top": null,
      "visibility": null,
      "width": null
     }
    },
    "0620205fb18b42d4ac9f33c7691de048": {
     "model_module": "@jupyter-widgets/base",
     "model_module_version": "1.2.0",
     "model_name": "LayoutModel",
     "state": {
      "_model_module": "@jupyter-widgets/base",
      "_model_module_version": "1.2.0",
      "_model_name": "LayoutModel",
      "_view_count": null,
      "_view_module": "@jupyter-widgets/base",
      "_view_module_version": "1.2.0",
      "_view_name": "LayoutView",
      "align_content": null,
      "align_items": null,
      "align_self": null,
      "border": null,
      "bottom": null,
      "display": null,
      "flex": null,
      "flex_flow": null,
      "grid_area": null,
      "grid_auto_columns": null,
      "grid_auto_flow": null,
      "grid_auto_rows": null,
      "grid_column": null,
      "grid_gap": null,
      "grid_row": null,
      "grid_template_areas": null,
      "grid_template_columns": null,
      "grid_template_rows": null,
      "height": null,
      "justify_content": null,
      "justify_items": null,
      "left": null,
      "margin": null,
      "max_height": null,
      "max_width": null,
      "min_height": null,
      "min_width": null,
      "object_fit": null,
      "object_position": null,
      "order": null,
      "overflow": null,
      "overflow_x": null,
      "overflow_y": null,
      "padding": null,
      "right": null,
      "top": null,
      "visibility": null,
      "width": null
     }
    },
    "064cb390095f4aab987a8769450876c9": {
     "model_module": "@jupyter-widgets/base",
     "model_module_version": "1.2.0",
     "model_name": "LayoutModel",
     "state": {
      "_model_module": "@jupyter-widgets/base",
      "_model_module_version": "1.2.0",
      "_model_name": "LayoutModel",
      "_view_count": null,
      "_view_module": "@jupyter-widgets/base",
      "_view_module_version": "1.2.0",
      "_view_name": "LayoutView",
      "align_content": null,
      "align_items": null,
      "align_self": null,
      "border": null,
      "bottom": null,
      "display": null,
      "flex": null,
      "flex_flow": null,
      "grid_area": null,
      "grid_auto_columns": null,
      "grid_auto_flow": null,
      "grid_auto_rows": null,
      "grid_column": null,
      "grid_gap": null,
      "grid_row": null,
      "grid_template_areas": null,
      "grid_template_columns": null,
      "grid_template_rows": null,
      "height": null,
      "justify_content": null,
      "justify_items": null,
      "left": null,
      "margin": null,
      "max_height": null,
      "max_width": null,
      "min_height": null,
      "min_width": null,
      "object_fit": null,
      "object_position": null,
      "order": null,
      "overflow": null,
      "overflow_x": null,
      "overflow_y": null,
      "padding": null,
      "right": null,
      "top": null,
      "visibility": null,
      "width": null
     }
    },
    "0705fa5adebc4d4fa7100e9e0da51246": {
     "model_module": "@jupyter-widgets/controls",
     "model_module_version": "1.5.0",
     "model_name": "ProgressStyleModel",
     "state": {
      "_model_module": "@jupyter-widgets/controls",
      "_model_module_version": "1.5.0",
      "_model_name": "ProgressStyleModel",
      "_view_count": null,
      "_view_module": "@jupyter-widgets/base",
      "_view_module_version": "1.2.0",
      "_view_name": "StyleView",
      "bar_color": null,
      "description_width": ""
     }
    },
    "0aa051c98bff4b2b8e7add59adeebb05": {
     "model_module": "@jupyter-widgets/controls",
     "model_module_version": "1.5.0",
     "model_name": "HTMLModel",
     "state": {
      "_dom_classes": [],
      "_model_module": "@jupyter-widgets/controls",
      "_model_module_version": "1.5.0",
      "_model_name": "HTMLModel",
      "_view_count": null,
      "_view_module": "@jupyter-widgets/controls",
      "_view_module_version": "1.5.0",
      "_view_name": "HTMLView",
      "description": "",
      "description_tooltip": null,
      "layout": "IPY_MODEL_c03e7708da694f18aa30441a013b1fc9",
      "placeholder": "​",
      "style": "IPY_MODEL_addad7e91ccd4b9e8983aceef1d6403f",
      "value": "Downloading (…)solve/main/vocab.txt: 100%"
     }
    },
    "0c091319694f40e898e29a72f7302072": {
     "model_module": "@jupyter-widgets/base",
     "model_module_version": "1.2.0",
     "model_name": "LayoutModel",
     "state": {
      "_model_module": "@jupyter-widgets/base",
      "_model_module_version": "1.2.0",
      "_model_name": "LayoutModel",
      "_view_count": null,
      "_view_module": "@jupyter-widgets/base",
      "_view_module_version": "1.2.0",
      "_view_name": "LayoutView",
      "align_content": null,
      "align_items": null,
      "align_self": null,
      "border": null,
      "bottom": null,
      "display": null,
      "flex": null,
      "flex_flow": null,
      "grid_area": null,
      "grid_auto_columns": null,
      "grid_auto_flow": null,
      "grid_auto_rows": null,
      "grid_column": null,
      "grid_gap": null,
      "grid_row": null,
      "grid_template_areas": null,
      "grid_template_columns": null,
      "grid_template_rows": null,
      "height": null,
      "justify_content": null,
      "justify_items": null,
      "left": null,
      "margin": null,
      "max_height": null,
      "max_width": null,
      "min_height": null,
      "min_width": null,
      "object_fit": null,
      "object_position": null,
      "order": null,
      "overflow": null,
      "overflow_x": null,
      "overflow_y": null,
      "padding": null,
      "right": null,
      "top": null,
      "visibility": null,
      "width": null
     }
    },
    "26b3d8d6fde64d82ad49dc81b193275f": {
     "model_module": "@jupyter-widgets/controls",
     "model_module_version": "1.5.0",
     "model_name": "DescriptionStyleModel",
     "state": {
      "_model_module": "@jupyter-widgets/controls",
      "_model_module_version": "1.5.0",
      "_model_name": "DescriptionStyleModel",
      "_view_count": null,
      "_view_module": "@jupyter-widgets/base",
      "_view_module_version": "1.2.0",
      "_view_name": "StyleView",
      "description_width": ""
     }
    },
    "2b303687938c4bbba13a05080acb794c": {
     "model_module": "@jupyter-widgets/controls",
     "model_module_version": "1.5.0",
     "model_name": "HTMLModel",
     "state": {
      "_dom_classes": [],
      "_model_module": "@jupyter-widgets/controls",
      "_model_module_version": "1.5.0",
      "_model_name": "HTMLModel",
      "_view_count": null,
      "_view_module": "@jupyter-widgets/controls",
      "_view_module_version": "1.5.0",
      "_view_name": "HTMLView",
      "description": "",
      "description_tooltip": null,
      "layout": "IPY_MODEL_5baaec1531f74afb9d8cfbb079c3e992",
      "placeholder": "​",
      "style": "IPY_MODEL_e376ec8aaf604ecca4eac602ba8043be",
      "value": "Downloading (…)okenizer_config.json: 100%"
     }
    },
    "2bc8b1500a1c41bd807761a54bf916bb": {
     "model_module": "@jupyter-widgets/controls",
     "model_module_version": "1.5.0",
     "model_name": "HTMLModel",
     "state": {
      "_dom_classes": [],
      "_model_module": "@jupyter-widgets/controls",
      "_model_module_version": "1.5.0",
      "_model_name": "HTMLModel",
      "_view_count": null,
      "_view_module": "@jupyter-widgets/controls",
      "_view_module_version": "1.5.0",
      "_view_name": "HTMLView",
      "description": "",
      "description_tooltip": null,
      "layout": "IPY_MODEL_02e5d40f71764e9994ec9223756a8e69",
      "placeholder": "​",
      "style": "IPY_MODEL_6d1c543f9c8e431582ea5bee80a1a1aa",
      "value": "Downloading pytorch_model.bin: 100%"
     }
    },
    "2d6a4edc66114cb88a63439ab8632c38": {
     "model_module": "@jupyter-widgets/base",
     "model_module_version": "1.2.0",
     "model_name": "LayoutModel",
     "state": {
      "_model_module": "@jupyter-widgets/base",
      "_model_module_version": "1.2.0",
      "_model_name": "LayoutModel",
      "_view_count": null,
      "_view_module": "@jupyter-widgets/base",
      "_view_module_version": "1.2.0",
      "_view_name": "LayoutView",
      "align_content": null,
      "align_items": null,
      "align_self": null,
      "border": null,
      "bottom": null,
      "display": null,
      "flex": null,
      "flex_flow": null,
      "grid_area": null,
      "grid_auto_columns": null,
      "grid_auto_flow": null,
      "grid_auto_rows": null,
      "grid_column": null,
      "grid_gap": null,
      "grid_row": null,
      "grid_template_areas": null,
      "grid_template_columns": null,
      "grid_template_rows": null,
      "height": null,
      "justify_content": null,
      "justify_items": null,
      "left": null,
      "margin": null,
      "max_height": null,
      "max_width": null,
      "min_height": null,
      "min_width": null,
      "object_fit": null,
      "object_position": null,
      "order": null,
      "overflow": null,
      "overflow_x": null,
      "overflow_y": null,
      "padding": null,
      "right": null,
      "top": null,
      "visibility": null,
      "width": null
     }
    },
    "2fa7ea86360a450ab8e2404e3c55158f": {
     "model_module": "@jupyter-widgets/base",
     "model_module_version": "1.2.0",
     "model_name": "LayoutModel",
     "state": {
      "_model_module": "@jupyter-widgets/base",
      "_model_module_version": "1.2.0",
      "_model_name": "LayoutModel",
      "_view_count": null,
      "_view_module": "@jupyter-widgets/base",
      "_view_module_version": "1.2.0",
      "_view_name": "LayoutView",
      "align_content": null,
      "align_items": null,
      "align_self": null,
      "border": null,
      "bottom": null,
      "display": null,
      "flex": null,
      "flex_flow": null,
      "grid_area": null,
      "grid_auto_columns": null,
      "grid_auto_flow": null,
      "grid_auto_rows": null,
      "grid_column": null,
      "grid_gap": null,
      "grid_row": null,
      "grid_template_areas": null,
      "grid_template_columns": null,
      "grid_template_rows": null,
      "height": null,
      "justify_content": null,
      "justify_items": null,
      "left": null,
      "margin": null,
      "max_height": null,
      "max_width": null,
      "min_height": null,
      "min_width": null,
      "object_fit": null,
      "object_position": null,
      "order": null,
      "overflow": null,
      "overflow_x": null,
      "overflow_y": null,
      "padding": null,
      "right": null,
      "top": null,
      "visibility": null,
      "width": null
     }
    },
    "36da9fbd060a413fa0b94e0ad8138375": {
     "model_module": "@jupyter-widgets/controls",
     "model_module_version": "1.5.0",
     "model_name": "HTMLModel",
     "state": {
      "_dom_classes": [],
      "_model_module": "@jupyter-widgets/controls",
      "_model_module_version": "1.5.0",
      "_model_name": "HTMLModel",
      "_view_count": null,
      "_view_module": "@jupyter-widgets/controls",
      "_view_module_version": "1.5.0",
      "_view_name": "HTMLView",
      "description": "",
      "description_tooltip": null,
      "layout": "IPY_MODEL_4f3caffb061345f4acb33fd60dc1365c",
      "placeholder": "​",
      "style": "IPY_MODEL_cc27f52da07b4e7bb63ad14ce34cec5c",
      "value": "Downloading (…)/main/tokenizer.json: 100%"
     }
    },
    "396df66ae34044f28328ed678ce3cb22": {
     "model_module": "@jupyter-widgets/controls",
     "model_module_version": "1.5.0",
     "model_name": "DescriptionStyleModel",
     "state": {
      "_model_module": "@jupyter-widgets/controls",
      "_model_module_version": "1.5.0",
      "_model_name": "DescriptionStyleModel",
      "_view_count": null,
      "_view_module": "@jupyter-widgets/base",
      "_view_module_version": "1.2.0",
      "_view_name": "StyleView",
      "description_width": ""
     }
    },
    "3f6cdfa374e0435a9c672a646041c508": {
     "model_module": "@jupyter-widgets/controls",
     "model_module_version": "1.5.0",
     "model_name": "HTMLModel",
     "state": {
      "_dom_classes": [],
      "_model_module": "@jupyter-widgets/controls",
      "_model_module_version": "1.5.0",
      "_model_name": "HTMLModel",
      "_view_count": null,
      "_view_module": "@jupyter-widgets/controls",
      "_view_module_version": "1.5.0",
      "_view_name": "HTMLView",
      "description": "",
      "description_tooltip": null,
      "layout": "IPY_MODEL_2d6a4edc66114cb88a63439ab8632c38",
      "placeholder": "​",
      "style": "IPY_MODEL_8e987f0dcc2445a38d4d22c4454872a8",
      "value": " 134/134 [00:00&lt;00:00, 3.14kB/s]"
     }
    },
    "40c151bf52514647967f515e44b4b704": {
     "model_module": "@jupyter-widgets/controls",
     "model_module_version": "1.5.0",
     "model_name": "FloatProgressModel",
     "state": {
      "_dom_classes": [],
      "_model_module": "@jupyter-widgets/controls",
      "_model_module_version": "1.5.0",
      "_model_name": "FloatProgressModel",
      "_view_count": null,
      "_view_module": "@jupyter-widgets/controls",
      "_view_module_version": "1.5.0",
      "_view_name": "ProgressView",
      "bar_style": "success",
      "description": "",
      "description_tooltip": null,
      "layout": "IPY_MODEL_0c091319694f40e898e29a72f7302072",
      "max": 247723,
      "min": 0,
      "orientation": "horizontal",
      "style": "IPY_MODEL_0705fa5adebc4d4fa7100e9e0da51246",
      "value": 247723
     }
    },
    "43f53d7074a44afab656c80bdeac7753": {
     "model_module": "@jupyter-widgets/controls",
     "model_module_version": "1.5.0",
     "model_name": "HBoxModel",
     "state": {
      "_dom_classes": [],
      "_model_module": "@jupyter-widgets/controls",
      "_model_module_version": "1.5.0",
      "_model_name": "HBoxModel",
      "_view_count": null,
      "_view_module": "@jupyter-widgets/controls",
      "_view_module_version": "1.5.0",
      "_view_name": "HBoxView",
      "box_style": "",
      "children": [
       "IPY_MODEL_36da9fbd060a413fa0b94e0ad8138375",
       "IPY_MODEL_efd65b1f8bc54cf79b87b7e89311f6e4",
       "IPY_MODEL_ead903e39b8c4d5a83e4740b32d39cc0"
      ],
      "layout": "IPY_MODEL_a1b47d5a92f84f96abe2398fce65065f"
     }
    },
    "4c49a5468c264b62b013d93d270cb857": {
     "model_module": "@jupyter-widgets/base",
     "model_module_version": "1.2.0",
     "model_name": "LayoutModel",
     "state": {
      "_model_module": "@jupyter-widgets/base",
      "_model_module_version": "1.2.0",
      "_model_name": "LayoutModel",
      "_view_count": null,
      "_view_module": "@jupyter-widgets/base",
      "_view_module_version": "1.2.0",
      "_view_name": "LayoutView",
      "align_content": null,
      "align_items": null,
      "align_self": null,
      "border": null,
      "bottom": null,
      "display": null,
      "flex": null,
      "flex_flow": null,
      "grid_area": null,
      "grid_auto_columns": null,
      "grid_auto_flow": null,
      "grid_auto_rows": null,
      "grid_column": null,
      "grid_gap": null,
      "grid_row": null,
      "grid_template_areas": null,
      "grid_template_columns": null,
      "grid_template_rows": null,
      "height": null,
      "justify_content": null,
      "justify_items": null,
      "left": null,
      "margin": null,
      "max_height": null,
      "max_width": null,
      "min_height": null,
      "min_width": null,
      "object_fit": null,
      "object_position": null,
      "order": null,
      "overflow": null,
      "overflow_x": null,
      "overflow_y": null,
      "padding": null,
      "right": null,
      "top": null,
      "visibility": null,
      "width": null
     }
    },
    "4f3caffb061345f4acb33fd60dc1365c": {
     "model_module": "@jupyter-widgets/base",
     "model_module_version": "1.2.0",
     "model_name": "LayoutModel",
     "state": {
      "_model_module": "@jupyter-widgets/base",
      "_model_module_version": "1.2.0",
      "_model_name": "LayoutModel",
      "_view_count": null,
      "_view_module": "@jupyter-widgets/base",
      "_view_module_version": "1.2.0",
      "_view_name": "LayoutView",
      "align_content": null,
      "align_items": null,
      "align_self": null,
      "border": null,
      "bottom": null,
      "display": null,
      "flex": null,
      "flex_flow": null,
      "grid_area": null,
      "grid_auto_columns": null,
      "grid_auto_flow": null,
      "grid_auto_rows": null,
      "grid_column": null,
      "grid_gap": null,
      "grid_row": null,
      "grid_template_areas": null,
      "grid_template_columns": null,
      "grid_template_rows": null,
      "height": null,
      "justify_content": null,
      "justify_items": null,
      "left": null,
      "margin": null,
      "max_height": null,
      "max_width": null,
      "min_height": null,
      "min_width": null,
      "object_fit": null,
      "object_position": null,
      "order": null,
      "overflow": null,
      "overflow_x": null,
      "overflow_y": null,
      "padding": null,
      "right": null,
      "top": null,
      "visibility": null,
      "width": null
     }
    },
    "54851592b58248ab8662ec443755a0b1": {
     "model_module": "@jupyter-widgets/controls",
     "model_module_version": "1.5.0",
     "model_name": "ProgressStyleModel",
     "state": {
      "_model_module": "@jupyter-widgets/controls",
      "_model_module_version": "1.5.0",
      "_model_name": "ProgressStyleModel",
      "_view_count": null,
      "_view_module": "@jupyter-widgets/base",
      "_view_module_version": "1.2.0",
      "_view_name": "StyleView",
      "bar_color": null,
      "description_width": ""
     }
    },
    "5baaec1531f74afb9d8cfbb079c3e992": {
     "model_module": "@jupyter-widgets/base",
     "model_module_version": "1.2.0",
     "model_name": "LayoutModel",
     "state": {
      "_model_module": "@jupyter-widgets/base",
      "_model_module_version": "1.2.0",
      "_model_name": "LayoutModel",
      "_view_count": null,
      "_view_module": "@jupyter-widgets/base",
      "_view_module_version": "1.2.0",
      "_view_name": "LayoutView",
      "align_content": null,
      "align_items": null,
      "align_self": null,
      "border": null,
      "bottom": null,
      "display": null,
      "flex": null,
      "flex_flow": null,
      "grid_area": null,
      "grid_auto_columns": null,
      "grid_auto_flow": null,
      "grid_auto_rows": null,
      "grid_column": null,
      "grid_gap": null,
      "grid_row": null,
      "grid_template_areas": null,
      "grid_template_columns": null,
      "grid_template_rows": null,
      "height": null,
      "justify_content": null,
      "justify_items": null,
      "left": null,
      "margin": null,
      "max_height": null,
      "max_width": null,
      "min_height": null,
      "min_width": null,
      "object_fit": null,
      "object_position": null,
      "order": null,
      "overflow": null,
      "overflow_x": null,
      "overflow_y": null,
      "padding": null,
      "right": null,
      "top": null,
      "visibility": null,
      "width": null
     }
    },
    "5dcc1f47fced401a86a692b01f0f0328": {
     "model_module": "@jupyter-widgets/controls",
     "model_module_version": "1.5.0",
     "model_name": "DescriptionStyleModel",
     "state": {
      "_model_module": "@jupyter-widgets/controls",
      "_model_module_version": "1.5.0",
      "_model_name": "DescriptionStyleModel",
      "_view_count": null,
      "_view_module": "@jupyter-widgets/base",
      "_view_module_version": "1.2.0",
      "_view_name": "StyleView",
      "description_width": ""
     }
    },
    "6d1c543f9c8e431582ea5bee80a1a1aa": {
     "model_module": "@jupyter-widgets/controls",
     "model_module_version": "1.5.0",
     "model_name": "DescriptionStyleModel",
     "state": {
      "_model_module": "@jupyter-widgets/controls",
      "_model_module_version": "1.5.0",
      "_model_name": "DescriptionStyleModel",
      "_view_count": null,
      "_view_module": "@jupyter-widgets/base",
      "_view_module_version": "1.2.0",
      "_view_name": "StyleView",
      "description_width": ""
     }
    },
    "71cbdcbf71284cfd96b9ad5259f1c7c0": {
     "model_module": "@jupyter-widgets/base",
     "model_module_version": "1.2.0",
     "model_name": "LayoutModel",
     "state": {
      "_model_module": "@jupyter-widgets/base",
      "_model_module_version": "1.2.0",
      "_model_name": "LayoutModel",
      "_view_count": null,
      "_view_module": "@jupyter-widgets/base",
      "_view_module_version": "1.2.0",
      "_view_name": "LayoutView",
      "align_content": null,
      "align_items": null,
      "align_self": null,
      "border": null,
      "bottom": null,
      "display": null,
      "flex": null,
      "flex_flow": null,
      "grid_area": null,
      "grid_auto_columns": null,
      "grid_auto_flow": null,
      "grid_auto_rows": null,
      "grid_column": null,
      "grid_gap": null,
      "grid_row": null,
      "grid_template_areas": null,
      "grid_template_columns": null,
      "grid_template_rows": null,
      "height": null,
      "justify_content": null,
      "justify_items": null,
      "left": null,
      "margin": null,
      "max_height": null,
      "max_width": null,
      "min_height": null,
      "min_width": null,
      "object_fit": null,
      "object_position": null,
      "order": null,
      "overflow": null,
      "overflow_x": null,
      "overflow_y": null,
      "padding": null,
      "right": null,
      "top": null,
      "visibility": null,
      "width": null
     }
    },
    "75ebff29e5ce4a1e89cb53920a986dca": {
     "model_module": "@jupyter-widgets/base",
     "model_module_version": "1.2.0",
     "model_name": "LayoutModel",
     "state": {
      "_model_module": "@jupyter-widgets/base",
      "_model_module_version": "1.2.0",
      "_model_name": "LayoutModel",
      "_view_count": null,
      "_view_module": "@jupyter-widgets/base",
      "_view_module_version": "1.2.0",
      "_view_name": "LayoutView",
      "align_content": null,
      "align_items": null,
      "align_self": null,
      "border": null,
      "bottom": null,
      "display": null,
      "flex": null,
      "flex_flow": null,
      "grid_area": null,
      "grid_auto_columns": null,
      "grid_auto_flow": null,
      "grid_auto_rows": null,
      "grid_column": null,
      "grid_gap": null,
      "grid_row": null,
      "grid_template_areas": null,
      "grid_template_columns": null,
      "grid_template_rows": null,
      "height": null,
      "justify_content": null,
      "justify_items": null,
      "left": null,
      "margin": null,
      "max_height": null,
      "max_width": null,
      "min_height": null,
      "min_width": null,
      "object_fit": null,
      "object_position": null,
      "order": null,
      "overflow": null,
      "overflow_x": null,
      "overflow_y": null,
      "padding": null,
      "right": null,
      "top": null,
      "visibility": null,
      "width": null
     }
    },
    "8ac319acc89b4420ab0dbe247ab825d2": {
     "model_module": "@jupyter-widgets/controls",
     "model_module_version": "1.5.0",
     "model_name": "ProgressStyleModel",
     "state": {
      "_model_module": "@jupyter-widgets/controls",
      "_model_module_version": "1.5.0",
      "_model_name": "ProgressStyleModel",
      "_view_count": null,
      "_view_module": "@jupyter-widgets/base",
      "_view_module_version": "1.2.0",
      "_view_name": "StyleView",
      "bar_color": null,
      "description_width": ""
     }
    },
    "8e67f8ef68364154bbca6a4c354cc08d": {
     "model_module": "@jupyter-widgets/base",
     "model_module_version": "1.2.0",
     "model_name": "LayoutModel",
     "state": {
      "_model_module": "@jupyter-widgets/base",
      "_model_module_version": "1.2.0",
      "_model_name": "LayoutModel",
      "_view_count": null,
      "_view_module": "@jupyter-widgets/base",
      "_view_module_version": "1.2.0",
      "_view_name": "LayoutView",
      "align_content": null,
      "align_items": null,
      "align_self": null,
      "border": null,
      "bottom": null,
      "display": null,
      "flex": null,
      "flex_flow": null,
      "grid_area": null,
      "grid_auto_columns": null,
      "grid_auto_flow": null,
      "grid_auto_rows": null,
      "grid_column": null,
      "grid_gap": null,
      "grid_row": null,
      "grid_template_areas": null,
      "grid_template_columns": null,
      "grid_template_rows": null,
      "height": null,
      "justify_content": null,
      "justify_items": null,
      "left": null,
      "margin": null,
      "max_height": null,
      "max_width": null,
      "min_height": null,
      "min_width": null,
      "object_fit": null,
      "object_position": null,
      "order": null,
      "overflow": null,
      "overflow_x": null,
      "overflow_y": null,
      "padding": null,
      "right": null,
      "top": null,
      "visibility": null,
      "width": null
     }
    },
    "8e987f0dcc2445a38d4d22c4454872a8": {
     "model_module": "@jupyter-widgets/controls",
     "model_module_version": "1.5.0",
     "model_name": "DescriptionStyleModel",
     "state": {
      "_model_module": "@jupyter-widgets/controls",
      "_model_module_version": "1.5.0",
      "_model_name": "DescriptionStyleModel",
      "_view_count": null,
      "_view_module": "@jupyter-widgets/base",
      "_view_module_version": "1.2.0",
      "_view_name": "StyleView",
      "description_width": ""
     }
    },
    "92b478ab8c8e4a0daa999aad57e95ac3": {
     "model_module": "@jupyter-widgets/controls",
     "model_module_version": "1.5.0",
     "model_name": "HBoxModel",
     "state": {
      "_dom_classes": [],
      "_model_module": "@jupyter-widgets/controls",
      "_model_module_version": "1.5.0",
      "_model_name": "HBoxModel",
      "_view_count": null,
      "_view_module": "@jupyter-widgets/controls",
      "_view_module_version": "1.5.0",
      "_view_name": "HBoxView",
      "box_style": "",
      "children": [
       "IPY_MODEL_2bc8b1500a1c41bd807761a54bf916bb",
       "IPY_MODEL_9ef62896ca1b43c18c1adf8a282ef398",
       "IPY_MODEL_cc4bb9d6a8e948cba93d31d073ac03af"
      ],
      "layout": "IPY_MODEL_a864f46b0bd545a7bd1e974c107e4ef8"
     }
    },
    "96120984681b4289bd7426a6118a1d37": {
     "model_module": "@jupyter-widgets/controls",
     "model_module_version": "1.5.0",
     "model_name": "FloatProgressModel",
     "state": {
      "_dom_classes": [],
      "_model_module": "@jupyter-widgets/controls",
      "_model_module_version": "1.5.0",
      "_model_name": "FloatProgressModel",
      "_view_count": null,
      "_view_module": "@jupyter-widgets/controls",
      "_view_module_version": "1.5.0",
      "_view_name": "ProgressView",
      "bar_style": "success",
      "description": "",
      "description_tooltip": null,
      "layout": "IPY_MODEL_e1fa799fab8945be9cce2d13921cbf86",
      "max": 310,
      "min": 0,
      "orientation": "horizontal",
      "style": "IPY_MODEL_54851592b58248ab8662ec443755a0b1",
      "value": 310
     }
    },
    "9919ae454a2242c6aaf3dcec2b4a4bc3": {
     "model_module": "@jupyter-widgets/controls",
     "model_module_version": "1.5.0",
     "model_name": "DescriptionStyleModel",
     "state": {
      "_model_module": "@jupyter-widgets/controls",
      "_model_module_version": "1.5.0",
      "_model_name": "DescriptionStyleModel",
      "_view_count": null,
      "_view_module": "@jupyter-widgets/base",
      "_view_module_version": "1.2.0",
      "_view_name": "StyleView",
      "description_width": ""
     }
    },
    "9c13322396144af19accc4a60f5f9a6b": {
     "model_module": "@jupyter-widgets/controls",
     "model_module_version": "1.5.0",
     "model_name": "HBoxModel",
     "state": {
      "_dom_classes": [],
      "_model_module": "@jupyter-widgets/controls",
      "_model_module_version": "1.5.0",
      "_model_name": "HBoxModel",
      "_view_count": null,
      "_view_module": "@jupyter-widgets/controls",
      "_view_module_version": "1.5.0",
      "_view_name": "HBoxView",
      "box_style": "",
      "children": [
       "IPY_MODEL_fcdf85265342449eb72f451b2546de39",
       "IPY_MODEL_d82c1e0726824dac89737433d07037ef",
       "IPY_MODEL_b2c49205e8884ad4ae5d66e16b642c52"
      ],
      "layout": "IPY_MODEL_8e67f8ef68364154bbca6a4c354cc08d"
     }
    },
    "9ef62896ca1b43c18c1adf8a282ef398": {
     "model_module": "@jupyter-widgets/controls",
     "model_module_version": "1.5.0",
     "model_name": "FloatProgressModel",
     "state": {
      "_dom_classes": [],
      "_model_module": "@jupyter-widgets/controls",
      "_model_module_version": "1.5.0",
      "_model_name": "FloatProgressModel",
      "_view_count": null,
      "_view_module": "@jupyter-widgets/controls",
      "_view_module_version": "1.5.0",
      "_view_name": "ProgressView",
      "bar_style": "success",
      "description": "",
      "description_tooltip": null,
      "layout": "IPY_MODEL_e94092c637004e37a98cbbc13bc8a8b9",
      "max": 439621341,
      "min": 0,
      "orientation": "horizontal",
      "style": "IPY_MODEL_b9a4f2122c874921a99f81f72b49c8c1",
      "value": 439621341
     }
    },
    "a1b47d5a92f84f96abe2398fce65065f": {
     "model_module": "@jupyter-widgets/base",
     "model_module_version": "1.2.0",
     "model_name": "LayoutModel",
     "state": {
      "_model_module": "@jupyter-widgets/base",
      "_model_module_version": "1.2.0",
      "_model_name": "LayoutModel",
      "_view_count": null,
      "_view_module": "@jupyter-widgets/base",
      "_view_module_version": "1.2.0",
      "_view_name": "LayoutView",
      "align_content": null,
      "align_items": null,
      "align_self": null,
      "border": null,
      "bottom": null,
      "display": null,
      "flex": null,
      "flex_flow": null,
      "grid_area": null,
      "grid_auto_columns": null,
      "grid_auto_flow": null,
      "grid_auto_rows": null,
      "grid_column": null,
      "grid_gap": null,
      "grid_row": null,
      "grid_template_areas": null,
      "grid_template_columns": null,
      "grid_template_rows": null,
      "height": null,
      "justify_content": null,
      "justify_items": null,
      "left": null,
      "margin": null,
      "max_height": null,
      "max_width": null,
      "min_height": null,
      "min_width": null,
      "object_fit": null,
      "object_position": null,
      "order": null,
      "overflow": null,
      "overflow_x": null,
      "overflow_y": null,
      "padding": null,
      "right": null,
      "top": null,
      "visibility": null,
      "width": null
     }
    },
    "a1e7294165644eb28e1be50e1cec1ad7": {
     "model_module": "@jupyter-widgets/controls",
     "model_module_version": "1.5.0",
     "model_name": "ProgressStyleModel",
     "state": {
      "_model_module": "@jupyter-widgets/controls",
      "_model_module_version": "1.5.0",
      "_model_name": "ProgressStyleModel",
      "_view_count": null,
      "_view_module": "@jupyter-widgets/base",
      "_view_module_version": "1.2.0",
      "_view_name": "StyleView",
      "bar_color": null,
      "description_width": ""
     }
    },
    "a864f46b0bd545a7bd1e974c107e4ef8": {
     "model_module": "@jupyter-widgets/base",
     "model_module_version": "1.2.0",
     "model_name": "LayoutModel",
     "state": {
      "_model_module": "@jupyter-widgets/base",
      "_model_module_version": "1.2.0",
      "_model_name": "LayoutModel",
      "_view_count": null,
      "_view_module": "@jupyter-widgets/base",
      "_view_module_version": "1.2.0",
      "_view_name": "LayoutView",
      "align_content": null,
      "align_items": null,
      "align_self": null,
      "border": null,
      "bottom": null,
      "display": null,
      "flex": null,
      "flex_flow": null,
      "grid_area": null,
      "grid_auto_columns": null,
      "grid_auto_flow": null,
      "grid_auto_rows": null,
      "grid_column": null,
      "grid_gap": null,
      "grid_row": null,
      "grid_template_areas": null,
      "grid_template_columns": null,
      "grid_template_rows": null,
      "height": null,
      "justify_content": null,
      "justify_items": null,
      "left": null,
      "margin": null,
      "max_height": null,
      "max_width": null,
      "min_height": null,
      "min_width": null,
      "object_fit": null,
      "object_position": null,
      "order": null,
      "overflow": null,
      "overflow_x": null,
      "overflow_y": null,
      "padding": null,
      "right": null,
      "top": null,
      "visibility": null,
      "width": null
     }
    },
    "addad7e91ccd4b9e8983aceef1d6403f": {
     "model_module": "@jupyter-widgets/controls",
     "model_module_version": "1.5.0",
     "model_name": "DescriptionStyleModel",
     "state": {
      "_model_module": "@jupyter-widgets/controls",
      "_model_module_version": "1.5.0",
      "_model_name": "DescriptionStyleModel",
      "_view_count": null,
      "_view_module": "@jupyter-widgets/base",
      "_view_module_version": "1.2.0",
      "_view_name": "StyleView",
      "description_width": ""
     }
    },
    "b2c49205e8884ad4ae5d66e16b642c52": {
     "model_module": "@jupyter-widgets/controls",
     "model_module_version": "1.5.0",
     "model_name": "HTMLModel",
     "state": {
      "_dom_classes": [],
      "_model_module": "@jupyter-widgets/controls",
      "_model_module_version": "1.5.0",
      "_model_name": "HTMLModel",
      "_view_count": null,
      "_view_module": "@jupyter-widgets/controls",
      "_view_module_version": "1.5.0",
      "_view_name": "HTMLView",
      "description": "",
      "description_tooltip": null,
      "layout": "IPY_MODEL_e02762509df044c18ac3a7e43d5672fd",
      "placeholder": "​",
      "style": "IPY_MODEL_9919ae454a2242c6aaf3dcec2b4a4bc3",
      "value": " 650/650 [00:00&lt;00:00, 26.7kB/s]"
     }
    },
    "b2db9fa7f8c94aa1ace082c36fdf3943": {
     "model_module": "@jupyter-widgets/controls",
     "model_module_version": "1.5.0",
     "model_name": "DescriptionStyleModel",
     "state": {
      "_model_module": "@jupyter-widgets/controls",
      "_model_module_version": "1.5.0",
      "_model_name": "DescriptionStyleModel",
      "_view_count": null,
      "_view_module": "@jupyter-widgets/base",
      "_view_module_version": "1.2.0",
      "_view_name": "StyleView",
      "description_width": ""
     }
    },
    "b9a4f2122c874921a99f81f72b49c8c1": {
     "model_module": "@jupyter-widgets/controls",
     "model_module_version": "1.5.0",
     "model_name": "ProgressStyleModel",
     "state": {
      "_model_module": "@jupyter-widgets/controls",
      "_model_module_version": "1.5.0",
      "_model_name": "ProgressStyleModel",
      "_view_count": null,
      "_view_module": "@jupyter-widgets/base",
      "_view_module_version": "1.2.0",
      "_view_name": "StyleView",
      "bar_color": null,
      "description_width": ""
     }
    },
    "c03e7708da694f18aa30441a013b1fc9": {
     "model_module": "@jupyter-widgets/base",
     "model_module_version": "1.2.0",
     "model_name": "LayoutModel",
     "state": {
      "_model_module": "@jupyter-widgets/base",
      "_model_module_version": "1.2.0",
      "_model_name": "LayoutModel",
      "_view_count": null,
      "_view_module": "@jupyter-widgets/base",
      "_view_module_version": "1.2.0",
      "_view_name": "LayoutView",
      "align_content": null,
      "align_items": null,
      "align_self": null,
      "border": null,
      "bottom": null,
      "display": null,
      "flex": null,
      "flex_flow": null,
      "grid_area": null,
      "grid_auto_columns": null,
      "grid_auto_flow": null,
      "grid_auto_rows": null,
      "grid_column": null,
      "grid_gap": null,
      "grid_row": null,
      "grid_template_areas": null,
      "grid_template_columns": null,
      "grid_template_rows": null,
      "height": null,
      "justify_content": null,
      "justify_items": null,
      "left": null,
      "margin": null,
      "max_height": null,
      "max_width": null,
      "min_height": null,
      "min_width": null,
      "object_fit": null,
      "object_position": null,
      "order": null,
      "overflow": null,
      "overflow_x": null,
      "overflow_y": null,
      "padding": null,
      "right": null,
      "top": null,
      "visibility": null,
      "width": null
     }
    },
    "c0663d7248db49d3b4ed5a6a9796def1": {
     "model_module": "@jupyter-widgets/controls",
     "model_module_version": "1.5.0",
     "model_name": "HTMLModel",
     "state": {
      "_dom_classes": [],
      "_model_module": "@jupyter-widgets/controls",
      "_model_module_version": "1.5.0",
      "_model_name": "HTMLModel",
      "_view_count": null,
      "_view_module": "@jupyter-widgets/controls",
      "_view_module_version": "1.5.0",
      "_view_name": "HTMLView",
      "description": "",
      "description_tooltip": null,
      "layout": "IPY_MODEL_064cb390095f4aab987a8769450876c9",
      "placeholder": "​",
      "style": "IPY_MODEL_396df66ae34044f28328ed678ce3cb22",
      "value": " 310/310 [00:00&lt;00:00, 10.7kB/s]"
     }
    },
    "c48c4f713ca44faa8937175bebdf6c6d": {
     "model_module": "@jupyter-widgets/controls",
     "model_module_version": "1.5.0",
     "model_name": "HBoxModel",
     "state": {
      "_dom_classes": [],
      "_model_module": "@jupyter-widgets/controls",
      "_model_module_version": "1.5.0",
      "_model_name": "HBoxModel",
      "_view_count": null,
      "_view_module": "@jupyter-widgets/controls",
      "_view_module_version": "1.5.0",
      "_view_name": "HBoxView",
      "box_style": "",
      "children": [
       "IPY_MODEL_2b303687938c4bbba13a05080acb794c",
       "IPY_MODEL_96120984681b4289bd7426a6118a1d37",
       "IPY_MODEL_c0663d7248db49d3b4ed5a6a9796def1"
      ],
      "layout": "IPY_MODEL_d2bb7e727c584c58a4052a2e0a4b08c4"
     }
    },
    "c68c44d272a74784bfce87794bdbc36a": {
     "model_module": "@jupyter-widgets/controls",
     "model_module_version": "1.5.0",
     "model_name": "ProgressStyleModel",
     "state": {
      "_model_module": "@jupyter-widgets/controls",
      "_model_module_version": "1.5.0",
      "_model_name": "ProgressStyleModel",
      "_view_count": null,
      "_view_module": "@jupyter-widgets/base",
      "_view_module_version": "1.2.0",
      "_view_name": "StyleView",
      "bar_color": null,
      "description_width": ""
     }
    },
    "c8bcdd8e27ad4323b86b3313fb581440": {
     "model_module": "@jupyter-widgets/base",
     "model_module_version": "1.2.0",
     "model_name": "LayoutModel",
     "state": {
      "_model_module": "@jupyter-widgets/base",
      "_model_module_version": "1.2.0",
      "_model_name": "LayoutModel",
      "_view_count": null,
      "_view_module": "@jupyter-widgets/base",
      "_view_module_version": "1.2.0",
      "_view_name": "LayoutView",
      "align_content": null,
      "align_items": null,
      "align_self": null,
      "border": null,
      "bottom": null,
      "display": null,
      "flex": null,
      "flex_flow": null,
      "grid_area": null,
      "grid_auto_columns": null,
      "grid_auto_flow": null,
      "grid_auto_rows": null,
      "grid_column": null,
      "grid_gap": null,
      "grid_row": null,
      "grid_template_areas": null,
      "grid_template_columns": null,
      "grid_template_rows": null,
      "height": null,
      "justify_content": null,
      "justify_items": null,
      "left": null,
      "margin": null,
      "max_height": null,
      "max_width": null,
      "min_height": null,
      "min_width": null,
      "object_fit": null,
      "object_position": null,
      "order": null,
      "overflow": null,
      "overflow_x": null,
      "overflow_y": null,
      "padding": null,
      "right": null,
      "top": null,
      "visibility": null,
      "width": null
     }
    },
    "cc2034bf0be5422fa5895130f74fcf59": {
     "model_module": "@jupyter-widgets/base",
     "model_module_version": "1.2.0",
     "model_name": "LayoutModel",
     "state": {
      "_model_module": "@jupyter-widgets/base",
      "_model_module_version": "1.2.0",
      "_model_name": "LayoutModel",
      "_view_count": null,
      "_view_module": "@jupyter-widgets/base",
      "_view_module_version": "1.2.0",
      "_view_name": "LayoutView",
      "align_content": null,
      "align_items": null,
      "align_self": null,
      "border": null,
      "bottom": null,
      "display": null,
      "flex": null,
      "flex_flow": null,
      "grid_area": null,
      "grid_auto_columns": null,
      "grid_auto_flow": null,
      "grid_auto_rows": null,
      "grid_column": null,
      "grid_gap": null,
      "grid_row": null,
      "grid_template_areas": null,
      "grid_template_columns": null,
      "grid_template_rows": null,
      "height": null,
      "justify_content": null,
      "justify_items": null,
      "left": null,
      "margin": null,
      "max_height": null,
      "max_width": null,
      "min_height": null,
      "min_width": null,
      "object_fit": null,
      "object_position": null,
      "order": null,
      "overflow": null,
      "overflow_x": null,
      "overflow_y": null,
      "padding": null,
      "right": null,
      "top": null,
      "visibility": null,
      "width": null
     }
    },
    "cc27f52da07b4e7bb63ad14ce34cec5c": {
     "model_module": "@jupyter-widgets/controls",
     "model_module_version": "1.5.0",
     "model_name": "DescriptionStyleModel",
     "state": {
      "_model_module": "@jupyter-widgets/controls",
      "_model_module_version": "1.5.0",
      "_model_name": "DescriptionStyleModel",
      "_view_count": null,
      "_view_module": "@jupyter-widgets/base",
      "_view_module_version": "1.2.0",
      "_view_name": "StyleView",
      "description_width": ""
     }
    },
    "cc4bb9d6a8e948cba93d31d073ac03af": {
     "model_module": "@jupyter-widgets/controls",
     "model_module_version": "1.5.0",
     "model_name": "HTMLModel",
     "state": {
      "_dom_classes": [],
      "_model_module": "@jupyter-widgets/controls",
      "_model_module_version": "1.5.0",
      "_model_name": "HTMLModel",
      "_view_count": null,
      "_view_module": "@jupyter-widgets/controls",
      "_view_module_version": "1.5.0",
      "_view_name": "HTMLView",
      "description": "",
      "description_tooltip": null,
      "layout": "IPY_MODEL_71cbdcbf71284cfd96b9ad5259f1c7c0",
      "placeholder": "​",
      "style": "IPY_MODEL_26b3d8d6fde64d82ad49dc81b193275f",
      "value": " 440M/440M [00:04&lt;00:00, 29.7MB/s]"
     }
    },
    "d04539d3259f4cbcaffcedfb2e2a8365": {
     "model_module": "@jupyter-widgets/base",
     "model_module_version": "1.2.0",
     "model_name": "LayoutModel",
     "state": {
      "_model_module": "@jupyter-widgets/base",
      "_model_module_version": "1.2.0",
      "_model_name": "LayoutModel",
      "_view_count": null,
      "_view_module": "@jupyter-widgets/base",
      "_view_module_version": "1.2.0",
      "_view_name": "LayoutView",
      "align_content": null,
      "align_items": null,
      "align_self": null,
      "border": null,
      "bottom": null,
      "display": null,
      "flex": null,
      "flex_flow": null,
      "grid_area": null,
      "grid_auto_columns": null,
      "grid_auto_flow": null,
      "grid_auto_rows": null,
      "grid_column": null,
      "grid_gap": null,
      "grid_row": null,
      "grid_template_areas": null,
      "grid_template_columns": null,
      "grid_template_rows": null,
      "height": null,
      "justify_content": null,
      "justify_items": null,
      "left": null,
      "margin": null,
      "max_height": null,
      "max_width": null,
      "min_height": null,
      "min_width": null,
      "object_fit": null,
      "object_position": null,
      "order": null,
      "overflow": null,
      "overflow_x": null,
      "overflow_y": null,
      "padding": null,
      "right": null,
      "top": null,
      "visibility": null,
      "width": null
     }
    },
    "d2bb7e727c584c58a4052a2e0a4b08c4": {
     "model_module": "@jupyter-widgets/base",
     "model_module_version": "1.2.0",
     "model_name": "LayoutModel",
     "state": {
      "_model_module": "@jupyter-widgets/base",
      "_model_module_version": "1.2.0",
      "_model_name": "LayoutModel",
      "_view_count": null,
      "_view_module": "@jupyter-widgets/base",
      "_view_module_version": "1.2.0",
      "_view_name": "LayoutView",
      "align_content": null,
      "align_items": null,
      "align_self": null,
      "border": null,
      "bottom": null,
      "display": null,
      "flex": null,
      "flex_flow": null,
      "grid_area": null,
      "grid_auto_columns": null,
      "grid_auto_flow": null,
      "grid_auto_rows": null,
      "grid_column": null,
      "grid_gap": null,
      "grid_row": null,
      "grid_template_areas": null,
      "grid_template_columns": null,
      "grid_template_rows": null,
      "height": null,
      "justify_content": null,
      "justify_items": null,
      "left": null,
      "margin": null,
      "max_height": null,
      "max_width": null,
      "min_height": null,
      "min_width": null,
      "object_fit": null,
      "object_position": null,
      "order": null,
      "overflow": null,
      "overflow_x": null,
      "overflow_y": null,
      "padding": null,
      "right": null,
      "top": null,
      "visibility": null,
      "width": null
     }
    },
    "d46ae31061014052a36fbe1b3ec95c88": {
     "model_module": "@jupyter-widgets/controls",
     "model_module_version": "1.5.0",
     "model_name": "HBoxModel",
     "state": {
      "_dom_classes": [],
      "_model_module": "@jupyter-widgets/controls",
      "_model_module_version": "1.5.0",
      "_model_name": "HBoxModel",
      "_view_count": null,
      "_view_module": "@jupyter-widgets/controls",
      "_view_module_version": "1.5.0",
      "_view_name": "HBoxView",
      "box_style": "",
      "children": [
       "IPY_MODEL_f340bd3c9af543b09d70a007b65911c6",
       "IPY_MODEL_e48c9d94e19a4f099f93a085d64ef61e",
       "IPY_MODEL_3f6cdfa374e0435a9c672a646041c508"
      ],
      "layout": "IPY_MODEL_e2711e2edefe4051a8d382b5af578759"
     }
    },
    "d82c1e0726824dac89737433d07037ef": {
     "model_module": "@jupyter-widgets/controls",
     "model_module_version": "1.5.0",
     "model_name": "FloatProgressModel",
     "state": {
      "_dom_classes": [],
      "_model_module": "@jupyter-widgets/controls",
      "_model_module_version": "1.5.0",
      "_model_name": "FloatProgressModel",
      "_view_count": null,
      "_view_module": "@jupyter-widgets/controls",
      "_view_module_version": "1.5.0",
      "_view_name": "ProgressView",
      "bar_style": "success",
      "description": "",
      "description_tooltip": null,
      "layout": "IPY_MODEL_d04539d3259f4cbcaffcedfb2e2a8365",
      "max": 650,
      "min": 0,
      "orientation": "horizontal",
      "style": "IPY_MODEL_c68c44d272a74784bfce87794bdbc36a",
      "value": 650
     }
    },
    "dec36bc248f04ec38d6833a0347c80cb": {
     "model_module": "@jupyter-widgets/controls",
     "model_module_version": "1.5.0",
     "model_name": "DescriptionStyleModel",
     "state": {
      "_model_module": "@jupyter-widgets/controls",
      "_model_module_version": "1.5.0",
      "_model_name": "DescriptionStyleModel",
      "_view_count": null,
      "_view_module": "@jupyter-widgets/base",
      "_view_module_version": "1.2.0",
      "_view_name": "StyleView",
      "description_width": ""
     }
    },
    "e02762509df044c18ac3a7e43d5672fd": {
     "model_module": "@jupyter-widgets/base",
     "model_module_version": "1.2.0",
     "model_name": "LayoutModel",
     "state": {
      "_model_module": "@jupyter-widgets/base",
      "_model_module_version": "1.2.0",
      "_model_name": "LayoutModel",
      "_view_count": null,
      "_view_module": "@jupyter-widgets/base",
      "_view_module_version": "1.2.0",
      "_view_name": "LayoutView",
      "align_content": null,
      "align_items": null,
      "align_self": null,
      "border": null,
      "bottom": null,
      "display": null,
      "flex": null,
      "flex_flow": null,
      "grid_area": null,
      "grid_auto_columns": null,
      "grid_auto_flow": null,
      "grid_auto_rows": null,
      "grid_column": null,
      "grid_gap": null,
      "grid_row": null,
      "grid_template_areas": null,
      "grid_template_columns": null,
      "grid_template_rows": null,
      "height": null,
      "justify_content": null,
      "justify_items": null,
      "left": null,
      "margin": null,
      "max_height": null,
      "max_width": null,
      "min_height": null,
      "min_width": null,
      "object_fit": null,
      "object_position": null,
      "order": null,
      "overflow": null,
      "overflow_x": null,
      "overflow_y": null,
      "padding": null,
      "right": null,
      "top": null,
      "visibility": null,
      "width": null
     }
    },
    "e1fa799fab8945be9cce2d13921cbf86": {
     "model_module": "@jupyter-widgets/base",
     "model_module_version": "1.2.0",
     "model_name": "LayoutModel",
     "state": {
      "_model_module": "@jupyter-widgets/base",
      "_model_module_version": "1.2.0",
      "_model_name": "LayoutModel",
      "_view_count": null,
      "_view_module": "@jupyter-widgets/base",
      "_view_module_version": "1.2.0",
      "_view_name": "LayoutView",
      "align_content": null,
      "align_items": null,
      "align_self": null,
      "border": null,
      "bottom": null,
      "display": null,
      "flex": null,
      "flex_flow": null,
      "grid_area": null,
      "grid_auto_columns": null,
      "grid_auto_flow": null,
      "grid_auto_rows": null,
      "grid_column": null,
      "grid_gap": null,
      "grid_row": null,
      "grid_template_areas": null,
      "grid_template_columns": null,
      "grid_template_rows": null,
      "height": null,
      "justify_content": null,
      "justify_items": null,
      "left": null,
      "margin": null,
      "max_height": null,
      "max_width": null,
      "min_height": null,
      "min_width": null,
      "object_fit": null,
      "object_position": null,
      "order": null,
      "overflow": null,
      "overflow_x": null,
      "overflow_y": null,
      "padding": null,
      "right": null,
      "top": null,
      "visibility": null,
      "width": null
     }
    },
    "e2711e2edefe4051a8d382b5af578759": {
     "model_module": "@jupyter-widgets/base",
     "model_module_version": "1.2.0",
     "model_name": "LayoutModel",
     "state": {
      "_model_module": "@jupyter-widgets/base",
      "_model_module_version": "1.2.0",
      "_model_name": "LayoutModel",
      "_view_count": null,
      "_view_module": "@jupyter-widgets/base",
      "_view_module_version": "1.2.0",
      "_view_name": "LayoutView",
      "align_content": null,
      "align_items": null,
      "align_self": null,
      "border": null,
      "bottom": null,
      "display": null,
      "flex": null,
      "flex_flow": null,
      "grid_area": null,
      "grid_auto_columns": null,
      "grid_auto_flow": null,
      "grid_auto_rows": null,
      "grid_column": null,
      "grid_gap": null,
      "grid_row": null,
      "grid_template_areas": null,
      "grid_template_columns": null,
      "grid_template_rows": null,
      "height": null,
      "justify_content": null,
      "justify_items": null,
      "left": null,
      "margin": null,
      "max_height": null,
      "max_width": null,
      "min_height": null,
      "min_width": null,
      "object_fit": null,
      "object_position": null,
      "order": null,
      "overflow": null,
      "overflow_x": null,
      "overflow_y": null,
      "padding": null,
      "right": null,
      "top": null,
      "visibility": null,
      "width": null
     }
    },
    "e376ec8aaf604ecca4eac602ba8043be": {
     "model_module": "@jupyter-widgets/controls",
     "model_module_version": "1.5.0",
     "model_name": "DescriptionStyleModel",
     "state": {
      "_model_module": "@jupyter-widgets/controls",
      "_model_module_version": "1.5.0",
      "_model_name": "DescriptionStyleModel",
      "_view_count": null,
      "_view_module": "@jupyter-widgets/base",
      "_view_module_version": "1.2.0",
      "_view_name": "StyleView",
      "description_width": ""
     }
    },
    "e48c9d94e19a4f099f93a085d64ef61e": {
     "model_module": "@jupyter-widgets/controls",
     "model_module_version": "1.5.0",
     "model_name": "FloatProgressModel",
     "state": {
      "_dom_classes": [],
      "_model_module": "@jupyter-widgets/controls",
      "_model_module_version": "1.5.0",
      "_model_name": "FloatProgressModel",
      "_view_count": null,
      "_view_module": "@jupyter-widgets/controls",
      "_view_module_version": "1.5.0",
      "_view_name": "ProgressView",
      "bar_style": "success",
      "description": "",
      "description_tooltip": null,
      "layout": "IPY_MODEL_2fa7ea86360a450ab8e2404e3c55158f",
      "max": 134,
      "min": 0,
      "orientation": "horizontal",
      "style": "IPY_MODEL_a1e7294165644eb28e1be50e1cec1ad7",
      "value": 134
     }
    },
    "e94092c637004e37a98cbbc13bc8a8b9": {
     "model_module": "@jupyter-widgets/base",
     "model_module_version": "1.2.0",
     "model_name": "LayoutModel",
     "state": {
      "_model_module": "@jupyter-widgets/base",
      "_model_module_version": "1.2.0",
      "_model_name": "LayoutModel",
      "_view_count": null,
      "_view_module": "@jupyter-widgets/base",
      "_view_module_version": "1.2.0",
      "_view_name": "LayoutView",
      "align_content": null,
      "align_items": null,
      "align_self": null,
      "border": null,
      "bottom": null,
      "display": null,
      "flex": null,
      "flex_flow": null,
      "grid_area": null,
      "grid_auto_columns": null,
      "grid_auto_flow": null,
      "grid_auto_rows": null,
      "grid_column": null,
      "grid_gap": null,
      "grid_row": null,
      "grid_template_areas": null,
      "grid_template_columns": null,
      "grid_template_rows": null,
      "height": null,
      "justify_content": null,
      "justify_items": null,
      "left": null,
      "margin": null,
      "max_height": null,
      "max_width": null,
      "min_height": null,
      "min_width": null,
      "object_fit": null,
      "object_position": null,
      "order": null,
      "overflow": null,
      "overflow_x": null,
      "overflow_y": null,
      "padding": null,
      "right": null,
      "top": null,
      "visibility": null,
      "width": null
     }
    },
    "ead903e39b8c4d5a83e4740b32d39cc0": {
     "model_module": "@jupyter-widgets/controls",
     "model_module_version": "1.5.0",
     "model_name": "HTMLModel",
     "state": {
      "_dom_classes": [],
      "_model_module": "@jupyter-widgets/controls",
      "_model_module_version": "1.5.0",
      "_model_name": "HTMLModel",
      "_view_count": null,
      "_view_module": "@jupyter-widgets/controls",
      "_view_module_version": "1.5.0",
      "_view_name": "HTMLView",
      "description": "",
      "description_tooltip": null,
      "layout": "IPY_MODEL_75ebff29e5ce4a1e89cb53920a986dca",
      "placeholder": "​",
      "style": "IPY_MODEL_fe1b2e93a687455d9d7dd73ca97d172f",
      "value": " 486k/486k [00:00&lt;00:00, 10.4MB/s]"
     }
    },
    "ef0880b0f3d34f9f8eb6f3eafa0d454b": {
     "model_module": "@jupyter-widgets/controls",
     "model_module_version": "1.5.0",
     "model_name": "HBoxModel",
     "state": {
      "_dom_classes": [],
      "_model_module": "@jupyter-widgets/controls",
      "_model_module_version": "1.5.0",
      "_model_name": "HBoxModel",
      "_view_count": null,
      "_view_module": "@jupyter-widgets/controls",
      "_view_module_version": "1.5.0",
      "_view_name": "HBoxView",
      "box_style": "",
      "children": [
       "IPY_MODEL_0aa051c98bff4b2b8e7add59adeebb05",
       "IPY_MODEL_40c151bf52514647967f515e44b4b704",
       "IPY_MODEL_f7d1eb8484ba41588ee4c8adc9f23516"
      ],
      "layout": "IPY_MODEL_ef5b8df303304b5299d13d836ad7d254"
     }
    },
    "ef5b8df303304b5299d13d836ad7d254": {
     "model_module": "@jupyter-widgets/base",
     "model_module_version": "1.2.0",
     "model_name": "LayoutModel",
     "state": {
      "_model_module": "@jupyter-widgets/base",
      "_model_module_version": "1.2.0",
      "_model_name": "LayoutModel",
      "_view_count": null,
      "_view_module": "@jupyter-widgets/base",
      "_view_module_version": "1.2.0",
      "_view_name": "LayoutView",
      "align_content": null,
      "align_items": null,
      "align_self": null,
      "border": null,
      "bottom": null,
      "display": null,
      "flex": null,
      "flex_flow": null,
      "grid_area": null,
      "grid_auto_columns": null,
      "grid_auto_flow": null,
      "grid_auto_rows": null,
      "grid_column": null,
      "grid_gap": null,
      "grid_row": null,
      "grid_template_areas": null,
      "grid_template_columns": null,
      "grid_template_rows": null,
      "height": null,
      "justify_content": null,
      "justify_items": null,
      "left": null,
      "margin": null,
      "max_height": null,
      "max_width": null,
      "min_height": null,
      "min_width": null,
      "object_fit": null,
      "object_position": null,
      "order": null,
      "overflow": null,
      "overflow_x": null,
      "overflow_y": null,
      "padding": null,
      "right": null,
      "top": null,
      "visibility": null,
      "width": null
     }
    },
    "efd65b1f8bc54cf79b87b7e89311f6e4": {
     "model_module": "@jupyter-widgets/controls",
     "model_module_version": "1.5.0",
     "model_name": "FloatProgressModel",
     "state": {
      "_dom_classes": [],
      "_model_module": "@jupyter-widgets/controls",
      "_model_module_version": "1.5.0",
      "_model_name": "FloatProgressModel",
      "_view_count": null,
      "_view_module": "@jupyter-widgets/controls",
      "_view_module_version": "1.5.0",
      "_view_name": "ProgressView",
      "bar_style": "success",
      "description": "",
      "description_tooltip": null,
      "layout": "IPY_MODEL_c8bcdd8e27ad4323b86b3313fb581440",
      "max": 486125,
      "min": 0,
      "orientation": "horizontal",
      "style": "IPY_MODEL_8ac319acc89b4420ab0dbe247ab825d2",
      "value": 486125
     }
    },
    "f340bd3c9af543b09d70a007b65911c6": {
     "model_module": "@jupyter-widgets/controls",
     "model_module_version": "1.5.0",
     "model_name": "HTMLModel",
     "state": {
      "_dom_classes": [],
      "_model_module": "@jupyter-widgets/controls",
      "_model_module_version": "1.5.0",
      "_model_name": "HTMLModel",
      "_view_count": null,
      "_view_module": "@jupyter-widgets/controls",
      "_view_module_version": "1.5.0",
      "_view_name": "HTMLView",
      "description": "",
      "description_tooltip": null,
      "layout": "IPY_MODEL_cc2034bf0be5422fa5895130f74fcf59",
      "placeholder": "​",
      "style": "IPY_MODEL_b2db9fa7f8c94aa1ace082c36fdf3943",
      "value": "Downloading (…)cial_tokens_map.json: 100%"
     }
    },
    "f7d1eb8484ba41588ee4c8adc9f23516": {
     "model_module": "@jupyter-widgets/controls",
     "model_module_version": "1.5.0",
     "model_name": "HTMLModel",
     "state": {
      "_dom_classes": [],
      "_model_module": "@jupyter-widgets/controls",
      "_model_module_version": "1.5.0",
      "_model_name": "HTMLModel",
      "_view_count": null,
      "_view_module": "@jupyter-widgets/controls",
      "_view_module_version": "1.5.0",
      "_view_name": "HTMLView",
      "description": "",
      "description_tooltip": null,
      "layout": "IPY_MODEL_4c49a5468c264b62b013d93d270cb857",
      "placeholder": "​",
      "style": "IPY_MODEL_dec36bc248f04ec38d6833a0347c80cb",
      "value": " 248k/248k [00:00&lt;00:00, 4.05MB/s]"
     }
    },
    "fcdf85265342449eb72f451b2546de39": {
     "model_module": "@jupyter-widgets/controls",
     "model_module_version": "1.5.0",
     "model_name": "HTMLModel",
     "state": {
      "_dom_classes": [],
      "_model_module": "@jupyter-widgets/controls",
      "_model_module_version": "1.5.0",
      "_model_name": "HTMLModel",
      "_view_count": null,
      "_view_module": "@jupyter-widgets/controls",
      "_view_module_version": "1.5.0",
      "_view_name": "HTMLView",
      "description": "",
      "description_tooltip": null,
      "layout": "IPY_MODEL_0620205fb18b42d4ac9f33c7691de048",
      "placeholder": "​",
      "style": "IPY_MODEL_5dcc1f47fced401a86a692b01f0f0328",
      "value": "Downloading (…)lve/main/config.json: 100%"
     }
    },
    "fe1b2e93a687455d9d7dd73ca97d172f": {
     "model_module": "@jupyter-widgets/controls",
     "model_module_version": "1.5.0",
     "model_name": "DescriptionStyleModel",
     "state": {
      "_model_module": "@jupyter-widgets/controls",
      "_model_module_version": "1.5.0",
      "_model_name": "DescriptionStyleModel",
      "_view_count": null,
      "_view_module": "@jupyter-widgets/base",
      "_view_module_version": "1.2.0",
      "_view_name": "StyleView",
      "description_width": ""
     }
    }
   }
  }
 },
 "nbformat": 4,
 "nbformat_minor": 1
}
