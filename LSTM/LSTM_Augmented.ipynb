{
  "cells": [
    {
      "cell_type": "code",
      "source": [
        "from google.colab import drive\n",
        "drive.mount('/content/drive')"
      ],
      "metadata": {
        "colab": {
          "base_uri": "https://localhost:8080/"
        },
        "id": "MYIasJikF8Cb",
        "outputId": "5ef44483-87fb-4a32-e346-b71ce62f2e87"
      },
      "execution_count": null,
      "outputs": [
        {
          "output_type": "stream",
          "name": "stdout",
          "text": [
            "Mounted at /content/drive\n"
          ]
        }
      ]
    },
    {
      "cell_type": "code",
      "source": [
        "!pip install keras"
      ],
      "metadata": {
        "colab": {
          "base_uri": "https://localhost:8080/"
        },
        "id": "LGXF45_NGO8H",
        "outputId": "1a33300e-25ba-4778-c711-bd758a6445a0"
      },
      "execution_count": null,
      "outputs": [
        {
          "output_type": "stream",
          "name": "stdout",
          "text": [
            "Looking in indexes: https://pypi.org/simple, https://us-python.pkg.dev/colab-wheels/public/simple/\n",
            "Requirement already satisfied: keras in /usr/local/lib/python3.10/dist-packages (2.12.0)\n"
          ]
        }
      ]
    },
    {
      "cell_type": "code",
      "execution_count": null,
      "metadata": {
        "collapsed": true,
        "id": "2jjwO13AF7em"
      },
      "outputs": [],
      "source": [
        "import tensorflow as tf\n",
        "import pandas as pd\n",
        "import numpy as np\n",
        "\n",
        "import spacy\n",
        "import nltk\n",
        "import nltk.data\n",
        "from nltk.tokenize import word_tokenize\n",
        "from nltk.stem import SnowballStemmer\n",
        "import regex as re\n",
        "import string\n",
        "from collections import defaultdict\n",
        "\n",
        "from keras.preprocessing.text import Tokenizer\n",
        "from keras.utils import pad_sequences\n",
        "#from keras.preprocessing.sequence import pad_sequences\n",
        "from keras.wrappers.scikit_learn import KerasClassifier\n",
        "\n",
        "from tensorflow.keras.layers import Conv1D, Bidirectional, LSTM, Dense, Input, Dropout\n",
        "from tensorflow.keras.layers import SpatialDropout1D\n",
        "from tensorflow.keras.callbacks import ModelCheckpoint\n",
        "from tensorflow.keras.optimizers import Adam\n",
        "from tensorflow.keras.callbacks import ReduceLROnPlateau\n",
        "\n",
        "import matplotlib.pyplot as plt\n",
        "import seaborn as sns\n",
        "pd.set_option('display.max_colwidth', None)\n",
        "\n",
        "import sklearn\n",
        "from sklearn.model_selection import train_test_split\n",
        "from sklearn.metrics import confusion_matrix, classification_report, accuracy_score, f1_score\n",
        "from sklearn.model_selection import RandomizedSearchCV\n",
        "\n",
        "from gensim.models import FastText\n",
        "from gensim.models.keyedvectors import KeyedVectors\n",
        "\n",
        "import itertools"
      ]
    },
    {
      "cell_type": "code",
      "execution_count": null,
      "outputs": [],
      "source": [
        "df = pd.read_csv('/content/drive/MyDrive/TP1-AntiDiscriminator/datasets/final/hsd_merge_cleaned_lowered.csv')\n",
        "df.head()"
      ],
      "metadata": {
        "pycharm": {
          "name": "#%%\n"
        },
        "id": "f6m02tShF7eo"
      }
    },
    {
      "cell_type": "code",
      "execution_count": null,
      "outputs": [],
      "source": [
        "#df.drop(columns = ['Unnamed: 0', 'acctdesc' ,'location', 'following', 'followers', 'totaltweets', 'usercreatedts', 'tweetcreatedts', 'retweetcount', 'hashtags', ], inplace = True)\n",
        "df.head(5)"
      ],
      "metadata": {
        "pycharm": {
          "name": "#%%\n"
        },
        "id": "T4UC9YJxF7ep"
      }
    },
    {
      "cell_type": "code",
      "execution_count": null,
      "outputs": [],
      "source": [
        "df_train, df_test = train_test_split(df, test_size = 0.3, random_state = 42)\n",
        "\n",
        "print(f'Training set shape: {df_train.shape}')\n",
        "print(f'Test set shape: {df_test.shape}')"
      ],
      "metadata": {
        "pycharm": {
          "name": "#%%\n"
        },
        "id": "Pw66xV_RF7eq"
      }
    },
    {
      "cell_type": "code",
      "execution_count": null,
      "outputs": [],
      "source": [
        "punctuations = \"¡!#$%&'()*+,-./:;<=>¿?@[\\]^_`{|}~\"\n",
        "\n",
        "def read_txt(filename):\n",
        "    list = []\n",
        "    with open(filename, 'r', encoding='utf-8') as f:\n",
        "        data = f.readlines()\n",
        "        for line in data:\n",
        "            list.append(str(line).replace('\\n', ''))\n",
        "    return list\n",
        "\n",
        "stopwords = read_txt('/content/drive/MyDrive/TP1-AntiDiscriminator/Codigo/Benitez/spanish_stopwords.txt')\n",
        "\n",
        "stemmer = SnowballStemmer('spanish')"
      ],
      "metadata": {
        "pycharm": {
          "name": "#%%\n"
        },
        "id": "V5OvFY_pF7eq"
      }
    },
    {
      "cell_type": "code",
      "execution_count": null,
      "outputs": [],
      "source": [
        "def clean_accents(tweet):\n",
        "    tweet = re.sub(r\"[àáâãäå]\", \"a\", tweet)\n",
        "    tweet = re.sub(r\"ç\", \"c\", tweet)\n",
        "    tweet = re.sub(r\"[èéêë]\", \"e\", tweet)\n",
        "    tweet = re.sub(r\"[ìíîï]\", \"i\", tweet)\n",
        "    tweet = re.sub(r\"[òóôõö]\", \"o\", tweet)\n",
        "    tweet = re.sub(r\"[ùúûü]\", \"u\", tweet)\n",
        "    tweet = re.sub(r\"[ýÿ]\", \"y\", tweet)\n",
        "\n",
        "    return tweet\n",
        "\n",
        "def clean_tweet(tweet, stem = False):\n",
        "    tweet = tweet.lower().strip()\n",
        "    tweet = re.sub(r'https?:\\/\\/\\S+', '', tweet)\n",
        "    tweet = re.sub(r'http?:\\/\\/\\S+', '', tweet)\n",
        "    tweet = re.sub(r'www?:\\/\\/\\S+', '', tweet)\n",
        "    tweet = re.sub(r'\\s([@#][\\w_-]+)', \"\", tweet)\n",
        "    tweet = re.sub(r\"\\n\", \" \", tweet)\n",
        "    tweet = clean_accents(tweet)\n",
        "    tweet = re.sub(r\"\\b(a*ha+h[ha]*|o?l+o+l+[ol]*|x+d+[x*d*]*|a*ja+[j+a+]+)\\b\", \"<risas>\", tweet)\n",
        "    for symbol in punctuations:\n",
        "        tweet = tweet.replace(symbol, \"\")\n",
        "    tokens = []\n",
        "    for token in tweet.strip().split():\n",
        "        if token not in punctuations and token not in stopwords:\n",
        "            if stem:\n",
        "                tokens.append(stemmer.stem(token))\n",
        "            else:\n",
        "                tokens.append(token)\n",
        "    return \" \".join(tokens)"
      ],
      "metadata": {
        "pycharm": {
          "name": "#%%\n"
        },
        "id": "BJ3cnlnDF7eq"
      }
    },
    {
      "cell_type": "code",
      "execution_count": null,
      "outputs": [],
      "source": [
        "df['text_cleaned'] = df['text'].apply(lambda s : clean_tweet(s))\n",
        "df_train['text_cleaned'] = df_train['text'].apply(lambda s : clean_tweet(s))\n",
        "df_test['text_cleaned'] = df_test['text'].apply(lambda s : clean_tweet(s))\n",
        "\n",
        "print(df_train['text_cleaned'].head(5))"
      ],
      "metadata": {
        "pycharm": {
          "name": "#%%\n"
        },
        "id": "JjdLqgFpF7er"
      }
    },
    {
      "cell_type": "code",
      "execution_count": null,
      "outputs": [],
      "source": [
        "df_train.drop_duplicates(subset=['text_cleaned'], keep='last', inplace = True)\n",
        "df_test.drop_duplicates(subset=['text_cleaned'], keep='last', inplace = True)"
      ],
      "metadata": {
        "pycharm": {
          "name": "#%%\n"
        },
        "id": "NqTHM_q7F7er"
      }
    },
    {
      "cell_type": "code",
      "execution_count": null,
      "outputs": [],
      "source": [
        "#fig, axes = plt.subplots(ncols=2, figsize=(17, 4), dpi=200)\n",
        "#plt.tight_layout()\n",
        "#\n",
        "#target_count = df_train.groupby('target').count()['username']\n",
        "#not_racist_pct = round(target_count[0]/(target_count[0] + target_count[1]),3)\n",
        "#racist_pct = 1 - not_racist_pct\n",
        "#\n",
        "#target_count.plot(kind='pie', ax=axes[0], labels=[f'Not racist({not_racist_pct*100}%)', f'Racist({racist_pct*100}%)'])\n",
        "#sns.countplot(x=df['target'], hue=df['target'], ax=axes[1])\n",
        "#\n",
        "#axes[0].set_ylabel('')\n",
        "#axes[1].set_ylabel('')\n",
        "#axes[1].set_xticklabels([f'Not racist ({target_count[0]})', f'Racist ({target_count[1]})'])\n",
        "#axes[0].tick_params(axis='x', labelsize=15)\n",
        "#axes[0].tick_params(axis='y', labelsize=15)\n",
        "#axes[1].tick_params(axis='x', labelsize=15)\n",
        "#axes[1].tick_params(axis='y', labelsize=15)\n",
        "#\n",
        "#axes[0].set_title('Target Distribution in Training Set', fontsize=13)\n",
        "#axes[1].set_title('Target Count in Training Set', fontsize=13)\n",
        "#\n",
        "#plt.show()"
      ],
      "metadata": {
        "pycharm": {
          "name": "#%%\n"
        },
        "id": "CRynSkfUF7er"
      }
    },
    {
      "cell_type": "code",
      "execution_count": null,
      "outputs": [],
      "source": [
        "tokenizer = Tokenizer()\n",
        "tokenizer.fit_on_texts(df.text_cleaned)\n",
        "\n",
        "word_index = tokenizer.word_index\n",
        "vocab_size = len(tokenizer.word_index) + 1\n",
        "print(\"Vocabulary Size :\", vocab_size)"
      ],
      "metadata": {
        "pycharm": {
          "name": "#%%\n"
        },
        "id": "vlFvorBkF7es"
      }
    },
    {
      "cell_type": "code",
      "execution_count": null,
      "outputs": [],
      "source": [
        "MAX_SEQUENCE_LENGTH = 50\n",
        "x_train = pad_sequences(tokenizer.texts_to_sequences(df_train.text_cleaned),\n",
        "                        maxlen = MAX_SEQUENCE_LENGTH)\n",
        "x_test = pad_sequences(tokenizer.texts_to_sequences(df_test.text_cleaned),\n",
        "                       maxlen = MAX_SEQUENCE_LENGTH)\n",
        "\n",
        "print(\"Training X Shape:\",x_train.shape)\n",
        "print(\"Testing X Shape:\",x_test.shape)\n",
        "print(x_train[0])"
      ],
      "metadata": {
        "pycharm": {
          "name": "#%%\n"
        },
        "id": "6WFpQk7EF7es"
      }
    },
    {
      "cell_type": "code",
      "execution_count": null,
      "outputs": [],
      "source": [
        "y_train = pd.DataFrame(df_train['label'])\n",
        "y_test = pd.DataFrame(df_test['label'])\n",
        "\n",
        "print(\"Training y Shape:\", y_train.shape)\n",
        "print(\"Testing y Shape:\", y_test.shape)"
      ],
      "metadata": {
        "pycharm": {
          "name": "#%%\n"
        },
        "id": "FyIKAqbSF7es"
      }
    },
    {
      "cell_type": "code",
      "source": [
        "from sklearn.model_selection import train_test_split"
      ],
      "metadata": {
        "id": "e0eYhEKRL67W"
      },
      "execution_count": null,
      "outputs": []
    },
    {
      "cell_type": "code",
      "source": [
        "def to_df(x, y):\n",
        "    d = {\"text\": x, \"label\": y}\n",
        "    return pd.DataFrame(d)\n",
        "\n",
        "def split_3(df, test_size=0.2, valid_size=0.2):\n",
        "    _df = df.copy().sample(frac=1).reset_index()\n",
        "    _df = _df[[\"text\", \"label\"]]\n",
        "\n",
        "    x = df[\"text\"].copy()\n",
        "    y = df[\"label\"].copy()\n",
        "    #split train-test\n",
        "    x_train, x_test, y_train, y_test = train_test_split(x, y, test_size=test_size, stratify=y)\n",
        "    # split train-valid\n",
        "    x, y = x_train, y_train\n",
        "    x_train, x_valid, y_train, y_valid = train_test_split(x, y, test_size=valid_size, stratify=y)\n",
        "    return to_df(x_train, y_train), to_df(x_valid, y_valid), to_df(x_test, y_test)"
      ],
      "metadata": {
        "id": "v0IFWJ23L5I5"
      },
      "execution_count": null,
      "outputs": []
    },
    {
      "cell_type": "code",
      "source": [
        "import numpy as np\n",
        "import pandas as pd\n",
        "\n",
        "tname_data = \"/content/drive/MyDrive/TP1-AntiDiscriminator/datasets/final/hsd_merge_cleaned_lowered\"\n",
        "data = pd.read_csv(f\"{tname_data}.csv\")\n",
        "\n",
        "train, valid, test = split_3(data)\n",
        "\n",
        "X_train = train['text']\n",
        "y_train = train['label']\n",
        "\n",
        "X_valid = valid['text']\n",
        "y_valid = valid['label']\n",
        "\n",
        "X_test = test['text']\n",
        "y_test = test['label']"
      ],
      "metadata": {
        "id": "Nvh-Y0KiL2-E"
      },
      "execution_count": null,
      "outputs": []
    },
    {
      "cell_type": "code",
      "source": [
        "#Nuestro\n",
        "import pandas as pd\n",
        "from glob import glob\n",
        "\n",
        "train_sentences = list(train['text'].values)\n",
        "train_labels = list(train['label'].values)\n",
        "\n",
        "valid_sentences = list(valid['text'].values)\n",
        "valid_labels = list(valid['label'].values)\n",
        "\n",
        "test_sentences = list(test['text'].values)\n",
        "test_labels = list(test['label'].values)"
      ],
      "metadata": {
        "id": "4izR8XyCLsIu"
      },
      "execution_count": null,
      "outputs": []
    },
    {
      "cell_type": "code",
      "source": [
        "import locale\n",
        "locale.getpreferredencoding = lambda: \"UTF-8\""
      ],
      "metadata": {
        "id": "58j2axo-NXRH"
      },
      "execution_count": null,
      "outputs": []
    },
    {
      "cell_type": "code",
      "source": [
        "!pip install transformers -qq"
      ],
      "metadata": {
        "colab": {
          "base_uri": "https://localhost:8080/"
        },
        "id": "ojDHtRXvMXFz",
        "outputId": "fac31770-7cdf-4bcf-9b15-62632bce6b6e"
      },
      "execution_count": null,
      "outputs": [
        {
          "output_type": "stream",
          "name": "stdout",
          "text": [
            "\u001b[2K     \u001b[90m━━━━━━━━━━━━━━━━━━━━━━━━━━━━━━━━━━━━━━━━\u001b[0m \u001b[32m7.2/7.2 MB\u001b[0m \u001b[31m65.1 MB/s\u001b[0m eta \u001b[36m0:00:00\u001b[0m\n",
            "\u001b[2K     \u001b[90m━━━━━━━━━━━━━━━━━━━━━━━━━━━━━━━━━━━━━━\u001b[0m \u001b[32m236.8/236.8 kB\u001b[0m \u001b[31m26.7 MB/s\u001b[0m eta \u001b[36m0:00:00\u001b[0m\n",
            "\u001b[2K     \u001b[90m━━━━━━━━━━━━━━━━━━━━━━━━━━━━━━━━━━━━━━━━\u001b[0m \u001b[32m7.8/7.8 MB\u001b[0m \u001b[31m62.2 MB/s\u001b[0m eta \u001b[36m0:00:00\u001b[0m\n",
            "\u001b[2K     \u001b[90m━━━━━━━━━━━━━━━━━━━━━━━━━━━━━━━━━━━━━━━━\u001b[0m \u001b[32m1.3/1.3 MB\u001b[0m \u001b[31m61.5 MB/s\u001b[0m eta \u001b[36m0:00:00\u001b[0m\n",
            "\u001b[?25h"
          ]
        }
      ]
    },
    {
      "cell_type": "code",
      "source": [
        "from transformers import AutoTokenizer\n",
        "\n",
        "tokenizer = AutoTokenizer.from_pretrained('dccuchile/bert-base-spanish-wwm-cased')"
      ],
      "metadata": {
        "colab": {
          "base_uri": "https://localhost:8080/",
          "height": 177,
          "referenced_widgets": [
            "3d5109feb0ae4c9b843ef51cecf35d82",
            "386138ea934444e1a6b14b33d48ee492",
            "f063c12fb701433492e6548528ac3a71",
            "4a8085814f6b4807b3402fe8c897dd7a",
            "4ab20043a076462198b8894535295463",
            "4bac03b51c4a40e8b1d6ae578364ef41",
            "e3d53ad5de4744dd96e9f6bc104864ac",
            "1b553d877a2544fe8ac67a5b78e786d7",
            "2ece3e43841348a8ad606414b4241ed7",
            "378bc3279032480f9355b49838430a7c",
            "0a66d082ea94489081dae0748ba43f5b",
            "fbafff4efc8c4e0ca4fa196ff4b883b1",
            "fc4ca7ab5e514bc0ae6f32f6144da951",
            "33f08c0f083f46599fc75a121be0fd95",
            "123da90783e6449c8517d587a1f67854",
            "10e6c5f749d14d18a198c0930d5fe3cf",
            "3b72c8c890f1425eb9c259a4b56e368a",
            "161cdaef318a43849442c8b6a2826149",
            "2dac342e112049aaa0048aaa45b3ebf9",
            "b7bc62298f4f492784d36f48e7a73d38",
            "23986c42d2574490aa6b9101ebc7bd13",
            "cb3ae1ecae804b38bf16bbb90485a152",
            "769000d1ba5d46afa3a21f7f83b2115e",
            "a7a45bd3d6474267a258465ac7ec20a6",
            "051e6a18cd3f400599d4e6464f62efdf",
            "50409d2459ab4a5ab87165378b170ea2",
            "435d8981b9214e8da7ebe86265385c66",
            "f5502710005d4866ad928575e97424bb",
            "bb5c6401edfa4c918316bd9bc1da0135",
            "92454a461db343aaba5be88dfcc65dc4",
            "7c49c1449e1e46958a9e0c4bd89ab104",
            "eb1e4560e1894b63988a1c50ec906fe7",
            "1d300a45a96944c3b7410bcfb59c7ba8",
            "82554eb958704fe1a2cdd88020f79e53",
            "5925e47a1190461fb9c23f654f7fe4a5",
            "2b75d3719d004cedb768a46702a69bb5",
            "1e2be5d9a96c4b9296109d88e11b7565",
            "36e4d8b9c322471a8f68e5934581450e",
            "491e0b432cf545d6ba311223c4832d91",
            "09320ce1065b4d04b86eb7e4e0114f01",
            "b3f574dbcc04477798d5f972802ecf6f",
            "bd5478cb3299422f84eea93dd280fa5a",
            "0472ad2ce7d5490991430345107a6228",
            "b0f0bef4f76f4122ab628bde013a7fdc",
            "b412c2a55082490da6874950db29511e",
            "ce5ab100e9e0434898f9b917cb635256",
            "2bc96c61468549c7884820edfc363233",
            "4c0b2aeeb784464787db91c206ae817f",
            "7c5e626969954270aaabf05532fe0421",
            "6e0289166fb14029b41d94a88881649f",
            "3b4045200a2646d28d8b679828fc7ed0",
            "7ec4900072df440487882496d0afca53",
            "a78917e9180c4f639de3cc778927842d",
            "2f1e0314c8e143868240cc4a89ff2eb7",
            "7551556870a6444287a614535d7b04a7"
          ]
        },
        "id": "Vk9W3F4GMTOE",
        "outputId": "210e0624-5999-4211-b723-7e5e1e6b4f03"
      },
      "execution_count": null,
      "outputs": [
        {
          "output_type": "display_data",
          "data": {
            "text/plain": [
              "Downloading (…)okenizer_config.json:   0%|          | 0.00/364 [00:00<?, ?B/s]"
            ],
            "application/vnd.jupyter.widget-view+json": {
              "version_major": 2,
              "version_minor": 0,
              "model_id": "3d5109feb0ae4c9b843ef51cecf35d82"
            }
          },
          "metadata": {}
        },
        {
          "output_type": "display_data",
          "data": {
            "text/plain": [
              "Downloading (…)lve/main/config.json:   0%|          | 0.00/648 [00:00<?, ?B/s]"
            ],
            "application/vnd.jupyter.widget-view+json": {
              "version_major": 2,
              "version_minor": 0,
              "model_id": "fbafff4efc8c4e0ca4fa196ff4b883b1"
            }
          },
          "metadata": {}
        },
        {
          "output_type": "display_data",
          "data": {
            "text/plain": [
              "Downloading (…)solve/main/vocab.txt:   0%|          | 0.00/242k [00:00<?, ?B/s]"
            ],
            "application/vnd.jupyter.widget-view+json": {
              "version_major": 2,
              "version_minor": 0,
              "model_id": "769000d1ba5d46afa3a21f7f83b2115e"
            }
          },
          "metadata": {}
        },
        {
          "output_type": "display_data",
          "data": {
            "text/plain": [
              "Downloading (…)/main/tokenizer.json:   0%|          | 0.00/480k [00:00<?, ?B/s]"
            ],
            "application/vnd.jupyter.widget-view+json": {
              "version_major": 2,
              "version_minor": 0,
              "model_id": "82554eb958704fe1a2cdd88020f79e53"
            }
          },
          "metadata": {}
        },
        {
          "output_type": "display_data",
          "data": {
            "text/plain": [
              "Downloading (…)cial_tokens_map.json:   0%|          | 0.00/134 [00:00<?, ?B/s]"
            ],
            "application/vnd.jupyter.widget-view+json": {
              "version_major": 2,
              "version_minor": 0,
              "model_id": "b412c2a55082490da6874950db29511e"
            }
          },
          "metadata": {}
        }
      ]
    },
    {
      "cell_type": "code",
      "source": [
        "tokenizer.vocab_size"
      ],
      "metadata": {
        "colab": {
          "base_uri": "https://localhost:8080/"
        },
        "id": "jJ2kSTcQMTY5",
        "outputId": "3c09ad2b-86bd-424b-a81f-ef8a1686db63"
      },
      "execution_count": null,
      "outputs": [
        {
          "output_type": "execute_result",
          "data": {
            "text/plain": [
              "31002"
            ]
          },
          "metadata": {},
          "execution_count": 23
        }
      ]
    },
    {
      "cell_type": "code",
      "source": [
        "#choose max_length for beto model based on the input length\n",
        "\n",
        "max_length = 0\n",
        "list_len=[]\n",
        "for sentence in train_sentences:\n",
        "    length = len(tokenizer.tokenize(sentence))\n",
        "    list_len.append(length)\n",
        "\n",
        "from collections import Counter\n",
        "Counter(list_len).most_common(100)"
      ],
      "metadata": {
        "colab": {
          "base_uri": "https://localhost:8080/"
        },
        "id": "frXkiVbKMUKE",
        "outputId": "63d65f86-c279-4bc0-ad26-d64197bac7cd"
      },
      "execution_count": null,
      "outputs": [
        {
          "output_type": "execute_result",
          "data": {
            "text/plain": [
              "[(17, 357),\n",
              " (21, 342),\n",
              " (15, 338),\n",
              " (18, 324),\n",
              " (16, 319),\n",
              " (19, 316),\n",
              " (12, 315),\n",
              " (22, 311),\n",
              " (24, 310),\n",
              " (14, 308),\n",
              " (20, 305),\n",
              " (13, 303),\n",
              " (23, 301),\n",
              " (10, 296),\n",
              " (26, 289),\n",
              " (9, 274),\n",
              " (25, 273),\n",
              " (11, 264),\n",
              " (27, 262),\n",
              " (29, 246),\n",
              " (28, 230),\n",
              " (8, 197),\n",
              " (30, 190),\n",
              " (31, 179),\n",
              " (7, 171),\n",
              " (33, 164),\n",
              " (32, 156),\n",
              " (6, 148),\n",
              " (34, 131),\n",
              " (5, 111),\n",
              " (35, 108),\n",
              " (36, 106),\n",
              " (39, 100),\n",
              " (43, 93),\n",
              " (40, 92),\n",
              " (53, 90),\n",
              " (49, 90),\n",
              " (47, 90),\n",
              " (50, 88),\n",
              " (41, 86),\n",
              " (44, 86),\n",
              " (38, 86),\n",
              " (37, 84),\n",
              " (54, 84),\n",
              " (51, 81),\n",
              " (42, 78),\n",
              " (46, 76),\n",
              " (52, 76),\n",
              " (57, 71),\n",
              " (45, 66),\n",
              " (48, 66),\n",
              " (56, 64),\n",
              " (58, 63),\n",
              " (4, 60),\n",
              " (55, 57),\n",
              " (59, 48),\n",
              " (60, 41),\n",
              " (61, 40),\n",
              " (64, 38),\n",
              " (62, 31),\n",
              " (66, 24),\n",
              " (65, 23),\n",
              " (3, 22),\n",
              " (63, 20),\n",
              " (67, 17),\n",
              " (2, 13),\n",
              " (68, 8),\n",
              " (69, 7),\n",
              " (70, 4),\n",
              " (71, 4),\n",
              " (74, 4),\n",
              " (72, 4),\n",
              " (1, 4),\n",
              " (81, 2),\n",
              " (75, 2),\n",
              " (80, 2),\n",
              " (73, 1),\n",
              " (78, 1),\n",
              " (76, 1),\n",
              " (87, 1)]"
            ]
          },
          "metadata": {},
          "execution_count": 24
        }
      ]
    },
    {
      "cell_type": "code",
      "source": [
        "#Nuestro\n",
        "from sklearn import preprocessing\n",
        "\n",
        "le = preprocessing.LabelEncoder()\n",
        "le.fit(train_labels)\n",
        "encoded_train_labels = le.transform(train_labels)\n",
        "encoded_valid_labels = le.transform(valid_labels)\n",
        "encoded_test_labels = le.transform(test_labels)"
      ],
      "metadata": {
        "id": "JM4Jpt2NLd_W"
      },
      "execution_count": null,
      "outputs": []
    },
    {
      "cell_type": "code",
      "source": [
        "#Nuestro\n",
        "# Tokens IDs tensor\n",
        "import torch\n",
        "\n",
        "def encoder_generator(sentences,labels):\n",
        "\n",
        "    sent_index = []\n",
        "    input_ids = []\n",
        "    attention_masks =[]\n",
        "\n",
        "    for index,sent in enumerate(sentences):\n",
        "\n",
        "        sent_index.append(index)\n",
        "\n",
        "        encoded_dict = tokenizer.encode_plus(sent,\n",
        "                                             add_special_tokens=True,\n",
        "                                             max_length=50,\n",
        "                                             padding='max_length',\n",
        "                                             truncation = True,\n",
        "                                             return_attention_mask=True,\n",
        "                                             return_tensors='pt')\n",
        "        input_ids.append(encoded_dict['input_ids'])\n",
        "\n",
        "        attention_masks.append(encoded_dict['attention_mask'])\n",
        "\n",
        "    input_ids = torch.cat(input_ids,dim=0).cuda()\n",
        "    attention_masks = torch.cat(attention_masks,dim=0).cuda()\n",
        "    labels = torch.tensor(labels).cuda()\n",
        "    sent_index = torch.tensor(sent_index).cuda()\n",
        "\n",
        "    return sent_index,input_ids,attention_masks,labels\n",
        "\n",
        "train_sent_index,train_input_ids,train_attention_masks,train_encoded_label_tensors = encoder_generator(train_sentences,encoded_train_labels)\n",
        "valid_sent_index,valid_input_ids,valid_attention_masks,valid_encoded_label_tensors = encoder_generator(valid_sentences,encoded_valid_labels)\n",
        "print('Original: ', train_sentences[0])\n",
        "print('Token IDs:', train_input_ids[0])"
      ],
      "metadata": {
        "colab": {
          "base_uri": "https://localhost:8080/"
        },
        "id": "qIJcskCKKpam",
        "outputId": "6f42ab23-2009-49dd-8c7d-42421f4465c7"
      },
      "execution_count": null,
      "outputs": [
        {
          "output_type": "stream",
          "name": "stdout",
          "text": [
            "Original:  muy ignorante la sra red a las afp cierto a la sra que habla de delincuencia\n",
            "Token IDs: tensor([    4,  1456,  8180,  1277,  1030, 21266, 30932,  4272,  1013,  1089,\n",
            "         2359, 30944,  3015,  1013,  1030, 21266, 30932,  1038,  4124,  1008,\n",
            "        13319,     5,     1,     1,     1,     1,     1,     1,     1,     1,\n",
            "            1,     1,     1,     1,     1,     1,     1,     1,     1,     1,\n",
            "            1,     1,     1,     1,     1,     1,     1,     1,     1,     1],\n",
            "       device='cuda:0')\n"
          ]
        }
      ]
    },
    {
      "cell_type": "code",
      "execution_count": null,
      "outputs": [],
      "source": [
        "GLOVE_EMB = '../data/embeddings/embeddings-l-model.vec'\n",
        "EMBEDDING_DIM = 768\n",
        "LR = 5e-4\n",
        "BATCH_SIZE = 100\n",
        "EPOCHS = 50"
      ],
      "metadata": {
        "pycharm": {
          "name": "#%%\n"
        },
        "id": "Zzi85UTaF7et"
      }
    },
    {
      "cell_type": "code",
      "execution_count": null,
      "outputs": [],
      "source": [
        "cantidad = 1313423\n",
        "#wordvectors = KeyedVectors.load_word2vec_format(GLOVE_EMB, limit=cantidad)"
      ],
      "metadata": {
        "pycharm": {
          "name": "#%%\n"
        },
        "id": "RyDuAC5gF7et"
      }
    },
    {
      "cell_type": "code",
      "execution_count": null,
      "outputs": [
        {
          "output_type": "stream",
          "name": "stdout",
          "text": [
            "Embeddings coverage: 0.0\n"
          ]
        }
      ],
      "source": [
        "embedding_matrix = np.zeros((vocab_size, EMBEDDING_DIM))\n",
        "for word, i in word_index.items():\n",
        "    try:\n",
        "        embedding_vector = wordvectors[word]\n",
        "        embedding_matrix[i] = embedding_vector\n",
        "    except:\n",
        "        pass\n",
        "\n",
        "nonzero_elements = np.count_nonzero(np.count_nonzero(embedding_matrix, axis=1))\n",
        "print(f'Embeddings coverage: {round(nonzero_elements / vocab_size,4)*100}')"
      ],
      "metadata": {
        "pycharm": {
          "name": "#%%\n"
        },
        "id": "HaPBsnwWF7et",
        "outputId": "528cef0c-bb01-4009-f29e-3d4fc345cc1d",
        "colab": {
          "base_uri": "https://localhost:8080/"
        }
      }
    },
    {
      "cell_type": "code",
      "execution_count": null,
      "outputs": [],
      "source": [
        "embedding_layer = tf.keras.layers.Embedding(vocab_size,\n",
        "                                          EMBEDDING_DIM,\n",
        "                                          weights=[embedding_matrix],\n",
        "                                          input_length=MAX_SEQUENCE_LENGTH,\n",
        "                                          trainable=False)"
      ],
      "metadata": {
        "pycharm": {
          "name": "#%%\n"
        },
        "id": "2NHdy71IF7et"
      }
    },
    {
      "cell_type": "code",
      "execution_count": null,
      "outputs": [
        {
          "output_type": "stream",
          "name": "stdout",
          "text": [
            "Model: \"model_2\"\n",
            "_________________________________________________________________\n",
            " Layer (type)                Output Shape              Param #   \n",
            "=================================================================\n",
            " input_3 (InputLayer)        [(None, 50)]              0         \n",
            "                                                                 \n",
            " embedding_2 (Embedding)     (None, 50, 768)           23592960  \n",
            "                                                                 \n",
            " lstm_2 (LSTM)               (None, 64)                213248    \n",
            "                                                                 \n",
            " FC1 (Dense)                 (None, 256)               16640     \n",
            "                                                                 \n",
            " dense_6 (Dense)             (None, 512)               131584    \n",
            "                                                                 \n",
            " dropout_2 (Dropout)         (None, 512)               0         \n",
            "                                                                 \n",
            " dense_7 (Dense)             (None, 512)               262656    \n",
            "                                                                 \n",
            " dense_8 (Dense)             (None, 1)                 513       \n",
            "                                                                 \n",
            "=================================================================\n",
            "Total params: 24,217,601\n",
            "Trainable params: 624,641\n",
            "Non-trainable params: 23,592,960\n",
            "_________________________________________________________________\n",
            "None\n"
          ]
        }
      ],
      "source": [
        "sequence_input = Input(shape=(MAX_SEQUENCE_LENGTH,), dtype='int32')\n",
        "embedding_sequences = embedding_layer(sequence_input)\n",
        "x = LSTM(64)(embedding_sequences)\n",
        "x = Dense(256,name='FC1')(x)\n",
        "x = Dense(512, activation='relu')(x)\n",
        "x = Dropout(0.5)(x)\n",
        "x = Dense(512, activation='relu')(x)\n",
        "outputs = Dense(1, activation='sigmoid')(x)\n",
        "model = tf.keras.Model(sequence_input, outputs)\n",
        "\n",
        "print(model.summary())"
      ],
      "metadata": {
        "pycharm": {
          "name": "#%%\n"
        },
        "id": "a9tD9Mp1F7et",
        "outputId": "8f449c62-b68a-4ea1-fdce-7a06760cf629",
        "colab": {
          "base_uri": "https://localhost:8080/"
        }
      }
    },
    {
      "cell_type": "code",
      "execution_count": null,
      "outputs": [],
      "source": [
        "model.compile(optimizer=Adam(learning_rate=LR), loss='binary_crossentropy',\n",
        "              metrics=['accuracy'])\n",
        "ReduceLROnPlateau = tf.keras.callbacks.ReduceLROnPlateau(factor=0.1,\n",
        "                                     min_lr = 0.01,\n",
        "                                     monitor = 'val_loss',\n",
        "                                     verbose = 1)"
      ],
      "metadata": {
        "pycharm": {
          "name": "#%%\n"
        },
        "id": "0u1PyuyFF7et"
      }
    },
    {
      "cell_type": "code",
      "source": [
        "\n",
        "np_tensor = train_input_ids.cpu().numpy()\n",
        "train_input_ids = tf.convert_to_tensor(np_tensor)"
      ],
      "metadata": {
        "id": "F_lCs4xiOh0H",
        "colab": {
          "base_uri": "https://localhost:8080/"
        },
        "outputId": "35f1237e-14e0-47bc-fdfa-bb0da36fa5d0"
      },
      "execution_count": null,
      "outputs": [
        {
          "output_type": "stream",
          "name": "stderr",
          "text": [
            "WARNING:tensorflow:From <ipython-input-53-33037dee3518>:1: _EagerTensorBase.cpu (from tensorflow.python.framework.ops) is deprecated and will be removed in a future version.\n",
            "Instructions for updating:\n",
            "Use tf.identity with explicit device placement instead.\n"
          ]
        }
      ]
    },
    {
      "cell_type": "code",
      "source": [
        "type(train_input_ids)"
      ],
      "metadata": {
        "colab": {
          "base_uri": "https://localhost:8080/"
        },
        "id": "FQibPWc9ONjx",
        "outputId": "3d0957a3-4a45-4d8d-ceb8-44f6e0cbbd96"
      },
      "execution_count": null,
      "outputs": [
        {
          "output_type": "execute_result",
          "data": {
            "text/plain": [
              "tensorflow.python.framework.ops.EagerTensor"
            ]
          },
          "metadata": {},
          "execution_count": 54
        }
      ]
    },
    {
      "cell_type": "code",
      "source": [
        "np_tensor = train_encoded_label_tensors.cpu().numpy()\n",
        "train_encoded_label_tensors = tf.convert_to_tensor(np_tensor)"
      ],
      "metadata": {
        "id": "nXvk7hgVOypq"
      },
      "execution_count": null,
      "outputs": []
    },
    {
      "cell_type": "code",
      "source": [
        "type(train_encoded_label_tensors)"
      ],
      "metadata": {
        "colab": {
          "base_uri": "https://localhost:8080/"
        },
        "id": "5yazLTXoOZoZ",
        "outputId": "2dab0013-9175-43fd-8d35-f3dda7793f59"
      },
      "execution_count": null,
      "outputs": [
        {
          "output_type": "execute_result",
          "data": {
            "text/plain": [
              "tensorflow.python.framework.ops.EagerTensor"
            ]
          },
          "metadata": {},
          "execution_count": 56
        }
      ]
    },
    {
      "cell_type": "code",
      "source": [
        "np_tensor = valid_input_ids.cpu().numpy()\n",
        "valid_input_ids = tf.convert_to_tensor(np_tensor)"
      ],
      "metadata": {
        "id": "S9ZlGfmAO2Jg"
      },
      "execution_count": null,
      "outputs": []
    },
    {
      "cell_type": "code",
      "source": [
        "np_tensor = valid_encoded_label_tensors.cpu().numpy()\n",
        "valid_encoded_label_tensors = tf.convert_to_tensor(np_tensor)"
      ],
      "metadata": {
        "id": "i-3H6PH0O2SM"
      },
      "execution_count": null,
      "outputs": []
    },
    {
      "cell_type": "code",
      "source": [
        "tf.config.run_functions_eagerly(True)"
      ],
      "metadata": {
        "id": "19JXTp-6PUbb"
      },
      "execution_count": null,
      "outputs": []
    },
    {
      "cell_type": "code",
      "execution_count": null,
      "outputs": [
        {
          "output_type": "stream",
          "name": "stdout",
          "text": [
            "Epoch 1/50\n"
          ]
        },
        {
          "output_type": "stream",
          "name": "stderr",
          "text": [
            "/usr/local/lib/python3.10/dist-packages/tensorflow/python/data/ops/structured_function.py:254: UserWarning: Even though the `tf.config.experimental_run_functions_eagerly` option is set, this option does not apply to tf.data functions. To force eager execution of tf.data functions, please use `tf.data.experimental.enable_debug_mode()`.\n",
            "  warnings.warn(\n"
          ]
        },
        {
          "output_type": "stream",
          "name": "stdout",
          "text": [
            "102/102 [==============================] - 8s 78ms/step - loss: 0.6844 - accuracy: 0.8610 - val_loss: 0.6754 - val_accuracy: 0.8611 - lr: 5.0000e-04\n",
            "Epoch 2/50\n",
            "102/102 [==============================] - 11s 103ms/step - loss: 0.6670 - accuracy: 0.8610 - val_loss: 0.6585 - val_accuracy: 0.8611 - lr: 5.0000e-04\n",
            "Epoch 3/50\n",
            "102/102 [==============================] - 7s 67ms/step - loss: 0.6505 - accuracy: 0.8610 - val_loss: 0.6424 - val_accuracy: 0.8611 - lr: 5.0000e-04\n",
            "Epoch 4/50\n",
            "102/102 [==============================] - 8s 80ms/step - loss: 0.6348 - accuracy: 0.8610 - val_loss: 0.6271 - val_accuracy: 0.8611 - lr: 5.0000e-04\n",
            "Epoch 5/50\n",
            "102/102 [==============================] - 8s 75ms/step - loss: 0.6200 - accuracy: 0.8610 - val_loss: 0.6127 - val_accuracy: 0.8611 - lr: 5.0000e-04\n",
            "Epoch 6/50\n",
            "102/102 [==============================] - 10s 96ms/step - loss: 0.6060 - accuracy: 0.8610 - val_loss: 0.5991 - val_accuracy: 0.8611 - lr: 5.0000e-04\n",
            "Epoch 7/50\n",
            "102/102 [==============================] - 7s 66ms/step - loss: 0.5928 - accuracy: 0.8610 - val_loss: 0.5863 - val_accuracy: 0.8611 - lr: 5.0000e-04\n",
            "Epoch 8/50\n",
            "102/102 [==============================] - 8s 76ms/step - loss: 0.5803 - accuracy: 0.8610 - val_loss: 0.5741 - val_accuracy: 0.8611 - lr: 5.0000e-04\n",
            "Epoch 9/50\n",
            "102/102 [==============================] - 6s 64ms/step - loss: 0.5684 - accuracy: 0.8610 - val_loss: 0.5626 - val_accuracy: 0.8611 - lr: 5.0000e-04\n",
            "Epoch 10/50\n",
            "102/102 [==============================] - 11s 109ms/step - loss: 0.5573 - accuracy: 0.8610 - val_loss: 0.5517 - val_accuracy: 0.8611 - lr: 5.0000e-04\n",
            "Epoch 11/50\n",
            "102/102 [==============================] - 7s 73ms/step - loss: 0.5468 - accuracy: 0.8610 - val_loss: 0.5416 - val_accuracy: 0.8611 - lr: 5.0000e-04\n",
            "Epoch 12/50\n",
            "102/102 [==============================] - 7s 73ms/step - loss: 0.5368 - accuracy: 0.8610 - val_loss: 0.5319 - val_accuracy: 0.8611 - lr: 5.0000e-04\n",
            "Epoch 13/50\n",
            "102/102 [==============================] - 7s 72ms/step - loss: 0.5274 - accuracy: 0.8610 - val_loss: 0.5228 - val_accuracy: 0.8611 - lr: 5.0000e-04\n",
            "Epoch 14/50\n",
            "102/102 [==============================] - 9s 91ms/step - loss: 0.5186 - accuracy: 0.8610 - val_loss: 0.5143 - val_accuracy: 0.8611 - lr: 5.0000e-04\n",
            "Epoch 15/50\n",
            "102/102 [==============================] - 11s 112ms/step - loss: 0.5103 - accuracy: 0.8610 - val_loss: 0.5062 - val_accuracy: 0.8611 - lr: 5.0000e-04\n",
            "Epoch 16/50\n",
            "102/102 [==============================] - 8s 83ms/step - loss: 0.5025 - accuracy: 0.8610 - val_loss: 0.4987 - val_accuracy: 0.8611 - lr: 5.0000e-04\n",
            "Epoch 17/50\n",
            "102/102 [==============================] - 8s 81ms/step - loss: 0.4951 - accuracy: 0.8610 - val_loss: 0.4916 - val_accuracy: 0.8611 - lr: 5.0000e-04\n",
            "Epoch 18/50\n",
            "102/102 [==============================] - 10s 102ms/step - loss: 0.4883 - accuracy: 0.8610 - val_loss: 0.4849 - val_accuracy: 0.8611 - lr: 5.0000e-04\n",
            "Epoch 19/50\n",
            "102/102 [==============================] - 7s 66ms/step - loss: 0.4818 - accuracy: 0.8610 - val_loss: 0.4786 - val_accuracy: 0.8611 - lr: 5.0000e-04\n",
            "Epoch 20/50\n",
            "102/102 [==============================] - 8s 76ms/step - loss: 0.4757 - accuracy: 0.8610 - val_loss: 0.4728 - val_accuracy: 0.8611 - lr: 5.0000e-04\n",
            "Epoch 21/50\n",
            "102/102 [==============================] - 6s 63ms/step - loss: 0.4701 - accuracy: 0.8610 - val_loss: 0.4673 - val_accuracy: 0.8611 - lr: 5.0000e-04\n",
            "Epoch 22/50\n",
            "102/102 [==============================] - 8s 79ms/step - loss: 0.4647 - accuracy: 0.8610 - val_loss: 0.4621 - val_accuracy: 0.8611 - lr: 5.0000e-04\n",
            "Epoch 23/50\n",
            "102/102 [==============================] - 6s 63ms/step - loss: 0.4598 - accuracy: 0.8610 - val_loss: 0.4573 - val_accuracy: 0.8611 - lr: 5.0000e-04\n",
            "Epoch 24/50\n",
            "102/102 [==============================] - 8s 78ms/step - loss: 0.4551 - accuracy: 0.8610 - val_loss: 0.4528 - val_accuracy: 0.8611 - lr: 5.0000e-04\n",
            "Epoch 25/50\n",
            "102/102 [==============================] - 7s 66ms/step - loss: 0.4508 - accuracy: 0.8610 - val_loss: 0.4486 - val_accuracy: 0.8611 - lr: 5.0000e-04\n",
            "Epoch 26/50\n",
            "102/102 [==============================] - 8s 80ms/step - loss: 0.4467 - accuracy: 0.8610 - val_loss: 0.4447 - val_accuracy: 0.8611 - lr: 5.0000e-04\n",
            "Epoch 27/50\n",
            "102/102 [==============================] - 7s 64ms/step - loss: 0.4429 - accuracy: 0.8610 - val_loss: 0.4411 - val_accuracy: 0.8611 - lr: 5.0000e-04\n",
            "Epoch 28/50\n",
            "102/102 [==============================] - 8s 80ms/step - loss: 0.4394 - accuracy: 0.8610 - val_loss: 0.4377 - val_accuracy: 0.8611 - lr: 5.0000e-04\n",
            "Epoch 29/50\n",
            "102/102 [==============================] - 7s 67ms/step - loss: 0.4361 - accuracy: 0.8610 - val_loss: 0.4345 - val_accuracy: 0.8611 - lr: 5.0000e-04\n",
            "Epoch 30/50\n",
            "102/102 [==============================] - 8s 79ms/step - loss: 0.4331 - accuracy: 0.8610 - val_loss: 0.4316 - val_accuracy: 0.8611 - lr: 5.0000e-04\n",
            "Epoch 31/50\n",
            "102/102 [==============================] - 7s 65ms/step - loss: 0.4303 - accuracy: 0.8610 - val_loss: 0.4289 - val_accuracy: 0.8611 - lr: 5.0000e-04\n",
            "Epoch 32/50\n",
            "102/102 [==============================] - 10s 100ms/step - loss: 0.4277 - accuracy: 0.8610 - val_loss: 0.4263 - val_accuracy: 0.8611 - lr: 5.0000e-04\n",
            "Epoch 33/50\n",
            "102/102 [==============================] - 9s 88ms/step - loss: 0.4253 - accuracy: 0.8610 - val_loss: 0.4241 - val_accuracy: 0.8611 - lr: 5.0000e-04\n",
            "Epoch 34/50\n",
            "102/102 [==============================] - 7s 73ms/step - loss: 0.4231 - accuracy: 0.8610 - val_loss: 0.4219 - val_accuracy: 0.8611 - lr: 5.0000e-04\n",
            "Epoch 35/50\n",
            "102/102 [==============================] - 7s 72ms/step - loss: 0.4210 - accuracy: 0.8610 - val_loss: 0.4200 - val_accuracy: 0.8611 - lr: 5.0000e-04\n",
            "Epoch 36/50\n",
            "102/102 [==============================] - 7s 71ms/step - loss: 0.4192 - accuracy: 0.8610 - val_loss: 0.4182 - val_accuracy: 0.8611 - lr: 5.0000e-04\n",
            "Epoch 37/50\n",
            "102/102 [==============================] - 7s 72ms/step - loss: 0.4174 - accuracy: 0.8610 - val_loss: 0.4165 - val_accuracy: 0.8611 - lr: 5.0000e-04\n",
            "Epoch 38/50\n",
            "102/102 [==============================] - 7s 72ms/step - loss: 0.4158 - accuracy: 0.8610 - val_loss: 0.4150 - val_accuracy: 0.8611 - lr: 5.0000e-04\n",
            "Epoch 39/50\n",
            "102/102 [==============================] - 9s 87ms/step - loss: 0.4144 - accuracy: 0.8610 - val_loss: 0.4137 - val_accuracy: 0.8611 - lr: 5.0000e-04\n",
            "Epoch 40/50\n",
            "102/102 [==============================] - 7s 67ms/step - loss: 0.4131 - accuracy: 0.8610 - val_loss: 0.4124 - val_accuracy: 0.8611 - lr: 5.0000e-04\n",
            "Epoch 41/50\n",
            "102/102 [==============================] - 8s 79ms/step - loss: 0.4119 - accuracy: 0.8610 - val_loss: 0.4113 - val_accuracy: 0.8611 - lr: 5.0000e-04\n",
            "Epoch 42/50\n",
            "102/102 [==============================] - 7s 65ms/step - loss: 0.4109 - accuracy: 0.8610 - val_loss: 0.4103 - val_accuracy: 0.8611 - lr: 5.0000e-04\n",
            "Epoch 43/50\n",
            "102/102 [==============================] - 8s 82ms/step - loss: 0.4099 - accuracy: 0.8610 - val_loss: 0.4094 - val_accuracy: 0.8611 - lr: 5.0000e-04\n",
            "Epoch 44/50\n",
            "102/102 [==============================] - 6s 63ms/step - loss: 0.4090 - accuracy: 0.8610 - val_loss: 0.4085 - val_accuracy: 0.8611 - lr: 5.0000e-04\n",
            "Epoch 45/50\n",
            "102/102 [==============================] - 8s 76ms/step - loss: 0.4082 - accuracy: 0.8610 - val_loss: 0.4078 - val_accuracy: 0.8611 - lr: 5.0000e-04\n",
            "Epoch 46/50\n",
            "102/102 [==============================] - 7s 69ms/step - loss: 0.4075 - accuracy: 0.8610 - val_loss: 0.4071 - val_accuracy: 0.8611 - lr: 5.0000e-04\n",
            "Epoch 47/50\n",
            "102/102 [==============================] - 8s 79ms/step - loss: 0.4069 - accuracy: 0.8610 - val_loss: 0.4066 - val_accuracy: 0.8611 - lr: 5.0000e-04\n",
            "Epoch 48/50\n",
            "102/102 [==============================] - 7s 65ms/step - loss: 0.4064 - accuracy: 0.8610 - val_loss: 0.4061 - val_accuracy: 0.8611 - lr: 5.0000e-04\n",
            "Epoch 49/50\n",
            "102/102 [==============================] - 8s 77ms/step - loss: 0.4059 - accuracy: 0.8610 - val_loss: 0.4056 - val_accuracy: 0.8611 - lr: 5.0000e-04\n",
            "Epoch 50/50\n",
            "102/102 [==============================] - 7s 64ms/step - loss: 0.4055 - accuracy: 0.8610 - val_loss: 0.4052 - val_accuracy: 0.8611 - lr: 5.0000e-04\n"
          ]
        }
      ],
      "source": [
        "history = model.fit(train_input_ids, train_encoded_label_tensors, batch_size=BATCH_SIZE, epochs=EPOCHS,\n",
        "                    validation_data=(valid_input_ids, valid_encoded_label_tensors), callbacks=[ReduceLROnPlateau])"
      ],
      "metadata": {
        "pycharm": {
          "name": "#%%\n"
        },
        "id": "l8ctEec1F7eu",
        "outputId": "180dd0bc-59c8-44d2-f797-3f046d467a64",
        "colab": {
          "base_uri": "https://localhost:8080/"
        }
      }
    },
    {
      "cell_type": "code",
      "execution_count": null,
      "outputs": [
        {
          "output_type": "execute_result",
          "data": {
            "text/plain": [
              "<matplotlib.legend.Legend at 0x7f90ee154910>"
            ]
          },
          "metadata": {},
          "execution_count": 61
        },
        {
          "output_type": "display_data",
          "data": {
            "text/plain": [
              "<Figure size 640x480 with 2 Axes>"
            ],
            "image/png": "[encoded data removed]"
          },
          "metadata": {}
        }
      ],
      "source": [
        "s, (at, al) = plt.subplots(2,1)\n",
        "at.plot(history.history['accuracy'], c= 'b')\n",
        "at.plot(history.history['val_accuracy'], c='r')\n",
        "at.set_title('model accuracy')\n",
        "at.set_ylabel('accuracy')\n",
        "at.set_xlabel('epoch')\n",
        "at.legend(['LSTM_train', 'LSTM_val'], loc='upper left')\n",
        "\n",
        "al.plot(history.history['loss'], c='m')\n",
        "al.plot(history.history['val_loss'], c='c')\n",
        "al.set_title('model loss')\n",
        "al.set_ylabel('loss')\n",
        "al.set_xlabel('epoch')\n",
        "al.legend(['train', 'val'], loc = 'upper left')"
      ],
      "metadata": {
        "pycharm": {
          "name": "#%%\n"
        },
        "id": "TET4gdQxF7eu",
        "outputId": "cba5b0ff-1d7b-4adb-8a5a-7a5eb584d7a0",
        "colab": {
          "base_uri": "https://localhost:8080/"
        }
      }
    },
    {
      "cell_type": "code",
      "source": [
        "test_sent_index, test_input_ids, test_attention_masks, test_encoded_label_tensors = encoder_generator(test_sentences,encoded_test_labels)"
      ],
      "metadata": {
        "id": "cI6za873RdXR"
      },
      "execution_count": null,
      "outputs": []
    },
    {
      "cell_type": "code",
      "source": [
        "np_tensor = test_encoded_label_tensors.cpu().numpy()\n",
        "test_encoded_label_tensors = tf.convert_to_tensor(np_tensor)"
      ],
      "metadata": {
        "id": "w79okG5rSsYj"
      },
      "execution_count": null,
      "outputs": []
    },
    {
      "cell_type": "code",
      "source": [
        "np_tensor = test_input_ids.cpu().numpy()\n",
        "test_input_ids = tf.convert_to_tensor(np_tensor)"
      ],
      "metadata": {
        "id": "bzoRQKf1RfKT"
      },
      "execution_count": null,
      "outputs": []
    },
    {
      "cell_type": "code",
      "execution_count": null,
      "outputs": [
        {
          "output_type": "stream",
          "name": "stdout",
          "text": [
            "1/1 [==============================] - 0s 87ms/step\n"
          ]
        }
      ],
      "source": [
        "def decode_sentiment(score):\n",
        "    return 1 if score>0.5 else 0\n",
        "\n",
        "\n",
        "scores = model.predict(test_input_ids, verbose=1, batch_size=10000)\n",
        "y_pred_1d = [decode_sentiment(score) for score in scores]"
      ],
      "metadata": {
        "pycharm": {
          "name": "#%%\n"
        },
        "id": "wt-2ybToF7eu",
        "outputId": "eeb5cc42-6aaa-44e4-b323-7bf9533a9dd8",
        "colab": {
          "base_uri": "https://localhost:8080/"
        }
      }
    },
    {
      "cell_type": "code",
      "execution_count": null,
      "outputs": [],
      "source": [
        "def plot_confusion_matrix(cm, classes,\n",
        "                          title='Confusion matrix',\n",
        "                          cmap=plt.cm.Blues):\n",
        "    \"\"\"\n",
        "    This function prints and plots the confusion matrix.\n",
        "    Normalization can be applied by setting `normalize=True`.\n",
        "    \"\"\"\n",
        "\n",
        "    cm = cm.astype('float') / cm.sum(axis=1)[:, np.newaxis]\n",
        "\n",
        "    plt.imshow(cm, interpolation='nearest', cmap=cmap)\n",
        "    plt.title(title, fontsize=20)\n",
        "    plt.colorbar()\n",
        "    tick_marks = np.arange(len(classes))\n",
        "    plt.xticks(tick_marks, classes, fontsize=13)\n",
        "    plt.yticks(tick_marks, classes, fontsize=13)\n",
        "\n",
        "    fmt = '.2f'\n",
        "    thresh = cm.max() / 2.\n",
        "    for i, j in itertools.product(range(cm.shape[0]), range(cm.shape[1])):\n",
        "        plt.text(j, i, format(cm[i, j], fmt),\n",
        "                 horizontalalignment=\"center\",\n",
        "                 color=\"white\" if cm[i, j] > thresh else \"black\")\n",
        "\n",
        "    plt.ylabel('True label', fontsize=17)\n",
        "    plt.xlabel('Predicted label', fontsize=17)"
      ],
      "metadata": {
        "pycharm": {
          "name": "#%%\n"
        },
        "id": "rBgsnbhWF7eu"
      }
    },
    {
      "cell_type": "code",
      "source": [],
      "metadata": {
        "id": "g6Iz7m74R8zX"
      },
      "execution_count": null,
      "outputs": []
    },
    {
      "cell_type": "code",
      "execution_count": null,
      "outputs": [
        {
          "output_type": "display_data",
          "data": {
            "text/plain": [
              "<Figure size 600x600 with 2 Axes>"
            ],
            "image/png": "[encoded data removed]"
          },
          "metadata": {}
        }
      ],
      "source": [
        "cnf_matrix = confusion_matrix(test_encoded_label_tensors, y_pred_1d)\n",
        "plt.figure(figsize=(6,6))\n",
        "plot_confusion_matrix(cnf_matrix, classes=df_test.label.unique(), title=\"Confusion matrix\")\n",
        "plt.show()"
      ],
      "metadata": {
        "pycharm": {
          "name": "#%%\n"
        },
        "id": "CJSKeUjaF7eu",
        "outputId": "b74a1073-39a5-4a1b-c172-c39d014ff092",
        "colab": {
          "base_uri": "https://localhost:8080/",
          "height": 516
        }
      }
    },
    {
      "cell_type": "code",
      "execution_count": null,
      "outputs": [
        {
          "output_type": "stream",
          "name": "stdout",
          "text": [
            "              precision    recall  f1-score   support\n",
            "\n",
            "           0     0.8611    1.0000    0.9253      2727\n",
            "           1     0.0000    0.0000    0.0000       440\n",
            "\n",
            "    accuracy                         0.8611      3167\n",
            "   macro avg     0.4305    0.5000    0.4627      3167\n",
            "weighted avg     0.7414    0.8611    0.7968      3167\n",
            "\n"
          ]
        },
        {
          "output_type": "stream",
          "name": "stderr",
          "text": [
            "/usr/local/lib/python3.10/dist-packages/sklearn/metrics/_classification.py:1344: UndefinedMetricWarning: Precision and F-score are ill-defined and being set to 0.0 in labels with no predicted samples. Use `zero_division` parameter to control this behavior.\n",
            "  _warn_prf(average, modifier, msg_start, len(result))\n",
            "/usr/local/lib/python3.10/dist-packages/sklearn/metrics/_classification.py:1344: UndefinedMetricWarning: Precision and F-score are ill-defined and being set to 0.0 in labels with no predicted samples. Use `zero_division` parameter to control this behavior.\n",
            "  _warn_prf(average, modifier, msg_start, len(result))\n",
            "/usr/local/lib/python3.10/dist-packages/sklearn/metrics/_classification.py:1344: UndefinedMetricWarning: Precision and F-score are ill-defined and being set to 0.0 in labels with no predicted samples. Use `zero_division` parameter to control this behavior.\n",
            "  _warn_prf(average, modifier, msg_start, len(result))\n"
          ]
        }
      ],
      "source": [
        "print(classification_report(list(test_encoded_label_tensors), y_pred_1d,digits=4))"
      ],
      "metadata": {
        "pycharm": {
          "name": "#%%\n"
        },
        "id": "j5GrUNTSF7ev",
        "outputId": "b602e7dd-3f0e-4a19-979e-86e06077530e",
        "colab": {
          "base_uri": "https://localhost:8080/"
        }
      }
    },
    {
      "cell_type": "code",
      "execution_count": null,
      "outputs": [],
      "source": [
        "def create_model(num_dense_units, vocab_size, embedding_dim, maxlen, lr):\n",
        "    embedding_layer = tf.keras.layers.Embedding(vocab_size,\n",
        "                                              embedding_dim,\n",
        "                                              weights=[embedding_matrix],\n",
        "                                              input_length=maxlen,\n",
        "                                              trainable=False)\n",
        "    sequence_input = Input(shape=(maxlen,), dtype='int32')\n",
        "    embedding_sequences = embedding_layer(sequence_input)\n",
        "    x = LSTM(64)(embedding_sequences)\n",
        "    x = Dense(256,name='FC1')(x)\n",
        "    x = Dense(num_dense_units, activation='relu')(x)\n",
        "    x = Dropout(0.5)(x)\n",
        "    x = Dense(num_dense_units, activation='relu')(x)\n",
        "    outputs = Dense(1, activation='sigmoid')(x)\n",
        "    model = tf.keras.Model(sequence_input, outputs)\n",
        "    model.compile(optimizer=Adam(learning_rate=lr), loss='binary_crossentropy',\n",
        "                  metrics=['accuracy'])\n",
        "    return model"
      ],
      "metadata": {
        "pycharm": {
          "name": "#%%\n"
        },
        "id": "3N9IL2_mF7ev"
      }
    },
    {
      "cell_type": "code",
      "execution_count": null,
      "outputs": [],
      "source": [
        "param_grid = dict(num_dense_units=[32, 64, 128, 256, 512],\n",
        "                  vocab_size=[vocab_size],\n",
        "                  embedding_dim=[EMBEDDING_DIM],\n",
        "                  maxlen=[MAX_SEQUENCE_LENGTH],\n",
        "                  lr = [2e-3, 3e-3, 4e-3])"
      ],
      "metadata": {
        "pycharm": {
          "name": "#%%\n"
        },
        "id": "cHzQucVHF7ev"
      }
    },
    {
      "cell_type": "code",
      "execution_count": null,
      "outputs": [
        {
          "output_type": "stream",
          "name": "stderr",
          "text": [
            "<ipython-input-71-a5792fbfa6b2>:1: DeprecationWarning: KerasClassifier is deprecated, use Sci-Keras (https://github.com/adriangb/scikeras) instead. See https://www.adriangb.com/scikeras/stable/migration.html for help migrating.\n",
            "  model = KerasClassifier(build_fn=create_model,\n"
          ]
        },
        {
          "output_type": "error",
          "ename": "ValueError",
          "evalue": "ignored",
          "traceback": [
            "\u001b[0;31m---------------------------------------------------------------------------\u001b[0m",
            "\u001b[0;31mValueError\u001b[0m                                Traceback (most recent call last)",
            "\u001b[0;32m<ipython-input-71-a5792fbfa6b2>\u001b[0m in \u001b[0;36m<cell line: 6>\u001b[0;34m()\u001b[0m\n\u001b[1;32m      4\u001b[0m grid = RandomizedSearchCV(estimator=model, param_distributions=param_grid,\n\u001b[1;32m      5\u001b[0m                               cv=4, verbose=1, n_iter=5)\n\u001b[0;32m----> 6\u001b[0;31m \u001b[0mgrid_result\u001b[0m \u001b[0;34m=\u001b[0m \u001b[0mgrid\u001b[0m\u001b[0;34m.\u001b[0m\u001b[0mfit\u001b[0m\u001b[0;34m(\u001b[0m\u001b[0mx_train\u001b[0m\u001b[0;34m,\u001b[0m \u001b[0my_train\u001b[0m\u001b[0;34m)\u001b[0m\u001b[0;34m\u001b[0m\u001b[0;34m\u001b[0m\u001b[0m\n\u001b[0m\u001b[1;32m      7\u001b[0m \u001b[0;34m\u001b[0m\u001b[0m\n\u001b[1;32m      8\u001b[0m \u001b[0;31m# Evaluate testing set\u001b[0m\u001b[0;34m\u001b[0m\u001b[0;34m\u001b[0m\u001b[0m\n",
            "\u001b[0;32m/usr/local/lib/python3.10/dist-packages/sklearn/model_selection/_search.py\u001b[0m in \u001b[0;36mfit\u001b[0;34m(self, X, y, groups, **fit_params)\u001b[0m\n\u001b[1;32m    780\u001b[0m             \u001b[0mrefit_metric\u001b[0m \u001b[0;34m=\u001b[0m \u001b[0mself\u001b[0m\u001b[0;34m.\u001b[0m\u001b[0mrefit\u001b[0m\u001b[0;34m\u001b[0m\u001b[0;34m\u001b[0m\u001b[0m\n\u001b[1;32m    781\u001b[0m \u001b[0;34m\u001b[0m\u001b[0m\n\u001b[0;32m--> 782\u001b[0;31m         \u001b[0mX\u001b[0m\u001b[0;34m,\u001b[0m \u001b[0my\u001b[0m\u001b[0;34m,\u001b[0m \u001b[0mgroups\u001b[0m \u001b[0;34m=\u001b[0m \u001b[0mindexable\u001b[0m\u001b[0;34m(\u001b[0m\u001b[0mX\u001b[0m\u001b[0;34m,\u001b[0m \u001b[0my\u001b[0m\u001b[0;34m,\u001b[0m \u001b[0mgroups\u001b[0m\u001b[0;34m)\u001b[0m\u001b[0;34m\u001b[0m\u001b[0;34m\u001b[0m\u001b[0m\n\u001b[0m\u001b[1;32m    783\u001b[0m         \u001b[0mfit_params\u001b[0m \u001b[0;34m=\u001b[0m \u001b[0m_check_fit_params\u001b[0m\u001b[0;34m(\u001b[0m\u001b[0mX\u001b[0m\u001b[0;34m,\u001b[0m \u001b[0mfit_params\u001b[0m\u001b[0;34m)\u001b[0m\u001b[0;34m\u001b[0m\u001b[0;34m\u001b[0m\u001b[0m\n\u001b[1;32m    784\u001b[0m \u001b[0;34m\u001b[0m\u001b[0m\n",
            "\u001b[0;32m/usr/local/lib/python3.10/dist-packages/sklearn/utils/validation.py\u001b[0m in \u001b[0;36mindexable\u001b[0;34m(*iterables)\u001b[0m\n\u001b[1;32m    441\u001b[0m \u001b[0;34m\u001b[0m\u001b[0m\n\u001b[1;32m    442\u001b[0m     \u001b[0mresult\u001b[0m \u001b[0;34m=\u001b[0m \u001b[0;34m[\u001b[0m\u001b[0m_make_indexable\u001b[0m\u001b[0;34m(\u001b[0m\u001b[0mX\u001b[0m\u001b[0;34m)\u001b[0m \u001b[0;32mfor\u001b[0m \u001b[0mX\u001b[0m \u001b[0;32min\u001b[0m \u001b[0miterables\u001b[0m\u001b[0;34m]\u001b[0m\u001b[0;34m\u001b[0m\u001b[0;34m\u001b[0m\u001b[0m\n\u001b[0;32m--> 443\u001b[0;31m     \u001b[0mcheck_consistent_length\u001b[0m\u001b[0;34m(\u001b[0m\u001b[0;34m*\u001b[0m\u001b[0mresult\u001b[0m\u001b[0;34m)\u001b[0m\u001b[0;34m\u001b[0m\u001b[0;34m\u001b[0m\u001b[0m\n\u001b[0m\u001b[1;32m    444\u001b[0m     \u001b[0;32mreturn\u001b[0m \u001b[0mresult\u001b[0m\u001b[0;34m\u001b[0m\u001b[0;34m\u001b[0m\u001b[0m\n\u001b[1;32m    445\u001b[0m \u001b[0;34m\u001b[0m\u001b[0m\n",
            "\u001b[0;32m/usr/local/lib/python3.10/dist-packages/sklearn/utils/validation.py\u001b[0m in \u001b[0;36mcheck_consistent_length\u001b[0;34m(*arrays)\u001b[0m\n\u001b[1;32m    395\u001b[0m     \u001b[0muniques\u001b[0m \u001b[0;34m=\u001b[0m \u001b[0mnp\u001b[0m\u001b[0;34m.\u001b[0m\u001b[0munique\u001b[0m\u001b[0;34m(\u001b[0m\u001b[0mlengths\u001b[0m\u001b[0;34m)\u001b[0m\u001b[0;34m\u001b[0m\u001b[0;34m\u001b[0m\u001b[0m\n\u001b[1;32m    396\u001b[0m     \u001b[0;32mif\u001b[0m \u001b[0mlen\u001b[0m\u001b[0;34m(\u001b[0m\u001b[0muniques\u001b[0m\u001b[0;34m)\u001b[0m \u001b[0;34m>\u001b[0m \u001b[0;36m1\u001b[0m\u001b[0;34m:\u001b[0m\u001b[0;34m\u001b[0m\u001b[0;34m\u001b[0m\u001b[0m\n\u001b[0;32m--> 397\u001b[0;31m         raise ValueError(\n\u001b[0m\u001b[1;32m    398\u001b[0m             \u001b[0;34m\"Found input variables with inconsistent numbers of samples: %r\"\u001b[0m\u001b[0;34m\u001b[0m\u001b[0;34m\u001b[0m\u001b[0m\n\u001b[1;32m    399\u001b[0m             \u001b[0;34m%\u001b[0m \u001b[0;34m[\u001b[0m\u001b[0mint\u001b[0m\u001b[0;34m(\u001b[0m\u001b[0ml\u001b[0m\u001b[0;34m)\u001b[0m \u001b[0;32mfor\u001b[0m \u001b[0ml\u001b[0m \u001b[0;32min\u001b[0m \u001b[0mlengths\u001b[0m\u001b[0;34m]\u001b[0m\u001b[0;34m\u001b[0m\u001b[0;34m\u001b[0m\u001b[0m\n",
            "\u001b[0;31mValueError\u001b[0m: Found input variables with inconsistent numbers of samples: [10763, 10133]"
          ]
        }
      ],
      "source": [
        "model = KerasClassifier(build_fn=create_model,\n",
        "                            epochs=EPOCHS, batch_size=BATCH_SIZE,\n",
        "                            verbose=False)\n",
        "grid = RandomizedSearchCV(estimator=model, param_distributions=param_grid,\n",
        "                              cv=4, verbose=1, n_iter=5)\n",
        "grid_result = grid.fit(x_train, y_train)\n",
        "\n",
        "# Evaluate testing set\n",
        "test_accuracy = grid.score(x_test, y_test)\n",
        "\n",
        "print(f'Best accuracy: {grid_result.best_score_}')\n",
        "print(f'Params: {grid_result.best_params_}')\n",
        "print(f'Test accuracy: {test_accuracy}')"
      ],
      "metadata": {
        "pycharm": {
          "name": "#%%\n"
        },
        "id": "usDPpiLQF7ev",
        "colab": {
          "base_uri": "https://localhost:8080/",
          "height": 453
        },
        "outputId": "5c4b3333-ae83-45f2-ced2-f74c94f7065f"
      }
    }
  ],
  "metadata": {
    "kernelspec": {
      "display_name": "Python 3",
      "name": "python3"
    },
    "language_info": {
      "codemirror_mode": {
        "name": "ipython",
        "version": 2
      },
      "file_extension": ".py",
      "mimetype": "text/x-python",
      "name": "python",
      "nbconvert_exporter": "python",
      "pygments_lexer": "ipython2",
      "version": "2.7.6"
    },
    "colab": {
      "provenance": [],
      "gpuType": "T4"
    },
    "accelerator": "GPU",
    "widgets": {
      "application/vnd.jupyter.widget-state+json": {
        "3d5109feb0ae4c9b843ef51cecf35d82": {
          "model_module": "@jupyter-widgets/controls",
          "model_name": "HBoxModel",
          "model_module_version": "1.5.0",
          "state": {
            "_dom_classes": [],
            "_model_module": "@jupyter-widgets/controls",
            "_model_module_version": "1.5.0",
            "_model_name": "HBoxModel",
            "_view_count": null,
            "_view_module": "@jupyter-widgets/controls",
            "_view_module_version": "1.5.0",
            "_view_name": "HBoxView",
            "box_style": "",
            "children": [
              "IPY_MODEL_386138ea934444e1a6b14b33d48ee492",
              "IPY_MODEL_f063c12fb701433492e6548528ac3a71",
              "IPY_MODEL_4a8085814f6b4807b3402fe8c897dd7a"
            ],
            "layout": "IPY_MODEL_4ab20043a076462198b8894535295463"
          }
        },
        "386138ea934444e1a6b14b33d48ee492": {
          "model_module": "@jupyter-widgets/controls",
          "model_name": "HTMLModel",
          "model_module_version": "1.5.0",
          "state": {
            "_dom_classes": [],
            "_model_module": "@jupyter-widgets/controls",
            "_model_module_version": "1.5.0",
            "_model_name": "HTMLModel",
            "_view_count": null,
            "_view_module": "@jupyter-widgets/controls",
            "_view_module_version": "1.5.0",
            "_view_name": "HTMLView",
            "description": "",
            "description_tooltip": null,
            "layout": "IPY_MODEL_4bac03b51c4a40e8b1d6ae578364ef41",
            "placeholder": "​",
            "style": "IPY_MODEL_e3d53ad5de4744dd96e9f6bc104864ac",
            "value": "Downloading (…)okenizer_config.json: 100%"
          }
        },
        "f063c12fb701433492e6548528ac3a71": {
          "model_module": "@jupyter-widgets/controls",
          "model_name": "FloatProgressModel",
          "model_module_version": "1.5.0",
          "state": {
            "_dom_classes": [],
            "_model_module": "@jupyter-widgets/controls",
            "_model_module_version": "1.5.0",
            "_model_name": "FloatProgressModel",
            "_view_count": null,
            "_view_module": "@jupyter-widgets/controls",
            "_view_module_version": "1.5.0",
            "_view_name": "ProgressView",
            "bar_style": "success",
            "description": "",
            "description_tooltip": null,
            "layout": "IPY_MODEL_1b553d877a2544fe8ac67a5b78e786d7",
            "max": 364,
            "min": 0,
            "orientation": "horizontal",
            "style": "IPY_MODEL_2ece3e43841348a8ad606414b4241ed7",
            "value": 364
          }
        },
        "4a8085814f6b4807b3402fe8c897dd7a": {
          "model_module": "@jupyter-widgets/controls",
          "model_name": "HTMLModel",
          "model_module_version": "1.5.0",
          "state": {
            "_dom_classes": [],
            "_model_module": "@jupyter-widgets/controls",
            "_model_module_version": "1.5.0",
            "_model_name": "HTMLModel",
            "_view_count": null,
            "_view_module": "@jupyter-widgets/controls",
            "_view_module_version": "1.5.0",
            "_view_name": "HTMLView",
            "description": "",
            "description_tooltip": null,
            "layout": "IPY_MODEL_378bc3279032480f9355b49838430a7c",
            "placeholder": "​",
            "style": "IPY_MODEL_0a66d082ea94489081dae0748ba43f5b",
            "value": " 364/364 [00:00&lt;00:00, 4.64kB/s]"
          }
        },
        "4ab20043a076462198b8894535295463": {
          "model_module": "@jupyter-widgets/base",
          "model_name": "LayoutModel",
          "model_module_version": "1.2.0",
          "state": {
            "_model_module": "@jupyter-widgets/base",
            "_model_module_version": "1.2.0",
            "_model_name": "LayoutModel",
            "_view_count": null,
            "_view_module": "@jupyter-widgets/base",
            "_view_module_version": "1.2.0",
            "_view_name": "LayoutView",
            "align_content": null,
            "align_items": null,
            "align_self": null,
            "border": null,
            "bottom": null,
            "display": null,
            "flex": null,
            "flex_flow": null,
            "grid_area": null,
            "grid_auto_columns": null,
            "grid_auto_flow": null,
            "grid_auto_rows": null,
            "grid_column": null,
            "grid_gap": null,
            "grid_row": null,
            "grid_template_areas": null,
            "grid_template_columns": null,
            "grid_template_rows": null,
            "height": null,
            "justify_content": null,
            "justify_items": null,
            "left": null,
            "margin": null,
            "max_height": null,
            "max_width": null,
            "min_height": null,
            "min_width": null,
            "object_fit": null,
            "object_position": null,
            "order": null,
            "overflow": null,
            "overflow_x": null,
            "overflow_y": null,
            "padding": null,
            "right": null,
            "top": null,
            "visibility": null,
            "width": null
          }
        },
        "4bac03b51c4a40e8b1d6ae578364ef41": {
          "model_module": "@jupyter-widgets/base",
          "model_name": "LayoutModel",
          "model_module_version": "1.2.0",
          "state": {
            "_model_module": "@jupyter-widgets/base",
            "_model_module_version": "1.2.0",
            "_model_name": "LayoutModel",
            "_view_count": null,
            "_view_module": "@jupyter-widgets/base",
            "_view_module_version": "1.2.0",
            "_view_name": "LayoutView",
            "align_content": null,
            "align_items": null,
            "align_self": null,
            "border": null,
            "bottom": null,
            "display": null,
            "flex": null,
            "flex_flow": null,
            "grid_area": null,
            "grid_auto_columns": null,
            "grid_auto_flow": null,
            "grid_auto_rows": null,
            "grid_column": null,
            "grid_gap": null,
            "grid_row": null,
            "grid_template_areas": null,
            "grid_template_columns": null,
            "grid_template_rows": null,
            "height": null,
            "justify_content": null,
            "justify_items": null,
            "left": null,
            "margin": null,
            "max_height": null,
            "max_width": null,
            "min_height": null,
            "min_width": null,
            "object_fit": null,
            "object_position": null,
            "order": null,
            "overflow": null,
            "overflow_x": null,
            "overflow_y": null,
            "padding": null,
            "right": null,
            "top": null,
            "visibility": null,
            "width": null
          }
        },
        "e3d53ad5de4744dd96e9f6bc104864ac": {
          "model_module": "@jupyter-widgets/controls",
          "model_name": "DescriptionStyleModel",
          "model_module_version": "1.5.0",
          "state": {
            "_model_module": "@jupyter-widgets/controls",
            "_model_module_version": "1.5.0",
            "_model_name": "DescriptionStyleModel",
            "_view_count": null,
            "_view_module": "@jupyter-widgets/base",
            "_view_module_version": "1.2.0",
            "_view_name": "StyleView",
            "description_width": ""
          }
        },
        "1b553d877a2544fe8ac67a5b78e786d7": {
          "model_module": "@jupyter-widgets/base",
          "model_name": "LayoutModel",
          "model_module_version": "1.2.0",
          "state": {
            "_model_module": "@jupyter-widgets/base",
            "_model_module_version": "1.2.0",
            "_model_name": "LayoutModel",
            "_view_count": null,
            "_view_module": "@jupyter-widgets/base",
            "_view_module_version": "1.2.0",
            "_view_name": "LayoutView",
            "align_content": null,
            "align_items": null,
            "align_self": null,
            "border": null,
            "bottom": null,
            "display": null,
            "flex": null,
            "flex_flow": null,
            "grid_area": null,
            "grid_auto_columns": null,
            "grid_auto_flow": null,
            "grid_auto_rows": null,
            "grid_column": null,
            "grid_gap": null,
            "grid_row": null,
            "grid_template_areas": null,
            "grid_template_columns": null,
            "grid_template_rows": null,
            "height": null,
            "justify_content": null,
            "justify_items": null,
            "left": null,
            "margin": null,
            "max_height": null,
            "max_width": null,
            "min_height": null,
            "min_width": null,
            "object_fit": null,
            "object_position": null,
            "order": null,
            "overflow": null,
            "overflow_x": null,
            "overflow_y": null,
            "padding": null,
            "right": null,
            "top": null,
            "visibility": null,
            "width": null
          }
        },
        "2ece3e43841348a8ad606414b4241ed7": {
          "model_module": "@jupyter-widgets/controls",
          "model_name": "ProgressStyleModel",
          "model_module_version": "1.5.0",
          "state": {
            "_model_module": "@jupyter-widgets/controls",
            "_model_module_version": "1.5.0",
            "_model_name": "ProgressStyleModel",
            "_view_count": null,
            "_view_module": "@jupyter-widgets/base",
            "_view_module_version": "1.2.0",
            "_view_name": "StyleView",
            "bar_color": null,
            "description_width": ""
          }
        },
        "378bc3279032480f9355b49838430a7c": {
          "model_module": "@jupyter-widgets/base",
          "model_name": "LayoutModel",
          "model_module_version": "1.2.0",
          "state": {
            "_model_module": "@jupyter-widgets/base",
            "_model_module_version": "1.2.0",
            "_model_name": "LayoutModel",
            "_view_count": null,
            "_view_module": "@jupyter-widgets/base",
            "_view_module_version": "1.2.0",
            "_view_name": "LayoutView",
            "align_content": null,
            "align_items": null,
            "align_self": null,
            "border": null,
            "bottom": null,
            "display": null,
            "flex": null,
            "flex_flow": null,
            "grid_area": null,
            "grid_auto_columns": null,
            "grid_auto_flow": null,
            "grid_auto_rows": null,
            "grid_column": null,
            "grid_gap": null,
            "grid_row": null,
            "grid_template_areas": null,
            "grid_template_columns": null,
            "grid_template_rows": null,
            "height": null,
            "justify_content": null,
            "justify_items": null,
            "left": null,
            "margin": null,
            "max_height": null,
            "max_width": null,
            "min_height": null,
            "min_width": null,
            "object_fit": null,
            "object_position": null,
            "order": null,
            "overflow": null,
            "overflow_x": null,
            "overflow_y": null,
            "padding": null,
            "right": null,
            "top": null,
            "visibility": null,
            "width": null
          }
        },
        "0a66d082ea94489081dae0748ba43f5b": {
          "model_module": "@jupyter-widgets/controls",
          "model_name": "DescriptionStyleModel",
          "model_module_version": "1.5.0",
          "state": {
            "_model_module": "@jupyter-widgets/controls",
            "_model_module_version": "1.5.0",
            "_model_name": "DescriptionStyleModel",
            "_view_count": null,
            "_view_module": "@jupyter-widgets/base",
            "_view_module_version": "1.2.0",
            "_view_name": "StyleView",
            "description_width": ""
          }
        },
        "fbafff4efc8c4e0ca4fa196ff4b883b1": {
          "model_module": "@jupyter-widgets/controls",
          "model_name": "HBoxModel",
          "model_module_version": "1.5.0",
          "state": {
            "_dom_classes": [],
            "_model_module": "@jupyter-widgets/controls",
            "_model_module_version": "1.5.0",
            "_model_name": "HBoxModel",
            "_view_count": null,
            "_view_module": "@jupyter-widgets/controls",
            "_view_module_version": "1.5.0",
            "_view_name": "HBoxView",
            "box_style": "",
            "children": [
              "IPY_MODEL_fc4ca7ab5e514bc0ae6f32f6144da951",
              "IPY_MODEL_33f08c0f083f46599fc75a121be0fd95",
              "IPY_MODEL_123da90783e6449c8517d587a1f67854"
            ],
            "layout": "IPY_MODEL_10e6c5f749d14d18a198c0930d5fe3cf"
          }
        },
        "fc4ca7ab5e514bc0ae6f32f6144da951": {
          "model_module": "@jupyter-widgets/controls",
          "model_name": "HTMLModel",
          "model_module_version": "1.5.0",
          "state": {
            "_dom_classes": [],
            "_model_module": "@jupyter-widgets/controls",
            "_model_module_version": "1.5.0",
            "_model_name": "HTMLModel",
            "_view_count": null,
            "_view_module": "@jupyter-widgets/controls",
            "_view_module_version": "1.5.0",
            "_view_name": "HTMLView",
            "description": "",
            "description_tooltip": null,
            "layout": "IPY_MODEL_3b72c8c890f1425eb9c259a4b56e368a",
            "placeholder": "​",
            "style": "IPY_MODEL_161cdaef318a43849442c8b6a2826149",
            "value": "Downloading (…)lve/main/config.json: 100%"
          }
        },
        "33f08c0f083f46599fc75a121be0fd95": {
          "model_module": "@jupyter-widgets/controls",
          "model_name": "FloatProgressModel",
          "model_module_version": "1.5.0",
          "state": {
            "_dom_classes": [],
            "_model_module": "@jupyter-widgets/controls",
            "_model_module_version": "1.5.0",
            "_model_name": "FloatProgressModel",
            "_view_count": null,
            "_view_module": "@jupyter-widgets/controls",
            "_view_module_version": "1.5.0",
            "_view_name": "ProgressView",
            "bar_style": "success",
            "description": "",
            "description_tooltip": null,
            "layout": "IPY_MODEL_2dac342e112049aaa0048aaa45b3ebf9",
            "max": 648,
            "min": 0,
            "orientation": "horizontal",
            "style": "IPY_MODEL_b7bc62298f4f492784d36f48e7a73d38",
            "value": 648
          }
        },
        "123da90783e6449c8517d587a1f67854": {
          "model_module": "@jupyter-widgets/controls",
          "model_name": "HTMLModel",
          "model_module_version": "1.5.0",
          "state": {
            "_dom_classes": [],
            "_model_module": "@jupyter-widgets/controls",
            "_model_module_version": "1.5.0",
            "_model_name": "HTMLModel",
            "_view_count": null,
            "_view_module": "@jupyter-widgets/controls",
            "_view_module_version": "1.5.0",
            "_view_name": "HTMLView",
            "description": "",
            "description_tooltip": null,
            "layout": "IPY_MODEL_23986c42d2574490aa6b9101ebc7bd13",
            "placeholder": "​",
            "style": "IPY_MODEL_cb3ae1ecae804b38bf16bbb90485a152",
            "value": " 648/648 [00:00&lt;00:00, 20.6kB/s]"
          }
        },
        "10e6c5f749d14d18a198c0930d5fe3cf": {
          "model_module": "@jupyter-widgets/base",
          "model_name": "LayoutModel",
          "model_module_version": "1.2.0",
          "state": {
            "_model_module": "@jupyter-widgets/base",
            "_model_module_version": "1.2.0",
            "_model_name": "LayoutModel",
            "_view_count": null,
            "_view_module": "@jupyter-widgets/base",
            "_view_module_version": "1.2.0",
            "_view_name": "LayoutView",
            "align_content": null,
            "align_items": null,
            "align_self": null,
            "border": null,
            "bottom": null,
            "display": null,
            "flex": null,
            "flex_flow": null,
            "grid_area": null,
            "grid_auto_columns": null,
            "grid_auto_flow": null,
            "grid_auto_rows": null,
            "grid_column": null,
            "grid_gap": null,
            "grid_row": null,
            "grid_template_areas": null,
            "grid_template_columns": null,
            "grid_template_rows": null,
            "height": null,
            "justify_content": null,
            "justify_items": null,
            "left": null,
            "margin": null,
            "max_height": null,
            "max_width": null,
            "min_height": null,
            "min_width": null,
            "object_fit": null,
            "object_position": null,
            "order": null,
            "overflow": null,
            "overflow_x": null,
            "overflow_y": null,
            "padding": null,
            "right": null,
            "top": null,
            "visibility": null,
            "width": null
          }
        },
        "3b72c8c890f1425eb9c259a4b56e368a": {
          "model_module": "@jupyter-widgets/base",
          "model_name": "LayoutModel",
          "model_module_version": "1.2.0",
          "state": {
            "_model_module": "@jupyter-widgets/base",
            "_model_module_version": "1.2.0",
            "_model_name": "LayoutModel",
            "_view_count": null,
            "_view_module": "@jupyter-widgets/base",
            "_view_module_version": "1.2.0",
            "_view_name": "LayoutView",
            "align_content": null,
            "align_items": null,
            "align_self": null,
            "border": null,
            "bottom": null,
            "display": null,
            "flex": null,
            "flex_flow": null,
            "grid_area": null,
            "grid_auto_columns": null,
            "grid_auto_flow": null,
            "grid_auto_rows": null,
            "grid_column": null,
            "grid_gap": null,
            "grid_row": null,
            "grid_template_areas": null,
            "grid_template_columns": null,
            "grid_template_rows": null,
            "height": null,
            "justify_content": null,
            "justify_items": null,
            "left": null,
            "margin": null,
            "max_height": null,
            "max_width": null,
            "min_height": null,
            "min_width": null,
            "object_fit": null,
            "object_position": null,
            "order": null,
            "overflow": null,
            "overflow_x": null,
            "overflow_y": null,
            "padding": null,
            "right": null,
            "top": null,
            "visibility": null,
            "width": null
          }
        },
        "161cdaef318a43849442c8b6a2826149": {
          "model_module": "@jupyter-widgets/controls",
          "model_name": "DescriptionStyleModel",
          "model_module_version": "1.5.0",
          "state": {
            "_model_module": "@jupyter-widgets/controls",
            "_model_module_version": "1.5.0",
            "_model_name": "DescriptionStyleModel",
            "_view_count": null,
            "_view_module": "@jupyter-widgets/base",
            "_view_module_version": "1.2.0",
            "_view_name": "StyleView",
            "description_width": ""
          }
        },
        "2dac342e112049aaa0048aaa45b3ebf9": {
          "model_module": "@jupyter-widgets/base",
          "model_name": "LayoutModel",
          "model_module_version": "1.2.0",
          "state": {
            "_model_module": "@jupyter-widgets/base",
            "_model_module_version": "1.2.0",
            "_model_name": "LayoutModel",
            "_view_count": null,
            "_view_module": "@jupyter-widgets/base",
            "_view_module_version": "1.2.0",
            "_view_name": "LayoutView",
            "align_content": null,
            "align_items": null,
            "align_self": null,
            "border": null,
            "bottom": null,
            "display": null,
            "flex": null,
            "flex_flow": null,
            "grid_area": null,
            "grid_auto_columns": null,
            "grid_auto_flow": null,
            "grid_auto_rows": null,
            "grid_column": null,
            "grid_gap": null,
            "grid_row": null,
            "grid_template_areas": null,
            "grid_template_columns": null,
            "grid_template_rows": null,
            "height": null,
            "justify_content": null,
            "justify_items": null,
            "left": null,
            "margin": null,
            "max_height": null,
            "max_width": null,
            "min_height": null,
            "min_width": null,
            "object_fit": null,
            "object_position": null,
            "order": null,
            "overflow": null,
            "overflow_x": null,
            "overflow_y": null,
            "padding": null,
            "right": null,
            "top": null,
            "visibility": null,
            "width": null
          }
        },
        "b7bc62298f4f492784d36f48e7a73d38": {
          "model_module": "@jupyter-widgets/controls",
          "model_name": "ProgressStyleModel",
          "model_module_version": "1.5.0",
          "state": {
            "_model_module": "@jupyter-widgets/controls",
            "_model_module_version": "1.5.0",
            "_model_name": "ProgressStyleModel",
            "_view_count": null,
            "_view_module": "@jupyter-widgets/base",
            "_view_module_version": "1.2.0",
            "_view_name": "StyleView",
            "bar_color": null,
            "description_width": ""
          }
        },
        "23986c42d2574490aa6b9101ebc7bd13": {
          "model_module": "@jupyter-widgets/base",
          "model_name": "LayoutModel",
          "model_module_version": "1.2.0",
          "state": {
            "_model_module": "@jupyter-widgets/base",
            "_model_module_version": "1.2.0",
            "_model_name": "LayoutModel",
            "_view_count": null,
            "_view_module": "@jupyter-widgets/base",
            "_view_module_version": "1.2.0",
            "_view_name": "LayoutView",
            "align_content": null,
            "align_items": null,
            "align_self": null,
            "border": null,
            "bottom": null,
            "display": null,
            "flex": null,
            "flex_flow": null,
            "grid_area": null,
            "grid_auto_columns": null,
            "grid_auto_flow": null,
            "grid_auto_rows": null,
            "grid_column": null,
            "grid_gap": null,
            "grid_row": null,
            "grid_template_areas": null,
            "grid_template_columns": null,
            "grid_template_rows": null,
            "height": null,
            "justify_content": null,
            "justify_items": null,
            "left": null,
            "margin": null,
            "max_height": null,
            "max_width": null,
            "min_height": null,
            "min_width": null,
            "object_fit": null,
            "object_position": null,
            "order": null,
            "overflow": null,
            "overflow_x": null,
            "overflow_y": null,
            "padding": null,
            "right": null,
            "top": null,
            "visibility": null,
            "width": null
          }
        },
        "cb3ae1ecae804b38bf16bbb90485a152": {
          "model_module": "@jupyter-widgets/controls",
          "model_name": "DescriptionStyleModel",
          "model_module_version": "1.5.0",
          "state": {
            "_model_module": "@jupyter-widgets/controls",
            "_model_module_version": "1.5.0",
            "_model_name": "DescriptionStyleModel",
            "_view_count": null,
            "_view_module": "@jupyter-widgets/base",
            "_view_module_version": "1.2.0",
            "_view_name": "StyleView",
            "description_width": ""
          }
        },
        "769000d1ba5d46afa3a21f7f83b2115e": {
          "model_module": "@jupyter-widgets/controls",
          "model_name": "HBoxModel",
          "model_module_version": "1.5.0",
          "state": {
            "_dom_classes": [],
            "_model_module": "@jupyter-widgets/controls",
            "_model_module_version": "1.5.0",
            "_model_name": "HBoxModel",
            "_view_count": null,
            "_view_module": "@jupyter-widgets/controls",
            "_view_module_version": "1.5.0",
            "_view_name": "HBoxView",
            "box_style": "",
            "children": [
              "IPY_MODEL_a7a45bd3d6474267a258465ac7ec20a6",
              "IPY_MODEL_051e6a18cd3f400599d4e6464f62efdf",
              "IPY_MODEL_50409d2459ab4a5ab87165378b170ea2"
            ],
            "layout": "IPY_MODEL_435d8981b9214e8da7ebe86265385c66"
          }
        },
        "a7a45bd3d6474267a258465ac7ec20a6": {
          "model_module": "@jupyter-widgets/controls",
          "model_name": "HTMLModel",
          "model_module_version": "1.5.0",
          "state": {
            "_dom_classes": [],
            "_model_module": "@jupyter-widgets/controls",
            "_model_module_version": "1.5.0",
            "_model_name": "HTMLModel",
            "_view_count": null,
            "_view_module": "@jupyter-widgets/controls",
            "_view_module_version": "1.5.0",
            "_view_name": "HTMLView",
            "description": "",
            "description_tooltip": null,
            "layout": "IPY_MODEL_f5502710005d4866ad928575e97424bb",
            "placeholder": "​",
            "style": "IPY_MODEL_bb5c6401edfa4c918316bd9bc1da0135",
            "value": "Downloading (…)solve/main/vocab.txt: 100%"
          }
        },
        "051e6a18cd3f400599d4e6464f62efdf": {
          "model_module": "@jupyter-widgets/controls",
          "model_name": "FloatProgressModel",
          "model_module_version": "1.5.0",
          "state": {
            "_dom_classes": [],
            "_model_module": "@jupyter-widgets/controls",
            "_model_module_version": "1.5.0",
            "_model_name": "FloatProgressModel",
            "_view_count": null,
            "_view_module": "@jupyter-widgets/controls",
            "_view_module_version": "1.5.0",
            "_view_name": "ProgressView",
            "bar_style": "success",
            "description": "",
            "description_tooltip": null,
            "layout": "IPY_MODEL_92454a461db343aaba5be88dfcc65dc4",
            "max": 241796,
            "min": 0,
            "orientation": "horizontal",
            "style": "IPY_MODEL_7c49c1449e1e46958a9e0c4bd89ab104",
            "value": 241796
          }
        },
        "50409d2459ab4a5ab87165378b170ea2": {
          "model_module": "@jupyter-widgets/controls",
          "model_name": "HTMLModel",
          "model_module_version": "1.5.0",
          "state": {
            "_dom_classes": [],
            "_model_module": "@jupyter-widgets/controls",
            "_model_module_version": "1.5.0",
            "_model_name": "HTMLModel",
            "_view_count": null,
            "_view_module": "@jupyter-widgets/controls",
            "_view_module_version": "1.5.0",
            "_view_name": "HTMLView",
            "description": "",
            "description_tooltip": null,
            "layout": "IPY_MODEL_eb1e4560e1894b63988a1c50ec906fe7",
            "placeholder": "​",
            "style": "IPY_MODEL_1d300a45a96944c3b7410bcfb59c7ba8",
            "value": " 242k/242k [00:00&lt;00:00, 575kB/s]"
          }
        },
        "435d8981b9214e8da7ebe86265385c66": {
          "model_module": "@jupyter-widgets/base",
          "model_name": "LayoutModel",
          "model_module_version": "1.2.0",
          "state": {
            "_model_module": "@jupyter-widgets/base",
            "_model_module_version": "1.2.0",
            "_model_name": "LayoutModel",
            "_view_count": null,
            "_view_module": "@jupyter-widgets/base",
            "_view_module_version": "1.2.0",
            "_view_name": "LayoutView",
            "align_content": null,
            "align_items": null,
            "align_self": null,
            "border": null,
            "bottom": null,
            "display": null,
            "flex": null,
            "flex_flow": null,
            "grid_area": null,
            "grid_auto_columns": null,
            "grid_auto_flow": null,
            "grid_auto_rows": null,
            "grid_column": null,
            "grid_gap": null,
            "grid_row": null,
            "grid_template_areas": null,
            "grid_template_columns": null,
            "grid_template_rows": null,
            "height": null,
            "justify_content": null,
            "justify_items": null,
            "left": null,
            "margin": null,
            "max_height": null,
            "max_width": null,
            "min_height": null,
            "min_width": null,
            "object_fit": null,
            "object_position": null,
            "order": null,
            "overflow": null,
            "overflow_x": null,
            "overflow_y": null,
            "padding": null,
            "right": null,
            "top": null,
            "visibility": null,
            "width": null
          }
        },
        "f5502710005d4866ad928575e97424bb": {
          "model_module": "@jupyter-widgets/base",
          "model_name": "LayoutModel",
          "model_module_version": "1.2.0",
          "state": {
            "_model_module": "@jupyter-widgets/base",
            "_model_module_version": "1.2.0",
            "_model_name": "LayoutModel",
            "_view_count": null,
            "_view_module": "@jupyter-widgets/base",
            "_view_module_version": "1.2.0",
            "_view_name": "LayoutView",
            "align_content": null,
            "align_items": null,
            "align_self": null,
            "border": null,
            "bottom": null,
            "display": null,
            "flex": null,
            "flex_flow": null,
            "grid_area": null,
            "grid_auto_columns": null,
            "grid_auto_flow": null,
            "grid_auto_rows": null,
            "grid_column": null,
            "grid_gap": null,
            "grid_row": null,
            "grid_template_areas": null,
            "grid_template_columns": null,
            "grid_template_rows": null,
            "height": null,
            "justify_content": null,
            "justify_items": null,
            "left": null,
            "margin": null,
            "max_height": null,
            "max_width": null,
            "min_height": null,
            "min_width": null,
            "object_fit": null,
            "object_position": null,
            "order": null,
            "overflow": null,
            "overflow_x": null,
            "overflow_y": null,
            "padding": null,
            "right": null,
            "top": null,
            "visibility": null,
            "width": null
          }
        },
        "bb5c6401edfa4c918316bd9bc1da0135": {
          "model_module": "@jupyter-widgets/controls",
          "model_name": "DescriptionStyleModel",
          "model_module_version": "1.5.0",
          "state": {
            "_model_module": "@jupyter-widgets/controls",
            "_model_module_version": "1.5.0",
            "_model_name": "DescriptionStyleModel",
            "_view_count": null,
            "_view_module": "@jupyter-widgets/base",
            "_view_module_version": "1.2.0",
            "_view_name": "StyleView",
            "description_width": ""
          }
        },
        "92454a461db343aaba5be88dfcc65dc4": {
          "model_module": "@jupyter-widgets/base",
          "model_name": "LayoutModel",
          "model_module_version": "1.2.0",
          "state": {
            "_model_module": "@jupyter-widgets/base",
            "_model_module_version": "1.2.0",
            "_model_name": "LayoutModel",
            "_view_count": null,
            "_view_module": "@jupyter-widgets/base",
            "_view_module_version": "1.2.0",
            "_view_name": "LayoutView",
            "align_content": null,
            "align_items": null,
            "align_self": null,
            "border": null,
            "bottom": null,
            "display": null,
            "flex": null,
            "flex_flow": null,
            "grid_area": null,
            "grid_auto_columns": null,
            "grid_auto_flow": null,
            "grid_auto_rows": null,
            "grid_column": null,
            "grid_gap": null,
            "grid_row": null,
            "grid_template_areas": null,
            "grid_template_columns": null,
            "grid_template_rows": null,
            "height": null,
            "justify_content": null,
            "justify_items": null,
            "left": null,
            "margin": null,
            "max_height": null,
            "max_width": null,
            "min_height": null,
            "min_width": null,
            "object_fit": null,
            "object_position": null,
            "order": null,
            "overflow": null,
            "overflow_x": null,
            "overflow_y": null,
            "padding": null,
            "right": null,
            "top": null,
            "visibility": null,
            "width": null
          }
        },
        "7c49c1449e1e46958a9e0c4bd89ab104": {
          "model_module": "@jupyter-widgets/controls",
          "model_name": "ProgressStyleModel",
          "model_module_version": "1.5.0",
          "state": {
            "_model_module": "@jupyter-widgets/controls",
            "_model_module_version": "1.5.0",
            "_model_name": "ProgressStyleModel",
            "_view_count": null,
            "_view_module": "@jupyter-widgets/base",
            "_view_module_version": "1.2.0",
            "_view_name": "StyleView",
            "bar_color": null,
            "description_width": ""
          }
        },
        "eb1e4560e1894b63988a1c50ec906fe7": {
          "model_module": "@jupyter-widgets/base",
          "model_name": "LayoutModel",
          "model_module_version": "1.2.0",
          "state": {
            "_model_module": "@jupyter-widgets/base",
            "_model_module_version": "1.2.0",
            "_model_name": "LayoutModel",
            "_view_count": null,
            "_view_module": "@jupyter-widgets/base",
            "_view_module_version": "1.2.0",
            "_view_name": "LayoutView",
            "align_content": null,
            "align_items": null,
            "align_self": null,
            "border": null,
            "bottom": null,
            "display": null,
            "flex": null,
            "flex_flow": null,
            "grid_area": null,
            "grid_auto_columns": null,
            "grid_auto_flow": null,
            "grid_auto_rows": null,
            "grid_column": null,
            "grid_gap": null,
            "grid_row": null,
            "grid_template_areas": null,
            "grid_template_columns": null,
            "grid_template_rows": null,
            "height": null,
            "justify_content": null,
            "justify_items": null,
            "left": null,
            "margin": null,
            "max_height": null,
            "max_width": null,
            "min_height": null,
            "min_width": null,
            "object_fit": null,
            "object_position": null,
            "order": null,
            "overflow": null,
            "overflow_x": null,
            "overflow_y": null,
            "padding": null,
            "right": null,
            "top": null,
            "visibility": null,
            "width": null
          }
        },
        "1d300a45a96944c3b7410bcfb59c7ba8": {
          "model_module": "@jupyter-widgets/controls",
          "model_name": "DescriptionStyleModel",
          "model_module_version": "1.5.0",
          "state": {
            "_model_module": "@jupyter-widgets/controls",
            "_model_module_version": "1.5.0",
            "_model_name": "DescriptionStyleModel",
            "_view_count": null,
            "_view_module": "@jupyter-widgets/base",
            "_view_module_version": "1.2.0",
            "_view_name": "StyleView",
            "description_width": ""
          }
        },
        "82554eb958704fe1a2cdd88020f79e53": {
          "model_module": "@jupyter-widgets/controls",
          "model_name": "HBoxModel",
          "model_module_version": "1.5.0",
          "state": {
            "_dom_classes": [],
            "_model_module": "@jupyter-widgets/controls",
            "_model_module_version": "1.5.0",
            "_model_name": "HBoxModel",
            "_view_count": null,
            "_view_module": "@jupyter-widgets/controls",
            "_view_module_version": "1.5.0",
            "_view_name": "HBoxView",
            "box_style": "",
            "children": [
              "IPY_MODEL_5925e47a1190461fb9c23f654f7fe4a5",
              "IPY_MODEL_2b75d3719d004cedb768a46702a69bb5",
              "IPY_MODEL_1e2be5d9a96c4b9296109d88e11b7565"
            ],
            "layout": "IPY_MODEL_36e4d8b9c322471a8f68e5934581450e"
          }
        },
        "5925e47a1190461fb9c23f654f7fe4a5": {
          "model_module": "@jupyter-widgets/controls",
          "model_name": "HTMLModel",
          "model_module_version": "1.5.0",
          "state": {
            "_dom_classes": [],
            "_model_module": "@jupyter-widgets/controls",
            "_model_module_version": "1.5.0",
            "_model_name": "HTMLModel",
            "_view_count": null,
            "_view_module": "@jupyter-widgets/controls",
            "_view_module_version": "1.5.0",
            "_view_name": "HTMLView",
            "description": "",
            "description_tooltip": null,
            "layout": "IPY_MODEL_491e0b432cf545d6ba311223c4832d91",
            "placeholder": "​",
            "style": "IPY_MODEL_09320ce1065b4d04b86eb7e4e0114f01",
            "value": "Downloading (…)/main/tokenizer.json: 100%"
          }
        },
        "2b75d3719d004cedb768a46702a69bb5": {
          "model_module": "@jupyter-widgets/controls",
          "model_name": "FloatProgressModel",
          "model_module_version": "1.5.0",
          "state": {
            "_dom_classes": [],
            "_model_module": "@jupyter-widgets/controls",
            "_model_module_version": "1.5.0",
            "_model_name": "FloatProgressModel",
            "_view_count": null,
            "_view_module": "@jupyter-widgets/controls",
            "_view_module_version": "1.5.0",
            "_view_name": "ProgressView",
            "bar_style": "success",
            "description": "",
            "description_tooltip": null,
            "layout": "IPY_MODEL_b3f574dbcc04477798d5f972802ecf6f",
            "max": 480199,
            "min": 0,
            "orientation": "horizontal",
            "style": "IPY_MODEL_bd5478cb3299422f84eea93dd280fa5a",
            "value": 480199
          }
        },
        "1e2be5d9a96c4b9296109d88e11b7565": {
          "model_module": "@jupyter-widgets/controls",
          "model_name": "HTMLModel",
          "model_module_version": "1.5.0",
          "state": {
            "_dom_classes": [],
            "_model_module": "@jupyter-widgets/controls",
            "_model_module_version": "1.5.0",
            "_model_name": "HTMLModel",
            "_view_count": null,
            "_view_module": "@jupyter-widgets/controls",
            "_view_module_version": "1.5.0",
            "_view_name": "HTMLView",
            "description": "",
            "description_tooltip": null,
            "layout": "IPY_MODEL_0472ad2ce7d5490991430345107a6228",
            "placeholder": "​",
            "style": "IPY_MODEL_b0f0bef4f76f4122ab628bde013a7fdc",
            "value": " 480k/480k [00:00&lt;00:00, 2.29MB/s]"
          }
        },
        "36e4d8b9c322471a8f68e5934581450e": {
          "model_module": "@jupyter-widgets/base",
          "model_name": "LayoutModel",
          "model_module_version": "1.2.0",
          "state": {
            "_model_module": "@jupyter-widgets/base",
            "_model_module_version": "1.2.0",
            "_model_name": "LayoutModel",
            "_view_count": null,
            "_view_module": "@jupyter-widgets/base",
            "_view_module_version": "1.2.0",
            "_view_name": "LayoutView",
            "align_content": null,
            "align_items": null,
            "align_self": null,
            "border": null,
            "bottom": null,
            "display": null,
            "flex": null,
            "flex_flow": null,
            "grid_area": null,
            "grid_auto_columns": null,
            "grid_auto_flow": null,
            "grid_auto_rows": null,
            "grid_column": null,
            "grid_gap": null,
            "grid_row": null,
            "grid_template_areas": null,
            "grid_template_columns": null,
            "grid_template_rows": null,
            "height": null,
            "justify_content": null,
            "justify_items": null,
            "left": null,
            "margin": null,
            "max_height": null,
            "max_width": null,
            "min_height": null,
            "min_width": null,
            "object_fit": null,
            "object_position": null,
            "order": null,
            "overflow": null,
            "overflow_x": null,
            "overflow_y": null,
            "padding": null,
            "right": null,
            "top": null,
            "visibility": null,
            "width": null
          }
        },
        "491e0b432cf545d6ba311223c4832d91": {
          "model_module": "@jupyter-widgets/base",
          "model_name": "LayoutModel",
          "model_module_version": "1.2.0",
          "state": {
            "_model_module": "@jupyter-widgets/base",
            "_model_module_version": "1.2.0",
            "_model_name": "LayoutModel",
            "_view_count": null,
            "_view_module": "@jupyter-widgets/base",
            "_view_module_version": "1.2.0",
            "_view_name": "LayoutView",
            "align_content": null,
            "align_items": null,
            "align_self": null,
            "border": null,
            "bottom": null,
            "display": null,
            "flex": null,
            "flex_flow": null,
            "grid_area": null,
            "grid_auto_columns": null,
            "grid_auto_flow": null,
            "grid_auto_rows": null,
            "grid_column": null,
            "grid_gap": null,
            "grid_row": null,
            "grid_template_areas": null,
            "grid_template_columns": null,
            "grid_template_rows": null,
            "height": null,
            "justify_content": null,
            "justify_items": null,
            "left": null,
            "margin": null,
            "max_height": null,
            "max_width": null,
            "min_height": null,
            "min_width": null,
            "object_fit": null,
            "object_position": null,
            "order": null,
            "overflow": null,
            "overflow_x": null,
            "overflow_y": null,
            "padding": null,
            "right": null,
            "top": null,
            "visibility": null,
            "width": null
          }
        },
        "09320ce1065b4d04b86eb7e4e0114f01": {
          "model_module": "@jupyter-widgets/controls",
          "model_name": "DescriptionStyleModel",
          "model_module_version": "1.5.0",
          "state": {
            "_model_module": "@jupyter-widgets/controls",
            "_model_module_version": "1.5.0",
            "_model_name": "DescriptionStyleModel",
            "_view_count": null,
            "_view_module": "@jupyter-widgets/base",
            "_view_module_version": "1.2.0",
            "_view_name": "StyleView",
            "description_width": ""
          }
        },
        "b3f574dbcc04477798d5f972802ecf6f": {
          "model_module": "@jupyter-widgets/base",
          "model_name": "LayoutModel",
          "model_module_version": "1.2.0",
          "state": {
            "_model_module": "@jupyter-widgets/base",
            "_model_module_version": "1.2.0",
            "_model_name": "LayoutModel",
            "_view_count": null,
            "_view_module": "@jupyter-widgets/base",
            "_view_module_version": "1.2.0",
            "_view_name": "LayoutView",
            "align_content": null,
            "align_items": null,
            "align_self": null,
            "border": null,
            "bottom": null,
            "display": null,
            "flex": null,
            "flex_flow": null,
            "grid_area": null,
            "grid_auto_columns": null,
            "grid_auto_flow": null,
            "grid_auto_rows": null,
            "grid_column": null,
            "grid_gap": null,
            "grid_row": null,
            "grid_template_areas": null,
            "grid_template_columns": null,
            "grid_template_rows": null,
            "height": null,
            "justify_content": null,
            "justify_items": null,
            "left": null,
            "margin": null,
            "max_height": null,
            "max_width": null,
            "min_height": null,
            "min_width": null,
            "object_fit": null,
            "object_position": null,
            "order": null,
            "overflow": null,
            "overflow_x": null,
            "overflow_y": null,
            "padding": null,
            "right": null,
            "top": null,
            "visibility": null,
            "width": null
          }
        },
        "bd5478cb3299422f84eea93dd280fa5a": {
          "model_module": "@jupyter-widgets/controls",
          "model_name": "ProgressStyleModel",
          "model_module_version": "1.5.0",
          "state": {
            "_model_module": "@jupyter-widgets/controls",
            "_model_module_version": "1.5.0",
            "_model_name": "ProgressStyleModel",
            "_view_count": null,
            "_view_module": "@jupyter-widgets/base",
            "_view_module_version": "1.2.0",
            "_view_name": "StyleView",
            "bar_color": null,
            "description_width": ""
          }
        },
        "0472ad2ce7d5490991430345107a6228": {
          "model_module": "@jupyter-widgets/base",
          "model_name": "LayoutModel",
          "model_module_version": "1.2.0",
          "state": {
            "_model_module": "@jupyter-widgets/base",
            "_model_module_version": "1.2.0",
            "_model_name": "LayoutModel",
            "_view_count": null,
            "_view_module": "@jupyter-widgets/base",
            "_view_module_version": "1.2.0",
            "_view_name": "LayoutView",
            "align_content": null,
            "align_items": null,
            "align_self": null,
            "border": null,
            "bottom": null,
            "display": null,
            "flex": null,
            "flex_flow": null,
            "grid_area": null,
            "grid_auto_columns": null,
            "grid_auto_flow": null,
            "grid_auto_rows": null,
            "grid_column": null,
            "grid_gap": null,
            "grid_row": null,
            "grid_template_areas": null,
            "grid_template_columns": null,
            "grid_template_rows": null,
            "height": null,
            "justify_content": null,
            "justify_items": null,
            "left": null,
            "margin": null,
            "max_height": null,
            "max_width": null,
            "min_height": null,
            "min_width": null,
            "object_fit": null,
            "object_position": null,
            "order": null,
            "overflow": null,
            "overflow_x": null,
            "overflow_y": null,
            "padding": null,
            "right": null,
            "top": null,
            "visibility": null,
            "width": null
          }
        },
        "b0f0bef4f76f4122ab628bde013a7fdc": {
          "model_module": "@jupyter-widgets/controls",
          "model_name": "DescriptionStyleModel",
          "model_module_version": "1.5.0",
          "state": {
            "_model_module": "@jupyter-widgets/controls",
            "_model_module_version": "1.5.0",
            "_model_name": "DescriptionStyleModel",
            "_view_count": null,
            "_view_module": "@jupyter-widgets/base",
            "_view_module_version": "1.2.0",
            "_view_name": "StyleView",
            "description_width": ""
          }
        },
        "b412c2a55082490da6874950db29511e": {
          "model_module": "@jupyter-widgets/controls",
          "model_name": "HBoxModel",
          "model_module_version": "1.5.0",
          "state": {
            "_dom_classes": [],
            "_model_module": "@jupyter-widgets/controls",
            "_model_module_version": "1.5.0",
            "_model_name": "HBoxModel",
            "_view_count": null,
            "_view_module": "@jupyter-widgets/controls",
            "_view_module_version": "1.5.0",
            "_view_name": "HBoxView",
            "box_style": "",
            "children": [
              "IPY_MODEL_ce5ab100e9e0434898f9b917cb635256",
              "IPY_MODEL_2bc96c61468549c7884820edfc363233",
              "IPY_MODEL_4c0b2aeeb784464787db91c206ae817f"
            ],
            "layout": "IPY_MODEL_7c5e626969954270aaabf05532fe0421"
          }
        },
        "ce5ab100e9e0434898f9b917cb635256": {
          "model_module": "@jupyter-widgets/controls",
          "model_name": "HTMLModel",
          "model_module_version": "1.5.0",
          "state": {
            "_dom_classes": [],
            "_model_module": "@jupyter-widgets/controls",
            "_model_module_version": "1.5.0",
            "_model_name": "HTMLModel",
            "_view_count": null,
            "_view_module": "@jupyter-widgets/controls",
            "_view_module_version": "1.5.0",
            "_view_name": "HTMLView",
            "description": "",
            "description_tooltip": null,
            "layout": "IPY_MODEL_6e0289166fb14029b41d94a88881649f",
            "placeholder": "​",
            "style": "IPY_MODEL_3b4045200a2646d28d8b679828fc7ed0",
            "value": "Downloading (…)cial_tokens_map.json: 100%"
          }
        },
        "2bc96c61468549c7884820edfc363233": {
          "model_module": "@jupyter-widgets/controls",
          "model_name": "FloatProgressModel",
          "model_module_version": "1.5.0",
          "state": {
            "_dom_classes": [],
            "_model_module": "@jupyter-widgets/controls",
            "_model_module_version": "1.5.0",
            "_model_name": "FloatProgressModel",
            "_view_count": null,
            "_view_module": "@jupyter-widgets/controls",
            "_view_module_version": "1.5.0",
            "_view_name": "ProgressView",
            "bar_style": "success",
            "description": "",
            "description_tooltip": null,
            "layout": "IPY_MODEL_7ec4900072df440487882496d0afca53",
            "max": 134,
            "min": 0,
            "orientation": "horizontal",
            "style": "IPY_MODEL_a78917e9180c4f639de3cc778927842d",
            "value": 134
          }
        },
        "4c0b2aeeb784464787db91c206ae817f": {
          "model_module": "@jupyter-widgets/controls",
          "model_name": "HTMLModel",
          "model_module_version": "1.5.0",
          "state": {
            "_dom_classes": [],
            "_model_module": "@jupyter-widgets/controls",
            "_model_module_version": "1.5.0",
            "_model_name": "HTMLModel",
            "_view_count": null,
            "_view_module": "@jupyter-widgets/controls",
            "_view_module_version": "1.5.0",
            "_view_name": "HTMLView",
            "description": "",
            "description_tooltip": null,
            "layout": "IPY_MODEL_2f1e0314c8e143868240cc4a89ff2eb7",
            "placeholder": "​",
            "style": "IPY_MODEL_7551556870a6444287a614535d7b04a7",
            "value": " 134/134 [00:00&lt;00:00, 9.68kB/s]"
          }
        },
        "7c5e626969954270aaabf05532fe0421": {
          "model_module": "@jupyter-widgets/base",
          "model_name": "LayoutModel",
          "model_module_version": "1.2.0",
          "state": {
            "_model_module": "@jupyter-widgets/base",
            "_model_module_version": "1.2.0",
            "_model_name": "LayoutModel",
            "_view_count": null,
            "_view_module": "@jupyter-widgets/base",
            "_view_module_version": "1.2.0",
            "_view_name": "LayoutView",
            "align_content": null,
            "align_items": null,
            "align_self": null,
            "border": null,
            "bottom": null,
            "display": null,
            "flex": null,
            "flex_flow": null,
            "grid_area": null,
            "grid_auto_columns": null,
            "grid_auto_flow": null,
            "grid_auto_rows": null,
            "grid_column": null,
            "grid_gap": null,
            "grid_row": null,
            "grid_template_areas": null,
            "grid_template_columns": null,
            "grid_template_rows": null,
            "height": null,
            "justify_content": null,
            "justify_items": null,
            "left": null,
            "margin": null,
            "max_height": null,
            "max_width": null,
            "min_height": null,
            "min_width": null,
            "object_fit": null,
            "object_position": null,
            "order": null,
            "overflow": null,
            "overflow_x": null,
            "overflow_y": null,
            "padding": null,
            "right": null,
            "top": null,
            "visibility": null,
            "width": null
          }
        },
        "6e0289166fb14029b41d94a88881649f": {
          "model_module": "@jupyter-widgets/base",
          "model_name": "LayoutModel",
          "model_module_version": "1.2.0",
          "state": {
            "_model_module": "@jupyter-widgets/base",
            "_model_module_version": "1.2.0",
            "_model_name": "LayoutModel",
            "_view_count": null,
            "_view_module": "@jupyter-widgets/base",
            "_view_module_version": "1.2.0",
            "_view_name": "LayoutView",
            "align_content": null,
            "align_items": null,
            "align_self": null,
            "border": null,
            "bottom": null,
            "display": null,
            "flex": null,
            "flex_flow": null,
            "grid_area": null,
            "grid_auto_columns": null,
            "grid_auto_flow": null,
            "grid_auto_rows": null,
            "grid_column": null,
            "grid_gap": null,
            "grid_row": null,
            "grid_template_areas": null,
            "grid_template_columns": null,
            "grid_template_rows": null,
            "height": null,
            "justify_content": null,
            "justify_items": null,
            "left": null,
            "margin": null,
            "max_height": null,
            "max_width": null,
            "min_height": null,
            "min_width": null,
            "object_fit": null,
            "object_position": null,
            "order": null,
            "overflow": null,
            "overflow_x": null,
            "overflow_y": null,
            "padding": null,
            "right": null,
            "top": null,
            "visibility": null,
            "width": null
          }
        },
        "3b4045200a2646d28d8b679828fc7ed0": {
          "model_module": "@jupyter-widgets/controls",
          "model_name": "DescriptionStyleModel",
          "model_module_version": "1.5.0",
          "state": {
            "_model_module": "@jupyter-widgets/controls",
            "_model_module_version": "1.5.0",
            "_model_name": "DescriptionStyleModel",
            "_view_count": null,
            "_view_module": "@jupyter-widgets/base",
            "_view_module_version": "1.2.0",
            "_view_name": "StyleView",
            "description_width": ""
          }
        },
        "7ec4900072df440487882496d0afca53": {
          "model_module": "@jupyter-widgets/base",
          "model_name": "LayoutModel",
          "model_module_version": "1.2.0",
          "state": {
            "_model_module": "@jupyter-widgets/base",
            "_model_module_version": "1.2.0",
            "_model_name": "LayoutModel",
            "_view_count": null,
            "_view_module": "@jupyter-widgets/base",
            "_view_module_version": "1.2.0",
            "_view_name": "LayoutView",
            "align_content": null,
            "align_items": null,
            "align_self": null,
            "border": null,
            "bottom": null,
            "display": null,
            "flex": null,
            "flex_flow": null,
            "grid_area": null,
            "grid_auto_columns": null,
            "grid_auto_flow": null,
            "grid_auto_rows": null,
            "grid_column": null,
            "grid_gap": null,
            "grid_row": null,
            "grid_template_areas": null,
            "grid_template_columns": null,
            "grid_template_rows": null,
            "height": null,
            "justify_content": null,
            "justify_items": null,
            "left": null,
            "margin": null,
            "max_height": null,
            "max_width": null,
            "min_height": null,
            "min_width": null,
            "object_fit": null,
            "object_position": null,
            "order": null,
            "overflow": null,
            "overflow_x": null,
            "overflow_y": null,
            "padding": null,
            "right": null,
            "top": null,
            "visibility": null,
            "width": null
          }
        },
        "a78917e9180c4f639de3cc778927842d": {
          "model_module": "@jupyter-widgets/controls",
          "model_name": "ProgressStyleModel",
          "model_module_version": "1.5.0",
          "state": {
            "_model_module": "@jupyter-widgets/controls",
            "_model_module_version": "1.5.0",
            "_model_name": "ProgressStyleModel",
            "_view_count": null,
            "_view_module": "@jupyter-widgets/base",
            "_view_module_version": "1.2.0",
            "_view_name": "StyleView",
            "bar_color": null,
            "description_width": ""
          }
        },
        "2f1e0314c8e143868240cc4a89ff2eb7": {
          "model_module": "@jupyter-widgets/base",
          "model_name": "LayoutModel",
          "model_module_version": "1.2.0",
          "state": {
            "_model_module": "@jupyter-widgets/base",
            "_model_module_version": "1.2.0",
            "_model_name": "LayoutModel",
            "_view_count": null,
            "_view_module": "@jupyter-widgets/base",
            "_view_module_version": "1.2.0",
            "_view_name": "LayoutView",
            "align_content": null,
            "align_items": null,
            "align_self": null,
            "border": null,
            "bottom": null,
            "display": null,
            "flex": null,
            "flex_flow": null,
            "grid_area": null,
            "grid_auto_columns": null,
            "grid_auto_flow": null,
            "grid_auto_rows": null,
            "grid_column": null,
            "grid_gap": null,
            "grid_row": null,
            "grid_template_areas": null,
            "grid_template_columns": null,
            "grid_template_rows": null,
            "height": null,
            "justify_content": null,
            "justify_items": null,
            "left": null,
            "margin": null,
            "max_height": null,
            "max_width": null,
            "min_height": null,
            "min_width": null,
            "object_fit": null,
            "object_position": null,
            "order": null,
            "overflow": null,
            "overflow_x": null,
            "overflow_y": null,
            "padding": null,
            "right": null,
            "top": null,
            "visibility": null,
            "width": null
          }
        },
        "7551556870a6444287a614535d7b04a7": {
          "model_module": "@jupyter-widgets/controls",
          "model_name": "DescriptionStyleModel",
          "model_module_version": "1.5.0",
          "state": {
            "_model_module": "@jupyter-widgets/controls",
            "_model_module_version": "1.5.0",
            "_model_name": "DescriptionStyleModel",
            "_view_count": null,
            "_view_module": "@jupyter-widgets/base",
            "_view_module_version": "1.2.0",
            "_view_name": "StyleView",
            "description_width": ""
          }
        }
      }
    }
  },
  "nbformat": 4,
  "nbformat_minor": 0
}